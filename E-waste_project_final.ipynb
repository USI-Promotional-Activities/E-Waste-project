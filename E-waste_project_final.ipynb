{
 "cells": [
  {
   "cell_type": "code",
   "execution_count": 1,
   "id": "0f0948b2",
   "metadata": {},
   "outputs": [],
   "source": [
    "from dateutil.parser import parse \n",
    "import matplotlib as mpl\n",
    "import matplotlib.pyplot as plt\n",
    "import seaborn as sns\n",
    "import numpy as np\n",
    "import pandas as pd\n",
    "import random"
   ]
  },
  {
   "cell_type": "markdown",
   "id": "3a51733e",
   "metadata": {},
   "source": [
    "#### Loading the data"
   ]
  },
  {
   "cell_type": "code",
   "execution_count": 2,
   "id": "5e1cf564",
   "metadata": {},
   "outputs": [],
   "source": [
    "df = pd.read_excel('query_bidoni_economia_domestica.xlsx', engine = 'openpyxl', parse_dates=['Data']  )\n",
    "# df = pd.read_excel('query_bidoni_economia_domestica.xlsx', engine = 'openpyxl', parse_dates=['Data'], index_col='Data' )"
   ]
  },
  {
   "cell_type": "code",
   "execution_count": 3,
   "id": "b5f91a6a",
   "metadata": {},
   "outputs": [],
   "source": [
    "del df['Unnamed: 5']\n",
    "del df['Unnamed: 6']"
   ]
  },
  {
   "cell_type": "code",
   "execution_count": 4,
   "id": "f1d2f973",
   "metadata": {},
   "outputs": [],
   "source": [
    "df.drop(df.tail(11).index,inplace=True)"
   ]
  },
  {
   "cell_type": "code",
   "execution_count": 5,
   "id": "55bb1730",
   "metadata": {},
   "outputs": [],
   "source": [
    "pd.options.display.float_format = '{:,.0f}'.format"
   ]
  },
  {
   "cell_type": "code",
   "execution_count": 6,
   "id": "9459dc06",
   "metadata": {},
   "outputs": [],
   "source": [
    "df['Usciti da Economia Domestica'].replace('', np.nan, inplace=True)"
   ]
  },
  {
   "cell_type": "code",
   "execution_count": 7,
   "id": "8a1b3697",
   "metadata": {},
   "outputs": [
    {
     "data": {
      "text/plain": [
       "60"
      ]
     },
     "execution_count": 7,
     "metadata": {},
     "output_type": "execute_result"
    }
   ],
   "source": [
    "pd.options.display.max_rows"
   ]
  },
  {
   "cell_type": "code",
   "execution_count": 8,
   "id": "2b819f57",
   "metadata": {},
   "outputs": [],
   "source": [
    "pd.set_option('display.max_rows', 60)"
   ]
  },
  {
   "cell_type": "code",
   "execution_count": 9,
   "id": "44cece54",
   "metadata": {},
   "outputs": [],
   "source": [
    "df = df.replace(r'\\s+', np.nan, regex=True)"
   ]
  },
  {
   "cell_type": "code",
   "execution_count": 10,
   "id": "c7fada1a",
   "metadata": {},
   "outputs": [],
   "source": [
    "df = df.dropna(axis=0, subset=['Usciti da Economia Domestica'])"
   ]
  },
  {
   "cell_type": "code",
   "execution_count": 11,
   "id": "4a097a43",
   "metadata": {},
   "outputs": [],
   "source": [
    "df['Data'] = pd.to_datetime(df['Data'])"
   ]
  },
  {
   "cell_type": "markdown",
   "id": "fe120d2d",
   "metadata": {},
   "source": [
    "#### predicting the number of bins used every week \n"
   ]
  },
  {
   "cell_type": "code",
   "execution_count": 12,
   "id": "173523f4",
   "metadata": {},
   "outputs": [],
   "source": [
    "## IT does not have the trend "
   ]
  },
  {
   "cell_type": "code",
   "execution_count": 13,
   "id": "ecb10e49",
   "metadata": {},
   "outputs": [
    {
     "data": {
      "text/plain": [
       "Giorno                                         object\n",
       "Data                                   datetime64[ns]\n",
       "Entrati In Economia Domestica                  object\n",
       "Usciti da Economia Domestica                   object\n",
       "Numero Bidoni in Economia Domestica           float64\n",
       "dtype: object"
      ]
     },
     "execution_count": 13,
     "metadata": {},
     "output_type": "execute_result"
    }
   ],
   "source": [
    "df.dtypes"
   ]
  },
  {
   "cell_type": "code",
   "execution_count": 14,
   "id": "a3947af3",
   "metadata": {},
   "outputs": [],
   "source": [
    "# df.groupby([df['Data'].dt.strftime('%W')])['Usciti da Economia Domestica'].sum()\n",
    "df['Data'] = pd.to_datetime(df['Data'])"
   ]
  },
  {
   "cell_type": "markdown",
   "id": "fd85cc47",
   "metadata": {},
   "source": [
    "## Converting the daily data to a weekly data as the bins are bought and distributed once in a week. "
   ]
  },
  {
   "cell_type": "code",
   "execution_count": 15,
   "id": "a0db27af",
   "metadata": {},
   "outputs": [],
   "source": [
    "df1 = df.resample('W', on='Data')['Usciti da Economia Domestica'].sum()\n",
    "# print(df1) \n",
    "# df1.plot(kind='line')"
   ]
  },
  {
   "cell_type": "markdown",
   "id": "6dda0f71",
   "metadata": {},
   "source": [
    "## Auto correlation\n",
    "\n",
    "Autocorrelation measures a set of current values against a set of past values to see if they correlate.\n",
    "\n",
    "This is done to check if there is any correlation between the number of bins used every week. \n",
    "\n",
    "The plot shows there is not significant auto correlation between the number of bins used. "
   ]
  },
  {
   "cell_type": "code",
   "execution_count": 16,
   "id": "155a90a1",
   "metadata": {},
   "outputs": [
    {
     "name": "stderr",
     "output_type": "stream",
     "text": [
      "/var/folders/l7/kgls0lzx1rbc1hrkt3fmx_d80000gn/T/ipykernel_2013/1104097475.py:2: FutureWarning: The pandas.datetime class is deprecated and will be removed from pandas in a future version. Import from datetime module instead.\n",
      "  from pandas import datetime\n"
     ]
    },
    {
     "data": {
      "image/png": "[encoded data removed]",
      "text/plain": [
       "<Figure size 432x288 with 1 Axes>"
      ]
     },
     "metadata": {
      "needs_background": "light"
     },
     "output_type": "display_data"
    },
    {
     "data": {
      "image/png": "[encoded data removed]",
      "text/plain": [
       "<Figure size 432x288 with 1 Axes>"
      ]
     },
     "metadata": {
      "needs_background": "light"
     },
     "output_type": "display_data"
    }
   ],
   "source": [
    "from pandas import read_csv\n",
    "from pandas import datetime\n",
    "from matplotlib import pyplot\n",
    "from pandas.plotting import autocorrelation_plot\n",
    "from statsmodels.graphics import tsaplots\n",
    "\n",
    "#### Autocorrelation measures a set of current values against a set of past values to see if they correlate. It is heavily used in time series analysis and forecasting.\n",
    "autocorrelation_plot(df1)\n",
    "\n",
    "fig = tsaplots.plot_acf(df['Usciti da Economia Domestica'], lags=24)\n",
    "\n",
    "plt.show()"
   ]
  },
  {
   "cell_type": "code",
   "execution_count": 17,
   "id": "f14424db",
   "metadata": {
    "scrolled": true
   },
   "outputs": [
    {
     "data": {
      "text/plain": [
       "Data\n",
       "2021-03-07    190\n",
       "2021-03-14    110\n",
       "2021-03-21    108\n",
       "2021-03-28    124\n",
       "2021-04-04    125\n",
       "2021-04-11     99\n",
       "2021-04-18     36\n",
       "2021-04-25    190\n",
       "2021-05-02    172\n",
       "2021-05-09     43\n",
       "2021-05-16    175\n",
       "2021-05-23     53\n",
       "2021-05-30    116\n",
       "2021-06-06     37\n",
       "2021-06-13    114\n",
       "2021-06-20    178\n",
       "2021-06-27    141\n",
       "2021-07-04    153\n",
       "2021-07-11     62\n",
       "2021-07-18    110\n",
       "2021-07-25     79\n",
       "Freq: W-SUN, Name: Usciti da Economia Domestica, dtype: object"
      ]
     },
     "execution_count": 17,
     "metadata": {},
     "output_type": "execute_result"
    }
   ],
   "source": [
    "df1"
   ]
  },
  {
   "cell_type": "markdown",
   "id": "25f34187",
   "metadata": {},
   "source": [
    "## Checking the monthly usage of bins "
   ]
  },
  {
   "cell_type": "code",
   "execution_count": 19,
   "id": "e760b629",
   "metadata": {
    "scrolled": true
   },
   "outputs": [
    {
     "data": {
      "text/plain": [
       "Data\n",
       "2021-03   89\n",
       "2021-04   37\n",
       "2021-05   28\n",
       "2021-06   31\n",
       "2021-07   40\n",
       "Freq: M, Name: Usciti da Economia Domestica, dtype: float64"
      ]
     },
     "execution_count": 19,
     "metadata": {},
     "output_type": "execute_result"
    }
   ],
   "source": [
    "df.groupby(pd.PeriodIndex(df['Data'], freq=\"M\"))['Usciti da Economia Domestica'].mean()"
   ]
  },
  {
   "cell_type": "markdown",
   "id": "58af795b",
   "metadata": {},
   "source": [
    "#### There is an hike during the month of March which could be because of the COVID. "
   ]
  },
  {
   "cell_type": "code",
   "execution_count": 20,
   "id": "f1b937c8",
   "metadata": {},
   "outputs": [
    {
     "data": {
      "text/plain": [
       "PeriodIndex(['2021-03-04', '2021-03-11', '2021-03-18', '2021-03-23',\n",
       "             '2021-03-25', '2021-03-30', '2021-04-01', '2021-04-08',\n",
       "             '2021-04-09', '2021-04-12', '2021-04-14', '2021-04-15',\n",
       "             '2021-04-16', '2021-04-19', '2021-04-20', '2021-04-21',\n",
       "             '2021-04-22', '2021-04-23', '2021-04-24', '2021-04-27',\n",
       "             '2021-04-28', '2021-04-29', '2021-04-30', '2021-05-06',\n",
       "             '2021-05-10', '2021-05-11', '2021-05-12', '2021-05-13',\n",
       "             '2021-05-14', '2021-05-17', '2021-05-18', '2021-05-19',\n",
       "             '2021-05-20', '2021-05-21', '2021-05-27', '2021-05-28',\n",
       "             '2021-05-31', '2021-06-04', '2021-06-07', '2021-06-08',\n",
       "             '2021-06-09', '2021-06-10', '2021-06-11', '2021-06-15',\n",
       "             '2021-06-16', '2021-06-17', '2021-06-21', '2021-06-24',\n",
       "             '2021-06-25', '2021-06-28', '2021-06-29', '2021-06-30',\n",
       "             '2021-07-01', '2021-07-05', '2021-07-07', '2021-07-08',\n",
       "             '2021-07-09', '2021-07-12', '2021-07-13', '2021-07-15',\n",
       "             '2021-07-19', '2021-07-22'],\n",
       "            dtype='period[D]', name='Data')"
      ]
     },
     "execution_count": 20,
     "metadata": {},
     "output_type": "execute_result"
    }
   ],
   "source": [
    "pd.PeriodIndex(df['Data'], freq=\"D\")"
   ]
  },
  {
   "cell_type": "code",
   "execution_count": 21,
   "id": "d9828c17",
   "metadata": {},
   "outputs": [],
   "source": [
    "# fig, ax = plt.subplots(figsize=(12, 12))\n",
    "\n",
    "# # Add x-axis and y-axis\n",
    "# ax.bar(df['Data'],\n",
    "#        df['Usciti da Economia Domestica'],\n",
    "#        color='purple')\n",
    "\n",
    "# # Set title and labels for axes\n",
    "# ax.set(xlabel=\"Date\",\n",
    "#        ylabel=\"Precipitation (inches)\",\n",
    "#        title=\"Daily Total Precipitation\\nJune - Aug 2005 for Boulder Creek\")\n",
    "\n",
    "# plt.setp(ax.get_xticklabels(), rotation=45)\n",
    "\n",
    "\n",
    "# plt.show()\n",
    "\n",
    "\n",
    "\n",
    "# def plot_df(df, x, y, title=\"\", xlabel='Date', ylabel='Value', dpi=100):\n",
    "#     plt.figure(figsize=(16,5), dpi=dpi)\n",
    "#     plt.plot(x, y, color='tab:red')\n",
    "#     plt.gca().set(title=title, xlabel=xlabel, ylabel=ylabel)\n",
    "#     plt.show()\n",
    "\n",
    "# plot_df(df, x=df['data'], y=df['Usciti da Economia Domestica'], title='Usciti da Economia Domestica')    \n",
    "import datetime\n",
    "# dates = df['Data']\n",
    "\n",
    "# x_values = [datetime.datetime.strptime(d,\"%m/%d/%Y\").date() for d in dates]\n",
    "# print(x_values)\n",
    "\n",
    "# ax1 = df1.plot.scatter(x= 'Data', y='Usciti da Economia Domestica', c='DarkBlue')"
   ]
  },
  {
   "cell_type": "code",
   "execution_count": 22,
   "id": "59a6ffbe",
   "metadata": {},
   "outputs": [
    {
     "data": {
      "image/png": "[encoded data removed]",
      "text/plain": [
       "<Figure size 432x288 with 1 Axes>"
      ]
     },
     "metadata": {
      "needs_background": "light"
     },
     "output_type": "display_data"
    }
   ],
   "source": [
    "df['Usciti da Economia Domestica'].plot(marker='o');"
   ]
  },
  {
   "cell_type": "code",
   "execution_count": 24,
   "id": "8d2ea849",
   "metadata": {},
   "outputs": [
    {
     "data": {
      "text/html": [
       "<div>\n",
       "<style scoped>\n",
       "    .dataframe tbody tr th:only-of-type {\n",
       "        vertical-align: middle;\n",
       "    }\n",
       "\n",
       "    .dataframe tbody tr th {\n",
       "        vertical-align: top;\n",
       "    }\n",
       "\n",
       "    .dataframe thead th {\n",
       "        text-align: right;\n",
       "    }\n",
       "</style>\n",
       "<table border=\"1\" class=\"dataframe\">\n",
       "  <thead>\n",
       "    <tr style=\"text-align: right;\">\n",
       "      <th></th>\n",
       "      <th>0</th>\n",
       "      <th>1</th>\n",
       "      <th>2</th>\n",
       "      <th>3</th>\n",
       "    </tr>\n",
       "  </thead>\n",
       "  <tbody>\n",
       "    <tr>\n",
       "      <th>0</th>\n",
       "      <td>19</td>\n",
       "      <td>63</td>\n",
       "      <td>95</td>\n",
       "      <td>45</td>\n",
       "    </tr>\n",
       "    <tr>\n",
       "      <th>1</th>\n",
       "      <td>64</td>\n",
       "      <td>99</td>\n",
       "      <td>83</td>\n",
       "      <td>84</td>\n",
       "    </tr>\n",
       "    <tr>\n",
       "      <th>2</th>\n",
       "      <td>43</td>\n",
       "      <td>56</td>\n",
       "      <td>95</td>\n",
       "      <td>79</td>\n",
       "    </tr>\n",
       "    <tr>\n",
       "      <th>3</th>\n",
       "      <td>48</td>\n",
       "      <td>6</td>\n",
       "      <td>90</td>\n",
       "      <td>49</td>\n",
       "    </tr>\n",
       "    <tr>\n",
       "      <th>4</th>\n",
       "      <td>93</td>\n",
       "      <td>92</td>\n",
       "      <td>74</td>\n",
       "      <td>64</td>\n",
       "    </tr>\n",
       "    <tr>\n",
       "      <th>...</th>\n",
       "      <td>...</td>\n",
       "      <td>...</td>\n",
       "      <td>...</td>\n",
       "      <td>...</td>\n",
       "    </tr>\n",
       "    <tr>\n",
       "      <th>360</th>\n",
       "      <td>35</td>\n",
       "      <td>84</td>\n",
       "      <td>38</td>\n",
       "      <td>99</td>\n",
       "    </tr>\n",
       "    <tr>\n",
       "      <th>361</th>\n",
       "      <td>51</td>\n",
       "      <td>54</td>\n",
       "      <td>30</td>\n",
       "      <td>28</td>\n",
       "    </tr>\n",
       "    <tr>\n",
       "      <th>362</th>\n",
       "      <td>54</td>\n",
       "      <td>65</td>\n",
       "      <td>23</td>\n",
       "      <td>95</td>\n",
       "    </tr>\n",
       "    <tr>\n",
       "      <th>363</th>\n",
       "      <td>15</td>\n",
       "      <td>10</td>\n",
       "      <td>31</td>\n",
       "      <td>29</td>\n",
       "    </tr>\n",
       "    <tr>\n",
       "      <th>364</th>\n",
       "      <td>87</td>\n",
       "      <td>26</td>\n",
       "      <td>79</td>\n",
       "      <td>17</td>\n",
       "    </tr>\n",
       "  </tbody>\n",
       "</table>\n",
       "<p>365 rows × 4 columns</p>\n",
       "</div>"
      ],
      "text/plain": [
       "      0   1   2   3\n",
       "0    19  63  95  45\n",
       "1    64  99  83  84\n",
       "2    43  56  95  79\n",
       "3    48   6  90  49\n",
       "4    93  92  74  64\n",
       "..   ..  ..  ..  ..\n",
       "360  35  84  38  99\n",
       "361  51  54  30  28\n",
       "362  54  65  23  95\n",
       "363  15  10  31  29\n",
       "364  87  26  79  17\n",
       "\n",
       "[365 rows x 4 columns]"
      ]
     },
     "execution_count": 24,
     "metadata": {},
     "output_type": "execute_result"
    }
   ],
   "source": [
    "df2 = pd.DataFrame(np.random.randint(0,100,size=(365, 4)))\n",
    "df2"
   ]
  },
  {
   "cell_type": "markdown",
   "id": "67f12e4c",
   "metadata": {},
   "source": [
    "#### Simulating the data for an year based on the existing values just randomly generating the values based on the data we already have. "
   ]
  },
  {
   "cell_type": "code",
   "execution_count": 106,
   "id": "cea8da8b",
   "metadata": {},
   "outputs": [],
   "source": [
    "n = 365   \n",
    "df1 = pd.DataFrame(dict(\n",
    "Entrati_In_Economia_Domestica=np.random.randint(1, max(df['Entrati In Economia Domestica']), size=n),\n",
    "   Usciti_da_Economia_Domestica=np.random.randint(1, max(df['Usciti da Economia Domestica']), size=n),\n",
    "    Numero_Bidoni_in_Economia_Domestica=np.random.randint(1, max(df['Numero Bidoni in Economia Domestica']), size=n),\n",
    "    numero_di_byte_restituiti=np.random.randint(1, max(df['Usciti da Economia Domestica']), size=n)\n",
    "))"
   ]
  },
  {
   "cell_type": "code",
   "execution_count": 26,
   "id": "af72e8db",
   "metadata": {},
   "outputs": [
    {
     "data": {
      "text/html": [
       "<div>\n",
       "<style scoped>\n",
       "    .dataframe tbody tr th:only-of-type {\n",
       "        vertical-align: middle;\n",
       "    }\n",
       "\n",
       "    .dataframe tbody tr th {\n",
       "        vertical-align: top;\n",
       "    }\n",
       "\n",
       "    .dataframe thead th {\n",
       "        text-align: right;\n",
       "    }\n",
       "</style>\n",
       "<table border=\"1\" class=\"dataframe\">\n",
       "  <thead>\n",
       "    <tr style=\"text-align: right;\">\n",
       "      <th></th>\n",
       "      <th>Entrati_In_Economia_Domestica</th>\n",
       "      <th>Usciti_da_Economia_Domestica</th>\n",
       "      <th>Numero_Bidoni_in_Economia_Domestica</th>\n",
       "      <th>numero_di_byte_restituiti</th>\n",
       "    </tr>\n",
       "  </thead>\n",
       "  <tbody>\n",
       "    <tr>\n",
       "      <th>0</th>\n",
       "      <td>250</td>\n",
       "      <td>157</td>\n",
       "      <td>83</td>\n",
       "      <td>143</td>\n",
       "    </tr>\n",
       "    <tr>\n",
       "      <th>1</th>\n",
       "      <td>202</td>\n",
       "      <td>146</td>\n",
       "      <td>106</td>\n",
       "      <td>92</td>\n",
       "    </tr>\n",
       "    <tr>\n",
       "      <th>2</th>\n",
       "      <td>391</td>\n",
       "      <td>16</td>\n",
       "      <td>262</td>\n",
       "      <td>169</td>\n",
       "    </tr>\n",
       "    <tr>\n",
       "      <th>3</th>\n",
       "      <td>378</td>\n",
       "      <td>158</td>\n",
       "      <td>202</td>\n",
       "      <td>128</td>\n",
       "    </tr>\n",
       "    <tr>\n",
       "      <th>4</th>\n",
       "      <td>210</td>\n",
       "      <td>184</td>\n",
       "      <td>273</td>\n",
       "      <td>19</td>\n",
       "    </tr>\n",
       "    <tr>\n",
       "      <th>...</th>\n",
       "      <td>...</td>\n",
       "      <td>...</td>\n",
       "      <td>...</td>\n",
       "      <td>...</td>\n",
       "    </tr>\n",
       "    <tr>\n",
       "      <th>360</th>\n",
       "      <td>419</td>\n",
       "      <td>180</td>\n",
       "      <td>267</td>\n",
       "      <td>163</td>\n",
       "    </tr>\n",
       "    <tr>\n",
       "      <th>361</th>\n",
       "      <td>418</td>\n",
       "      <td>40</td>\n",
       "      <td>43</td>\n",
       "      <td>27</td>\n",
       "    </tr>\n",
       "    <tr>\n",
       "      <th>362</th>\n",
       "      <td>5</td>\n",
       "      <td>160</td>\n",
       "      <td>212</td>\n",
       "      <td>22</td>\n",
       "    </tr>\n",
       "    <tr>\n",
       "      <th>363</th>\n",
       "      <td>98</td>\n",
       "      <td>97</td>\n",
       "      <td>212</td>\n",
       "      <td>71</td>\n",
       "    </tr>\n",
       "    <tr>\n",
       "      <th>364</th>\n",
       "      <td>19</td>\n",
       "      <td>73</td>\n",
       "      <td>68</td>\n",
       "      <td>152</td>\n",
       "    </tr>\n",
       "  </tbody>\n",
       "</table>\n",
       "<p>365 rows × 4 columns</p>\n",
       "</div>"
      ],
      "text/plain": [
       "     Entrati_In_Economia_Domestica  Usciti_da_Economia_Domestica  \\\n",
       "0                              250                           157   \n",
       "1                              202                           146   \n",
       "2                              391                            16   \n",
       "3                              378                           158   \n",
       "4                              210                           184   \n",
       "..                             ...                           ...   \n",
       "360                            419                           180   \n",
       "361                            418                            40   \n",
       "362                              5                           160   \n",
       "363                             98                            97   \n",
       "364                             19                            73   \n",
       "\n",
       "     Numero_Bidoni_in_Economia_Domestica  numero_di_byte_restituiti  \n",
       "0                                     83                        143  \n",
       "1                                    106                         92  \n",
       "2                                    262                        169  \n",
       "3                                    202                        128  \n",
       "4                                    273                         19  \n",
       "..                                   ...                        ...  \n",
       "360                                  267                        163  \n",
       "361                                   43                         27  \n",
       "362                                  212                         22  \n",
       "363                                  212                         71  \n",
       "364                                   68                        152  \n",
       "\n",
       "[365 rows x 4 columns]"
      ]
     },
     "execution_count": 26,
     "metadata": {},
     "output_type": "execute_result"
    }
   ],
   "source": [
    "df1"
   ]
  },
  {
   "cell_type": "code",
   "execution_count": 27,
   "id": "649f554d",
   "metadata": {},
   "outputs": [
    {
     "data": {
      "text/plain": [
       "190"
      ]
     },
     "execution_count": 27,
     "metadata": {},
     "output_type": "execute_result"
    }
   ],
   "source": [
    "# df1.apply(lambda row: row.Entrati_In_Economia_Domestica + row.b, axis=1)\n",
    "df['Usciti da Economia Domestica'][3]"
   ]
  },
  {
   "cell_type": "code",
   "execution_count": 28,
   "id": "9d98aeaf",
   "metadata": {},
   "outputs": [
    {
     "name": "stderr",
     "output_type": "stream",
     "text": [
      "/var/folders/l7/kgls0lzx1rbc1hrkt3fmx_d80000gn/T/ipykernel_2013/3134563180.py:11: SettingWithCopyWarning: \n",
      "A value is trying to be set on a copy of a slice from a DataFrame\n",
      "\n",
      "See the caveats in the documentation: https://pandas.pydata.org/pandas-docs/stable/user_guide/indexing.html#returning-a-view-versus-a-copy\n",
      "  df['Entrati_In_Economia_Domestica'][mask] = 0\n"
     ]
    }
   ],
   "source": [
    "day = 24 * 60 * 60\n",
    "year = 365.2425 * day\n",
    "\n",
    "\n",
    "def load_dataframe() -> pd.DataFrame:\n",
    "    \"\"\" Create a time series x sin wave dataframe. \"\"\"\n",
    "    df = pd.DataFrame(columns=['data', 'Entrati_In_Economia_Domestica','Usciti_da_Economia_Domestica','Numero_Bidoni_in_Economia_Domestica'])\n",
    "    df.data = pd.date_range(start='2017-01-01', end='2020-03-01', freq='W')\n",
    "    df['Entrati_In_Economia_Domestica'] = np.random.randint(50, 200,size = len(df))\n",
    "    mask = np.random.choice([1, 0], df['Entrati_In_Economia_Domestica'].shape, p=[.4, .6]).astype(bool)\n",
    "    df['Entrati_In_Economia_Domestica'][mask] = 0\n",
    "    s = df['Entrati_In_Economia_Domestica']\n",
    "    \n",
    "#     df.(Entrati_In_Economia_Domestica)\n",
    "#     df.sin = 1 + np.sin(df.date.astype('int64') // 1e9 * (2 * np.pi / year))\n",
    "#     df.sin = (df.sin * 100).round(2)\n",
    "    \n",
    "    df.data = df.data.apply(lambda d: d.strftime('%Y-%m-%d'))\n",
    "    return df\n",
    "\n",
    "train_df = load_dataframe()"
   ]
  },
  {
   "cell_type": "code",
   "execution_count": 29,
   "id": "69a78dbd",
   "metadata": {},
   "outputs": [],
   "source": [
    "# Random generation of Usciti_da_Economia_Domestica coloumn. \n",
    "train_df['Usciti_da_Economia_Domestica'] = train_df['Entrati_In_Economia_Domestica'].apply(lambda x: np.random.randint(20, x) if x!= 0 else x)"
   ]
  },
  {
   "cell_type": "code",
   "execution_count": 107,
   "id": "a231f39a",
   "metadata": {},
   "outputs": [],
   "source": [
    "# calculating number of bins left in the storage area. \n",
    "train_df['Numero_Bidoni_in_Economia_Domestica'] = train_df['Entrati_In_Economia_Domestica'] - train_df['Usciti_da_Economia_Domestica']"
   ]
  },
  {
   "cell_type": "code",
   "execution_count": 31,
   "id": "0d53764b",
   "metadata": {},
   "outputs": [],
   "source": [
    "#adding lags\n",
    "for inc in range(1,13):\n",
    "    field_name = 'lag_' + str(inc)\n",
    "    train_df[field_name] = train_df['Usciti_da_Economia_Domestica'].shift(inc)\n",
    "\n",
    "#drop null values\n",
    "train_df = train_df.dropna().reset_index(drop=True)\n"
   ]
  },
  {
   "cell_type": "code",
   "execution_count": 32,
   "id": "767fc7b7",
   "metadata": {
    "scrolled": true
   },
   "outputs": [
    {
     "name": "stdout",
     "output_type": "stream",
     "text": [
      "0.0030939557361109316\n"
     ]
    }
   ],
   "source": [
    "# Import statsmodels.formula.api\n",
    "import statsmodels.formula.api as smf\n",
    "# Define the regression formula\n",
    "model = smf.ols(formula='Usciti_da_Economia_Domestica ~ lag_1 + lag_2 + lag_3+ lag_4+ lag_5+ lag_6+ lag_7+ lag_8+ lag_9+ lag_10 + lag_11', data=train_df)\n",
    "# Fit the regression\n",
    "model_fit = model.fit()\n",
    "# Extract the adjusted r-squared\n",
    "regression_adj_rsq = model_fit.rsquared_adj\n",
    "print(regression_adj_rsq)"
   ]
  },
  {
   "cell_type": "code",
   "execution_count": 33,
   "id": "a495347a",
   "metadata": {
    "scrolled": true
   },
   "outputs": [],
   "source": [
    "#import MinMaxScaler and create a new dataframe for LSTM model\n",
    "from sklearn.preprocessing import MinMaxScaler\n",
    "df_model = df1.drop(['Entrati_In_Economia_Domestica','Numero_Bidoni_in_Economia_Domestica','numero_di_byte_restituiti'],axis=1)\n",
    "#split train and test set\n",
    "train_set, test_set = df_model[0:-6].values, df_model[-6:].values"
   ]
  },
  {
   "cell_type": "code",
   "execution_count": 34,
   "id": "b77213c8",
   "metadata": {},
   "outputs": [],
   "source": [
    "#apply Min Max Scaler\n",
    "scaler = MinMaxScaler(feature_range=(-1, 1))\n",
    "scaler = scaler.fit(train_set)\n",
    "# reshape training set\n",
    "train_set = train_set.reshape(train_set.shape[0], train_set.shape[1])\n",
    "train_set_scaled = scaler.transform(train_set)\n",
    "# reshape test set\n",
    "test_set = test_set.reshape(test_set.shape[0], test_set.shape[1])\n",
    "test_set_scaled = scaler.transform(test_set)"
   ]
  },
  {
   "cell_type": "code",
   "execution_count": 35,
   "id": "5202002e",
   "metadata": {},
   "outputs": [],
   "source": [
    "X_train, y_train = train_set_scaled[:, 1:], train_set_scaled[:, 0:1]\n",
    "X_train = X_train.reshape(X_train.shape[0], 1, X_train.shape[1])\n",
    "X_test, y_test = test_set_scaled[:, 1:], test_set_scaled[:, 0:1]\n",
    "X_test = X_test.reshape(X_test.shape[0], 1, X_test.shape[1])"
   ]
  },
  {
   "cell_type": "code",
   "execution_count": 36,
   "id": "56a0c22a",
   "metadata": {},
   "outputs": [],
   "source": [
    "# !pip3 install tensorflow"
   ]
  },
  {
   "cell_type": "code",
   "execution_count": 37,
   "id": "5b7a3ea9",
   "metadata": {},
   "outputs": [],
   "source": [
    "import keras\n",
    "from keras.layers import Dense\n",
    "from keras.models import Sequential\n",
    "from tensorflow.keras.optimizers import Adam\n",
    "\n",
    "# from keras.optimizers import Adam \n",
    "from keras.callbacks import EarlyStopping\n",
    "from keras.utils import np_utils\n",
    "from keras.layers import LSTM\n",
    "from sklearn.model_selection import KFold, cross_val_score, train_test_split\n"
   ]
  },
  {
   "cell_type": "code",
   "execution_count": 38,
   "id": "c6cdb89b",
   "metadata": {
    "scrolled": true
   },
   "outputs": [
    {
     "name": "stderr",
     "output_type": "stream",
     "text": [
      "2021-11-11 23:27:38.549727: I tensorflow/core/platform/cpu_feature_guard.cc:142] This TensorFlow binary is optimized with oneAPI Deep Neural Network Library (oneDNN) to use the following CPU instructions in performance-critical operations:  AVX2 FMA\n",
      "To enable them in other operations, rebuild TensorFlow with the appropriate compiler flags.\n",
      "2021-11-11 23:27:38.901105: I tensorflow/compiler/mlir/mlir_graph_optimization_pass.cc:185] None of the MLIR Optimization Passes are enabled (registered 2)\n"
     ]
    },
    {
     "name": "stdout",
     "output_type": "stream",
     "text": [
      "Epoch 1/100\n",
      "359/359 [==============================] - 2s 1ms/step - loss: 0.3296\n",
      "Epoch 2/100\n",
      "359/359 [==============================] - 0s 1ms/step - loss: 0.3294\n",
      "Epoch 3/100\n",
      "359/359 [==============================] - 0s 795us/step - loss: 0.3294\n",
      "Epoch 4/100\n",
      "359/359 [==============================] - 0s 782us/step - loss: 0.3293\n",
      "Epoch 5/100\n",
      "359/359 [==============================] - 0s 902us/step - loss: 0.3293\n",
      "Epoch 6/100\n",
      "359/359 [==============================] - 0s 860us/step - loss: 0.3293\n",
      "Epoch 7/100\n",
      "359/359 [==============================] - 0s 1ms/step - loss: 0.3292\n",
      "Epoch 8/100\n",
      "359/359 [==============================] - 0s 912us/step - loss: 0.3292\n",
      "Epoch 9/100\n",
      "359/359 [==============================] - 0s 899us/step - loss: 0.3292\n",
      "Epoch 10/100\n",
      "359/359 [==============================] - 0s 958us/step - loss: 0.3292\n",
      "Epoch 11/100\n",
      "359/359 [==============================] - 0s 929us/step - loss: 0.3292\n",
      "Epoch 12/100\n",
      "359/359 [==============================] - 0s 861us/step - loss: 0.3292\n",
      "Epoch 13/100\n",
      "359/359 [==============================] - 0s 966us/step - loss: 0.3292\n",
      "Epoch 14/100\n",
      "359/359 [==============================] - 0s 864us/step - loss: 0.3291\n",
      "Epoch 15/100\n",
      "359/359 [==============================] - 0s 914us/step - loss: 0.3291\n",
      "Epoch 16/100\n",
      "359/359 [==============================] - 0s 833us/step - loss: 0.3291\n",
      "Epoch 17/100\n",
      "359/359 [==============================] - 0s 804us/step - loss: 0.3291\n",
      "Epoch 18/100\n",
      "359/359 [==============================] - 0s 870us/step - loss: 0.3291\n",
      "Epoch 19/100\n",
      "359/359 [==============================] - 0s 798us/step - loss: 0.3291\n",
      "Epoch 20/100\n",
      "359/359 [==============================] - 0s 925us/step - loss: 0.3291\n",
      "Epoch 21/100\n",
      "359/359 [==============================] - 0s 1ms/step - loss: 0.3291\n",
      "Epoch 22/100\n",
      "359/359 [==============================] - 0s 970us/step - loss: 0.3291\n",
      "Epoch 23/100\n",
      "359/359 [==============================] - 0s 866us/step - loss: 0.3291\n",
      "Epoch 24/100\n",
      "359/359 [==============================] - 0s 829us/step - loss: 0.3290\n",
      "Epoch 25/100\n",
      "359/359 [==============================] - 0s 874us/step - loss: 0.3290\n",
      "Epoch 26/100\n",
      "359/359 [==============================] - 0s 857us/step - loss: 0.3290\n",
      "Epoch 27/100\n",
      "359/359 [==============================] - 0s 826us/step - loss: 0.3290\n",
      "Epoch 28/100\n",
      "359/359 [==============================] - 0s 831us/step - loss: 0.3290\n",
      "Epoch 29/100\n",
      "359/359 [==============================] - 0s 843us/step - loss: 0.3290\n",
      "Epoch 30/100\n",
      "359/359 [==============================] - 0s 912us/step - loss: 0.3290\n",
      "Epoch 31/100\n",
      "359/359 [==============================] - 0s 1ms/step - loss: 0.3290\n",
      "Epoch 32/100\n",
      "359/359 [==============================] - 0s 972us/step - loss: 0.3290\n",
      "Epoch 33/100\n",
      "359/359 [==============================] - 0s 962us/step - loss: 0.3290\n",
      "Epoch 34/100\n",
      "359/359 [==============================] - 0s 1ms/step - loss: 0.3290\n",
      "Epoch 35/100\n",
      "359/359 [==============================] - 0s 948us/step - loss: 0.3290\n",
      "Epoch 36/100\n",
      "359/359 [==============================] - 0s 974us/step - loss: 0.3290\n",
      "Epoch 37/100\n",
      "359/359 [==============================] - 0s 1ms/step - loss: 0.3290\n",
      "Epoch 38/100\n",
      "359/359 [==============================] - 0s 1ms/step - loss: 0.3290\n",
      "Epoch 39/100\n",
      "359/359 [==============================] - 0s 908us/step - loss: 0.3290\n",
      "Epoch 40/100\n",
      "359/359 [==============================] - 0s 979us/step - loss: 0.3290\n",
      "Epoch 41/100\n",
      "359/359 [==============================] - 0s 997us/step - loss: 0.3290\n",
      "Epoch 42/100\n",
      "359/359 [==============================] - 0s 976us/step - loss: 0.3290\n",
      "Epoch 43/100\n",
      "359/359 [==============================] - 0s 938us/step - loss: 0.3290\n",
      "Epoch 44/100\n",
      "359/359 [==============================] - 0s 1ms/step - loss: 0.3290\n",
      "Epoch 45/100\n",
      "359/359 [==============================] - 0s 1ms/step - loss: 0.3290\n",
      "Epoch 46/100\n",
      "359/359 [==============================] - 0s 1ms/step - loss: 0.3290\n",
      "Epoch 47/100\n",
      "359/359 [==============================] - 0s 1ms/step - loss: 0.3289\n",
      "Epoch 48/100\n",
      "359/359 [==============================] - 0s 1ms/step - loss: 0.3289\n",
      "Epoch 49/100\n",
      "359/359 [==============================] - 0s 1ms/step - loss: 0.3289\n",
      "Epoch 50/100\n",
      "359/359 [==============================] - 0s 906us/step - loss: 0.3289\n",
      "Epoch 51/100\n",
      "359/359 [==============================] - 0s 993us/step - loss: 0.3289\n",
      "Epoch 52/100\n",
      "359/359 [==============================] - 0s 1ms/step - loss: 0.3289\n",
      "Epoch 53/100\n",
      "359/359 [==============================] - 0s 946us/step - loss: 0.3289\n",
      "Epoch 54/100\n",
      "359/359 [==============================] - 0s 1ms/step - loss: 0.3289\n",
      "Epoch 55/100\n",
      "359/359 [==============================] - 0s 960us/step - loss: 0.3289\n",
      "Epoch 56/100\n",
      "359/359 [==============================] - 0s 961us/step - loss: 0.3289\n",
      "Epoch 57/100\n",
      "359/359 [==============================] - 0s 873us/step - loss: 0.3289\n",
      "Epoch 58/100\n",
      "359/359 [==============================] - 0s 951us/step - loss: 0.3289\n",
      "Epoch 59/100\n",
      "359/359 [==============================] - 0s 982us/step - loss: 0.3289\n",
      "Epoch 60/100\n",
      "359/359 [==============================] - 0s 943us/step - loss: 0.3289\n",
      "Epoch 61/100\n",
      "359/359 [==============================] - 0s 910us/step - loss: 0.3289\n",
      "Epoch 62/100\n",
      "359/359 [==============================] - 0s 966us/step - loss: 0.3289\n",
      "Epoch 63/100\n",
      "359/359 [==============================] - 0s 968us/step - loss: 0.3289\n",
      "Epoch 64/100\n",
      "359/359 [==============================] - 0s 882us/step - loss: 0.3289\n",
      "Epoch 65/100\n",
      "359/359 [==============================] - 0s 821us/step - loss: 0.3289\n",
      "Epoch 66/100\n",
      "359/359 [==============================] - 0s 799us/step - loss: 0.3289\n",
      "Epoch 67/100\n",
      "359/359 [==============================] - 0s 869us/step - loss: 0.3289\n",
      "Epoch 68/100\n",
      "359/359 [==============================] - 0s 861us/step - loss: 0.3289\n",
      "Epoch 69/100\n",
      "359/359 [==============================] - 0s 839us/step - loss: 0.3289\n",
      "Epoch 70/100\n",
      "359/359 [==============================] - 0s 873us/step - loss: 0.3289\n",
      "Epoch 71/100\n",
      "359/359 [==============================] - 0s 876us/step - loss: 0.3289\n",
      "Epoch 72/100\n",
      "359/359 [==============================] - 0s 1ms/step - loss: 0.3289\n",
      "Epoch 73/100\n",
      "359/359 [==============================] - 0s 963us/step - loss: 0.3289\n",
      "Epoch 74/100\n",
      "359/359 [==============================] - 0s 874us/step - loss: 0.3289\n",
      "Epoch 75/100\n",
      "359/359 [==============================] - 0s 815us/step - loss: 0.3289\n",
      "Epoch 76/100\n",
      "359/359 [==============================] - 0s 933us/step - loss: 0.3289\n",
      "Epoch 77/100\n",
      "359/359 [==============================] - 0s 987us/step - loss: 0.3289\n",
      "Epoch 78/100\n",
      "359/359 [==============================] - 0s 963us/step - loss: 0.3289\n",
      "Epoch 79/100\n",
      "359/359 [==============================] - 0s 945us/step - loss: 0.3289\n",
      "Epoch 80/100\n",
      "359/359 [==============================] - 0s 967us/step - loss: 0.3289\n",
      "Epoch 81/100\n",
      "359/359 [==============================] - 0s 938us/step - loss: 0.3289\n",
      "Epoch 82/100\n",
      "359/359 [==============================] - 0s 995us/step - loss: 0.3289\n",
      "Epoch 83/100\n",
      "359/359 [==============================] - 0s 913us/step - loss: 0.3289\n",
      "Epoch 84/100\n",
      "359/359 [==============================] - 0s 946us/step - loss: 0.3289\n",
      "Epoch 85/100\n",
      "359/359 [==============================] - 0s 986us/step - loss: 0.3289\n",
      "Epoch 86/100\n",
      "359/359 [==============================] - 0s 898us/step - loss: 0.3289\n",
      "Epoch 87/100\n",
      "359/359 [==============================] - 0s 990us/step - loss: 0.3289\n",
      "Epoch 88/100\n",
      "359/359 [==============================] - 0s 975us/step - loss: 0.3289\n",
      "Epoch 89/100\n",
      "359/359 [==============================] - 0s 973us/step - loss: 0.3289\n",
      "Epoch 90/100\n",
      "359/359 [==============================] - 0s 956us/step - loss: 0.3288\n",
      "Epoch 91/100\n",
      "359/359 [==============================] - 0s 927us/step - loss: 0.3288\n",
      "Epoch 92/100\n",
      "359/359 [==============================] - 0s 958us/step - loss: 0.3288\n",
      "Epoch 93/100\n",
      "359/359 [==============================] - 0s 913us/step - loss: 0.3288\n",
      "Epoch 94/100\n",
      "359/359 [==============================] - 0s 996us/step - loss: 0.3288\n",
      "Epoch 95/100\n",
      "359/359 [==============================] - 0s 943us/step - loss: 0.3288\n",
      "Epoch 96/100\n",
      "359/359 [==============================] - 0s 972us/step - loss: 0.3288\n",
      "Epoch 97/100\n"
     ]
    },
    {
     "name": "stdout",
     "output_type": "stream",
     "text": [
      "359/359 [==============================] - 0s 914us/step - loss: 0.3288\n",
      "Epoch 98/100\n",
      "359/359 [==============================] - 0s 955us/step - loss: 0.3288\n",
      "Epoch 99/100\n",
      "359/359 [==============================] - 0s 969us/step - loss: 0.3288\n",
      "Epoch 100/100\n",
      "359/359 [==============================] - 0s 860us/step - loss: 0.3288\n"
     ]
    },
    {
     "data": {
      "text/plain": [
       "<keras.callbacks.History at 0x15b970670>"
      ]
     },
     "execution_count": 38,
     "metadata": {},
     "output_type": "execute_result"
    }
   ],
   "source": [
    "model = Sequential()\n",
    "model.add(LSTM(4, batch_input_shape=(1, X_train.shape[1], X_train.shape[2]), stateful=True))\n",
    "model.add(Dense(1))\n",
    "model.compile(loss='mean_squared_error', optimizer='Adam')\n",
    "model.fit(X_train, y_train, epochs=100, batch_size=1, verbose=1, shuffle=False)"
   ]
  },
  {
   "cell_type": "code",
   "execution_count": 39,
   "id": "653863c5",
   "metadata": {},
   "outputs": [],
   "source": [
    "y_pred = model.predict(X_test,batch_size=1)\n",
    "#for multistep prediction, you need to replace X_test values with the predictions coming from t-1"
   ]
  },
  {
   "cell_type": "code",
   "execution_count": 42,
   "id": "34976971",
   "metadata": {},
   "outputs": [],
   "source": [
    "#reshape y_pred\n",
    "y_pred = y_pred.reshape(y_pred.shape[0], 1, y_pred.shape[1])\n",
    "#rebuild test set for inverse transform\n",
    "pred_test_set = []\n",
    "for index in range(0,len(y_pred)):\n",
    "#     print(np.concatenate([y_pred[index],X_test[index]],axis=1))\n",
    "    pred_test_set.append(np.concatenate([y_pred[index],X_test[index]],axis=1))\n",
    "#reshape pred_test_set\n",
    "pred_test_set = np.array(pred_test_set)\n",
    "pred_test_set = pred_test_set.reshape(pred_test_set.shape[0], pred_test_set.shape[2])\n",
    "#inverse transform\n",
    "pred_test_set_inverted = scaler.inverse_transform(pred_test_set)"
   ]
  },
  {
   "cell_type": "code",
   "execution_count": 43,
   "id": "0150624a",
   "metadata": {},
   "outputs": [
    {
     "data": {
      "text/plain": [
       "97.10157638788225"
      ]
     },
     "execution_count": 43,
     "metadata": {},
     "output_type": "execute_result"
    }
   ],
   "source": [
    "pred_test_set_inverted[0][0]\n"
   ]
  },
  {
   "cell_type": "code",
   "execution_count": 44,
   "id": "0518c712",
   "metadata": {},
   "outputs": [],
   "source": [
    "#create dataframe that shows the predicted sales\n",
    "result_list = []\n",
    "bins_dates = list(train_df[-47:].data)\n",
    "used_number = list(train_df[-47:]['Usciti_da_Economia_Domestica'])\n",
    "for index in range(0,len(pred_test_set_inverted)):\n",
    "    result_dict = {}\n",
    "    result_dict['pred_value'] = int(pred_test_set_inverted[index][0])\n",
    "    result_dict['data'] = bins_dates[index+1]\n",
    "    result_list.append(result_dict)\n",
    "df_result = pd.DataFrame(result_list)\n",
    "#for multistep prediction, replace act_sales with the predicted sales"
   ]
  },
  {
   "cell_type": "code",
   "execution_count": 45,
   "id": "e6a23a8f",
   "metadata": {
    "scrolled": true
   },
   "outputs": [
    {
     "data": {
      "text/html": [
       "<div>\n",
       "<style scoped>\n",
       "    .dataframe tbody tr th:only-of-type {\n",
       "        vertical-align: middle;\n",
       "    }\n",
       "\n",
       "    .dataframe tbody tr th {\n",
       "        vertical-align: top;\n",
       "    }\n",
       "\n",
       "    .dataframe thead th {\n",
       "        text-align: right;\n",
       "    }\n",
       "</style>\n",
       "<table border=\"1\" class=\"dataframe\">\n",
       "  <thead>\n",
       "    <tr style=\"text-align: right;\">\n",
       "      <th></th>\n",
       "      <th>pred_value</th>\n",
       "      <th>data</th>\n",
       "    </tr>\n",
       "  </thead>\n",
       "  <tbody>\n",
       "    <tr>\n",
       "      <th>0</th>\n",
       "      <td>97</td>\n",
       "      <td>2019-04-21</td>\n",
       "    </tr>\n",
       "    <tr>\n",
       "      <th>1</th>\n",
       "      <td>97</td>\n",
       "      <td>2019-04-28</td>\n",
       "    </tr>\n",
       "    <tr>\n",
       "      <th>2</th>\n",
       "      <td>97</td>\n",
       "      <td>2019-05-05</td>\n",
       "    </tr>\n",
       "    <tr>\n",
       "      <th>3</th>\n",
       "      <td>97</td>\n",
       "      <td>2019-05-12</td>\n",
       "    </tr>\n",
       "    <tr>\n",
       "      <th>4</th>\n",
       "      <td>97</td>\n",
       "      <td>2019-05-19</td>\n",
       "    </tr>\n",
       "    <tr>\n",
       "      <th>5</th>\n",
       "      <td>97</td>\n",
       "      <td>2019-05-26</td>\n",
       "    </tr>\n",
       "  </tbody>\n",
       "</table>\n",
       "</div>"
      ],
      "text/plain": [
       "   pred_value        data\n",
       "0          97  2019-04-21\n",
       "1          97  2019-04-28\n",
       "2          97  2019-05-05\n",
       "3          97  2019-05-12\n",
       "4          97  2019-05-19\n",
       "5          97  2019-05-26"
      ]
     },
     "execution_count": 45,
     "metadata": {},
     "output_type": "execute_result"
    }
   ],
   "source": [
    "df_result"
   ]
  },
  {
   "cell_type": "markdown",
   "id": "7bb32ad9",
   "metadata": {},
   "source": [
    "#### The plot of the predicted bins."
   ]
  },
  {
   "cell_type": "code",
   "execution_count": 109,
   "id": "b775c231",
   "metadata": {},
   "outputs": [
    {
     "data": {
      "application/vnd.plotly.v1+json": {
       "config": {
        "linkText": "Export to plot.ly",
        "plotlyServerURL": "https://plot.ly",
        "showLink": false
       },
       "data": [
        {
         "name": "predicted",
         "type": "scatter",
         "x": [
          0,
          1,
          2,
          3,
          4,
          5,
          6,
          7,
          8,
          9,
          10,
          11,
          12,
          13,
          14,
          15,
          16,
          17,
          18,
          19,
          20,
          21,
          22,
          23,
          24,
          25,
          26,
          27,
          28,
          29,
          30,
          31,
          32,
          33,
          34,
          35,
          36,
          37,
          38,
          39,
          40,
          41,
          42,
          43,
          44,
          45,
          46,
          47,
          48,
          49,
          50,
          51,
          52,
          53,
          54,
          55,
          56,
          57,
          58,
          59,
          60,
          61,
          62,
          63,
          64,
          65,
          66,
          67,
          68,
          69,
          70,
          71,
          72,
          73,
          74,
          75,
          76,
          77,
          78,
          79,
          80,
          81,
          82,
          83,
          84,
          85,
          86,
          87,
          88,
          89,
          90,
          91,
          92,
          93,
          94,
          95,
          96,
          97,
          98,
          99,
          100,
          101,
          102,
          103,
          104,
          105,
          106,
          107,
          108,
          109,
          110,
          111,
          112,
          113,
          114,
          115,
          116,
          117,
          118,
          119,
          120,
          121,
          122,
          123,
          124,
          125,
          126,
          127,
          128,
          129,
          130,
          131,
          132,
          133,
          134,
          135,
          136,
          137,
          138,
          139,
          140,
          141,
          142,
          143,
          144,
          145,
          146,
          147,
          148,
          149,
          150,
          151,
          152,
          153,
          154,
          155,
          156,
          157,
          158,
          159,
          160,
          161,
          162,
          163,
          164,
          165,
          166,
          167,
          168,
          169,
          170,
          171,
          172,
          173,
          174,
          175,
          176,
          177,
          178,
          179,
          180,
          181,
          182,
          183,
          184,
          185,
          186,
          187,
          188,
          189,
          190,
          191,
          192,
          193,
          194,
          195,
          196,
          197,
          198,
          199,
          200,
          201,
          202,
          203,
          204,
          205,
          206,
          207,
          208,
          209,
          210,
          211,
          212,
          213,
          214,
          215,
          216,
          217,
          218,
          219,
          220,
          221,
          222,
          223,
          224,
          225,
          226,
          227,
          228,
          229,
          230,
          231,
          232,
          233,
          234,
          235,
          236,
          237,
          238,
          239,
          240,
          241,
          242,
          243,
          244,
          245,
          246,
          247,
          248,
          249,
          250,
          251,
          252,
          253,
          254,
          255,
          256,
          257,
          258,
          259,
          260,
          261,
          262,
          263,
          264,
          265,
          266,
          267,
          268,
          269,
          270,
          271,
          272,
          273,
          274,
          275,
          276,
          277,
          278,
          279,
          280,
          281,
          282,
          283,
          284,
          285,
          286,
          287,
          288,
          289,
          290,
          291,
          292,
          293,
          294,
          295,
          296,
          297,
          298,
          299,
          300,
          301,
          302,
          303,
          304,
          305,
          306,
          307,
          308,
          309,
          310,
          311,
          312,
          313,
          314,
          315,
          316,
          317,
          318,
          319,
          320,
          321,
          322,
          323,
          324,
          325,
          326,
          327,
          328,
          329,
          330,
          331,
          332,
          333,
          334,
          335,
          336,
          337,
          338,
          339,
          340,
          341,
          342,
          343,
          344,
          345,
          346,
          347,
          348,
          349,
          350,
          351,
          352,
          353,
          354,
          355,
          356,
          357,
          358,
          359,
          360,
          361,
          362,
          363,
          364
         ],
         "y": [
          111,
          133,
          158,
          134,
          152,
          79,
          148,
          54,
          2,
          151,
          38,
          47,
          134,
          129,
          159,
          112,
          135,
          188,
          51,
          60,
          52,
          38,
          97,
          159,
          64,
          8,
          17,
          164,
          115,
          173,
          25,
          71,
          116,
          146,
          73,
          46,
          2,
          3,
          184,
          132,
          41,
          83,
          139,
          110,
          20,
          123,
          127,
          68,
          124,
          178,
          2,
          27,
          141,
          177,
          173,
          122,
          113,
          24,
          182,
          16,
          9,
          189,
          144,
          42,
          5,
          189,
          83,
          69,
          172,
          140,
          66,
          2,
          184,
          177,
          65,
          23,
          154,
          129,
          91,
          21,
          86,
          118,
          47,
          65,
          62,
          82,
          159,
          107,
          99,
          57,
          106,
          47,
          6,
          36,
          164,
          100,
          122,
          88,
          17,
          132,
          151,
          160,
          95,
          69,
          118,
          131,
          108,
          111,
          41,
          155,
          148,
          54,
          105,
          39,
          178,
          72,
          101,
          85,
          111,
          103,
          39,
          165,
          167,
          39,
          116,
          150,
          185,
          152,
          145,
          85,
          128,
          33,
          27,
          73,
          136,
          112,
          131,
          48,
          37,
          93,
          161,
          44,
          15,
          64,
          55,
          120,
          98,
          61,
          183,
          40,
          34,
          25,
          34,
          178,
          7,
          38,
          103,
          107,
          64,
          2,
          31,
          114,
          146,
          140,
          134,
          174,
          63,
          17,
          46,
          20,
          114,
          173,
          107,
          130,
          157,
          60,
          188,
          95,
          187,
          16,
          160,
          90,
          107,
          103,
          121,
          181,
          17,
          85,
          23,
          148,
          165,
          188,
          110,
          116,
          112,
          188,
          31,
          102,
          65,
          27,
          56,
          179,
          123,
          34,
          3,
          175,
          54,
          1,
          36,
          106,
          38,
          86,
          141,
          119,
          106,
          62,
          111,
          58,
          77,
          183,
          64,
          55,
          127,
          44,
          98,
          40,
          188,
          28,
          151,
          6,
          166,
          184,
          170,
          128,
          84,
          8,
          144,
          69,
          152,
          184,
          98,
          45,
          145,
          100,
          92,
          98,
          114,
          145,
          121,
          44,
          130,
          79,
          160,
          127,
          136,
          11,
          161,
          7,
          108,
          19,
          1,
          30,
          27,
          10,
          186,
          95,
          103,
          113,
          94,
          170,
          102,
          92,
          75,
          89,
          164,
          7,
          136,
          39,
          166,
          30,
          186,
          130,
          31,
          93,
          35,
          40,
          8,
          159,
          142,
          149,
          72,
          48,
          173,
          4,
          118,
          44,
          47,
          15,
          16,
          105,
          57,
          108,
          43,
          59,
          135,
          166,
          65,
          89,
          58,
          77,
          44,
          117,
          88,
          58,
          154,
          135,
          146,
          89,
          33,
          78,
          78,
          68,
          101,
          174,
          137,
          155,
          109,
          33,
          158,
          7,
          72,
          180,
          82,
          40,
          111,
          108,
          118,
          124,
          21,
          69,
          184,
          54,
          78,
          140,
          41,
          49,
          78,
          112,
          168,
          72,
          159,
          3,
          186,
          124,
          156,
          179,
          145,
          46,
          53,
          107,
          171,
          11,
          179,
          122,
          146
         ]
        }
       ],
       "layout": {
        "template": {
         "data": {
          "bar": [
           {
            "error_x": {
             "color": "#2a3f5f"
            },
            "error_y": {
             "color": "#2a3f5f"
            },
            "marker": {
             "line": {
              "color": "#E5ECF6",
              "width": 0.5
             },
             "pattern": {
              "fillmode": "overlay",
              "size": 10,
              "solidity": 0.2
             }
            },
            "type": "bar"
           }
          ],
          "barpolar": [
           {
            "marker": {
             "line": {
              "color": "#E5ECF6",
              "width": 0.5
             },
             "pattern": {
              "fillmode": "overlay",
              "size": 10,
              "solidity": 0.2
             }
            },
            "type": "barpolar"
           }
          ],
          "carpet": [
           {
            "aaxis": {
             "endlinecolor": "#2a3f5f",
             "gridcolor": "white",
             "linecolor": "white",
             "minorgridcolor": "white",
             "startlinecolor": "#2a3f5f"
            },
            "baxis": {
             "endlinecolor": "#2a3f5f",
             "gridcolor": "white",
             "linecolor": "white",
             "minorgridcolor": "white",
             "startlinecolor": "#2a3f5f"
            },
            "type": "carpet"
           }
          ],
          "choropleth": [
           {
            "colorbar": {
             "outlinewidth": 0,
             "ticks": ""
            },
            "type": "choropleth"
           }
          ],
          "contour": [
           {
            "colorbar": {
             "outlinewidth": 0,
             "ticks": ""
            },
            "colorscale": [
             [
              0,
              "#0d0887"
             ],
             [
              0.1111111111111111,
              "#46039f"
             ],
             [
              0.2222222222222222,
              "#7201a8"
             ],
             [
              0.3333333333333333,
              "#9c179e"
             ],
             [
              0.4444444444444444,
              "#bd3786"
             ],
             [
              0.5555555555555556,
              "#d8576b"
             ],
             [
              0.6666666666666666,
              "#ed7953"
             ],
             [
              0.7777777777777778,
              "#fb9f3a"
             ],
             [
              0.8888888888888888,
              "#fdca26"
             ],
             [
              1,
              "#f0f921"
             ]
            ],
            "type": "contour"
           }
          ],
          "contourcarpet": [
           {
            "colorbar": {
             "outlinewidth": 0,
             "ticks": ""
            },
            "type": "contourcarpet"
           }
          ],
          "heatmap": [
           {
            "colorbar": {
             "outlinewidth": 0,
             "ticks": ""
            },
            "colorscale": [
             [
              0,
              "#0d0887"
             ],
             [
              0.1111111111111111,
              "#46039f"
             ],
             [
              0.2222222222222222,
              "#7201a8"
             ],
             [
              0.3333333333333333,
              "#9c179e"
             ],
             [
              0.4444444444444444,
              "#bd3786"
             ],
             [
              0.5555555555555556,
              "#d8576b"
             ],
             [
              0.6666666666666666,
              "#ed7953"
             ],
             [
              0.7777777777777778,
              "#fb9f3a"
             ],
             [
              0.8888888888888888,
              "#fdca26"
             ],
             [
              1,
              "#f0f921"
             ]
            ],
            "type": "heatmap"
           }
          ],
          "heatmapgl": [
           {
            "colorbar": {
             "outlinewidth": 0,
             "ticks": ""
            },
            "colorscale": [
             [
              0,
              "#0d0887"
             ],
             [
              0.1111111111111111,
              "#46039f"
             ],
             [
              0.2222222222222222,
              "#7201a8"
             ],
             [
              0.3333333333333333,
              "#9c179e"
             ],
             [
              0.4444444444444444,
              "#bd3786"
             ],
             [
              0.5555555555555556,
              "#d8576b"
             ],
             [
              0.6666666666666666,
              "#ed7953"
             ],
             [
              0.7777777777777778,
              "#fb9f3a"
             ],
             [
              0.8888888888888888,
              "#fdca26"
             ],
             [
              1,
              "#f0f921"
             ]
            ],
            "type": "heatmapgl"
           }
          ],
          "histogram": [
           {
            "marker": {
             "pattern": {
              "fillmode": "overlay",
              "size": 10,
              "solidity": 0.2
             }
            },
            "type": "histogram"
           }
          ],
          "histogram2d": [
           {
            "colorbar": {
             "outlinewidth": 0,
             "ticks": ""
            },
            "colorscale": [
             [
              0,
              "#0d0887"
             ],
             [
              0.1111111111111111,
              "#46039f"
             ],
             [
              0.2222222222222222,
              "#7201a8"
             ],
             [
              0.3333333333333333,
              "#9c179e"
             ],
             [
              0.4444444444444444,
              "#bd3786"
             ],
             [
              0.5555555555555556,
              "#d8576b"
             ],
             [
              0.6666666666666666,
              "#ed7953"
             ],
             [
              0.7777777777777778,
              "#fb9f3a"
             ],
             [
              0.8888888888888888,
              "#fdca26"
             ],
             [
              1,
              "#f0f921"
             ]
            ],
            "type": "histogram2d"
           }
          ],
          "histogram2dcontour": [
           {
            "colorbar": {
             "outlinewidth": 0,
             "ticks": ""
            },
            "colorscale": [
             [
              0,
              "#0d0887"
             ],
             [
              0.1111111111111111,
              "#46039f"
             ],
             [
              0.2222222222222222,
              "#7201a8"
             ],
             [
              0.3333333333333333,
              "#9c179e"
             ],
             [
              0.4444444444444444,
              "#bd3786"
             ],
             [
              0.5555555555555556,
              "#d8576b"
             ],
             [
              0.6666666666666666,
              "#ed7953"
             ],
             [
              0.7777777777777778,
              "#fb9f3a"
             ],
             [
              0.8888888888888888,
              "#fdca26"
             ],
             [
              1,
              "#f0f921"
             ]
            ],
            "type": "histogram2dcontour"
           }
          ],
          "mesh3d": [
           {
            "colorbar": {
             "outlinewidth": 0,
             "ticks": ""
            },
            "type": "mesh3d"
           }
          ],
          "parcoords": [
           {
            "line": {
             "colorbar": {
              "outlinewidth": 0,
              "ticks": ""
             }
            },
            "type": "parcoords"
           }
          ],
          "pie": [
           {
            "automargin": true,
            "type": "pie"
           }
          ],
          "scatter": [
           {
            "marker": {
             "colorbar": {
              "outlinewidth": 0,
              "ticks": ""
             }
            },
            "type": "scatter"
           }
          ],
          "scatter3d": [
           {
            "line": {
             "colorbar": {
              "outlinewidth": 0,
              "ticks": ""
             }
            },
            "marker": {
             "colorbar": {
              "outlinewidth": 0,
              "ticks": ""
             }
            },
            "type": "scatter3d"
           }
          ],
          "scattercarpet": [
           {
            "marker": {
             "colorbar": {
              "outlinewidth": 0,
              "ticks": ""
             }
            },
            "type": "scattercarpet"
           }
          ],
          "scattergeo": [
           {
            "marker": {
             "colorbar": {
              "outlinewidth": 0,
              "ticks": ""
             }
            },
            "type": "scattergeo"
           }
          ],
          "scattergl": [
           {
            "marker": {
             "colorbar": {
              "outlinewidth": 0,
              "ticks": ""
             }
            },
            "type": "scattergl"
           }
          ],
          "scattermapbox": [
           {
            "marker": {
             "colorbar": {
              "outlinewidth": 0,
              "ticks": ""
             }
            },
            "type": "scattermapbox"
           }
          ],
          "scatterpolar": [
           {
            "marker": {
             "colorbar": {
              "outlinewidth": 0,
              "ticks": ""
             }
            },
            "type": "scatterpolar"
           }
          ],
          "scatterpolargl": [
           {
            "marker": {
             "colorbar": {
              "outlinewidth": 0,
              "ticks": ""
             }
            },
            "type": "scatterpolargl"
           }
          ],
          "scatterternary": [
           {
            "marker": {
             "colorbar": {
              "outlinewidth": 0,
              "ticks": ""
             }
            },
            "type": "scatterternary"
           }
          ],
          "surface": [
           {
            "colorbar": {
             "outlinewidth": 0,
             "ticks": ""
            },
            "colorscale": [
             [
              0,
              "#0d0887"
             ],
             [
              0.1111111111111111,
              "#46039f"
             ],
             [
              0.2222222222222222,
              "#7201a8"
             ],
             [
              0.3333333333333333,
              "#9c179e"
             ],
             [
              0.4444444444444444,
              "#bd3786"
             ],
             [
              0.5555555555555556,
              "#d8576b"
             ],
             [
              0.6666666666666666,
              "#ed7953"
             ],
             [
              0.7777777777777778,
              "#fb9f3a"
             ],
             [
              0.8888888888888888,
              "#fdca26"
             ],
             [
              1,
              "#f0f921"
             ]
            ],
            "type": "surface"
           }
          ],
          "table": [
           {
            "cells": {
             "fill": {
              "color": "#EBF0F8"
             },
             "line": {
              "color": "white"
             }
            },
            "header": {
             "fill": {
              "color": "#C8D4E3"
             },
             "line": {
              "color": "white"
             }
            },
            "type": "table"
           }
          ]
         },
         "layout": {
          "annotationdefaults": {
           "arrowcolor": "#2a3f5f",
           "arrowhead": 0,
           "arrowwidth": 1
          },
          "autotypenumbers": "strict",
          "coloraxis": {
           "colorbar": {
            "outlinewidth": 0,
            "ticks": ""
           }
          },
          "colorscale": {
           "diverging": [
            [
             0,
             "#8e0152"
            ],
            [
             0.1,
             "#c51b7d"
            ],
            [
             0.2,
             "#de77ae"
            ],
            [
             0.3,
             "#f1b6da"
            ],
            [
             0.4,
             "#fde0ef"
            ],
            [
             0.5,
             "#f7f7f7"
            ],
            [
             0.6,
             "#e6f5d0"
            ],
            [
             0.7,
             "#b8e186"
            ],
            [
             0.8,
             "#7fbc41"
            ],
            [
             0.9,
             "#4d9221"
            ],
            [
             1,
             "#276419"
            ]
           ],
           "sequential": [
            [
             0,
             "#0d0887"
            ],
            [
             0.1111111111111111,
             "#46039f"
            ],
            [
             0.2222222222222222,
             "#7201a8"
            ],
            [
             0.3333333333333333,
             "#9c179e"
            ],
            [
             0.4444444444444444,
             "#bd3786"
            ],
            [
             0.5555555555555556,
             "#d8576b"
            ],
            [
             0.6666666666666666,
             "#ed7953"
            ],
            [
             0.7777777777777778,
             "#fb9f3a"
            ],
            [
             0.8888888888888888,
             "#fdca26"
            ],
            [
             1,
             "#f0f921"
            ]
           ],
           "sequentialminus": [
            [
             0,
             "#0d0887"
            ],
            [
             0.1111111111111111,
             "#46039f"
            ],
            [
             0.2222222222222222,
             "#7201a8"
            ],
            [
             0.3333333333333333,
             "#9c179e"
            ],
            [
             0.4444444444444444,
             "#bd3786"
            ],
            [
             0.5555555555555556,
             "#d8576b"
            ],
            [
             0.6666666666666666,
             "#ed7953"
            ],
            [
             0.7777777777777778,
             "#fb9f3a"
            ],
            [
             0.8888888888888888,
             "#fdca26"
            ],
            [
             1,
             "#f0f921"
            ]
           ]
          },
          "colorway": [
           "#636efa",
           "#EF553B",
           "#00cc96",
           "#ab63fa",
           "#FFA15A",
           "#19d3f3",
           "#FF6692",
           "#B6E880",
           "#FF97FF",
           "#FECB52"
          ],
          "font": {
           "color": "#2a3f5f"
          },
          "geo": {
           "bgcolor": "white",
           "lakecolor": "white",
           "landcolor": "#E5ECF6",
           "showlakes": true,
           "showland": true,
           "subunitcolor": "white"
          },
          "hoverlabel": {
           "align": "left"
          },
          "hovermode": "closest",
          "mapbox": {
           "style": "light"
          },
          "paper_bgcolor": "white",
          "plot_bgcolor": "#E5ECF6",
          "polar": {
           "angularaxis": {
            "gridcolor": "white",
            "linecolor": "white",
            "ticks": ""
           },
           "bgcolor": "#E5ECF6",
           "radialaxis": {
            "gridcolor": "white",
            "linecolor": "white",
            "ticks": ""
           }
          },
          "scene": {
           "xaxis": {
            "backgroundcolor": "#E5ECF6",
            "gridcolor": "white",
            "gridwidth": 2,
            "linecolor": "white",
            "showbackground": true,
            "ticks": "",
            "zerolinecolor": "white"
           },
           "yaxis": {
            "backgroundcolor": "#E5ECF6",
            "gridcolor": "white",
            "gridwidth": 2,
            "linecolor": "white",
            "showbackground": true,
            "ticks": "",
            "zerolinecolor": "white"
           },
           "zaxis": {
            "backgroundcolor": "#E5ECF6",
            "gridcolor": "white",
            "gridwidth": 2,
            "linecolor": "white",
            "showbackground": true,
            "ticks": "",
            "zerolinecolor": "white"
           }
          },
          "shapedefaults": {
           "line": {
            "color": "#2a3f5f"
           }
          },
          "ternary": {
           "aaxis": {
            "gridcolor": "white",
            "linecolor": "white",
            "ticks": ""
           },
           "baxis": {
            "gridcolor": "white",
            "linecolor": "white",
            "ticks": ""
           },
           "bgcolor": "#E5ECF6",
           "caxis": {
            "gridcolor": "white",
            "linecolor": "white",
            "ticks": ""
           }
          },
          "title": {
           "x": 0.05
          },
          "xaxis": {
           "automargin": true,
           "gridcolor": "white",
           "linecolor": "white",
           "ticks": "",
           "title": {
            "standoff": 15
           },
           "zerolinecolor": "white",
           "zerolinewidth": 2
          },
          "yaxis": {
           "automargin": true,
           "gridcolor": "white",
           "linecolor": "white",
           "ticks": "",
           "title": {
            "standoff": 15
           },
           "zerolinecolor": "white",
           "zerolinewidth": 2
          }
         }
        },
        "title": {
         "text": "bins Prediction"
        }
       }
      },
      "text/html": [
       "<div>                            <div id=\"3e36dc75-54e5-4bb7-af01-8b7d3c7072ba\" class=\"plotly-graph-div\" style=\"height:525px; width:100%;\"></div>            <script type=\"text/javascript\">                require([\"plotly\"], function(Plotly) {                    window.PLOTLYENV=window.PLOTLYENV || {};                                    if (document.getElementById(\"3e36dc75-54e5-4bb7-af01-8b7d3c7072ba\")) {                    Plotly.newPlot(                        \"3e36dc75-54e5-4bb7-af01-8b7d3c7072ba\",                        [{\"name\":\"predicted\",\"type\":\"scatter\",\"x\":[0,1,2,3,4,5,6,7,8,9,10,11,12,13,14,15,16,17,18,19,20,21,22,23,24,25,26,27,28,29,30,31,32,33,34,35,36,37,38,39,40,41,42,43,44,45,46,47,48,49,50,51,52,53,54,55,56,57,58,59,60,61,62,63,64,65,66,67,68,69,70,71,72,73,74,75,76,77,78,79,80,81,82,83,84,85,86,87,88,89,90,91,92,93,94,95,96,97,98,99,100,101,102,103,104,105,106,107,108,109,110,111,112,113,114,115,116,117,118,119,120,121,122,123,124,125,126,127,128,129,130,131,132,133,134,135,136,137,138,139,140,141,142,143,144,145,146,147,148,149,150,151,152,153,154,155,156,157,158,159,160,161,162,163,164,165,166,167,168,169,170,171,172,173,174,175,176,177,178,179,180,181,182,183,184,185,186,187,188,189,190,191,192,193,194,195,196,197,198,199,200,201,202,203,204,205,206,207,208,209,210,211,212,213,214,215,216,217,218,219,220,221,222,223,224,225,226,227,228,229,230,231,232,233,234,235,236,237,238,239,240,241,242,243,244,245,246,247,248,249,250,251,252,253,254,255,256,257,258,259,260,261,262,263,264,265,266,267,268,269,270,271,272,273,274,275,276,277,278,279,280,281,282,283,284,285,286,287,288,289,290,291,292,293,294,295,296,297,298,299,300,301,302,303,304,305,306,307,308,309,310,311,312,313,314,315,316,317,318,319,320,321,322,323,324,325,326,327,328,329,330,331,332,333,334,335,336,337,338,339,340,341,342,343,344,345,346,347,348,349,350,351,352,353,354,355,356,357,358,359,360,361,362,363,364],\"y\":[111,133,158,134,152,79,148,54,2,151,38,47,134,129,159,112,135,188,51,60,52,38,97,159,64,8,17,164,115,173,25,71,116,146,73,46,2,3,184,132,41,83,139,110,20,123,127,68,124,178,2,27,141,177,173,122,113,24,182,16,9,189,144,42,5,189,83,69,172,140,66,2,184,177,65,23,154,129,91,21,86,118,47,65,62,82,159,107,99,57,106,47,6,36,164,100,122,88,17,132,151,160,95,69,118,131,108,111,41,155,148,54,105,39,178,72,101,85,111,103,39,165,167,39,116,150,185,152,145,85,128,33,27,73,136,112,131,48,37,93,161,44,15,64,55,120,98,61,183,40,34,25,34,178,7,38,103,107,64,2,31,114,146,140,134,174,63,17,46,20,114,173,107,130,157,60,188,95,187,16,160,90,107,103,121,181,17,85,23,148,165,188,110,116,112,188,31,102,65,27,56,179,123,34,3,175,54,1,36,106,38,86,141,119,106,62,111,58,77,183,64,55,127,44,98,40,188,28,151,6,166,184,170,128,84,8,144,69,152,184,98,45,145,100,92,98,114,145,121,44,130,79,160,127,136,11,161,7,108,19,1,30,27,10,186,95,103,113,94,170,102,92,75,89,164,7,136,39,166,30,186,130,31,93,35,40,8,159,142,149,72,48,173,4,118,44,47,15,16,105,57,108,43,59,135,166,65,89,58,77,44,117,88,58,154,135,146,89,33,78,78,68,101,174,137,155,109,33,158,7,72,180,82,40,111,108,118,124,21,69,184,54,78,140,41,49,78,112,168,72,159,3,186,124,156,179,145,46,53,107,171,11,179,122,146]}],                        {\"template\":{\"data\":{\"bar\":[{\"error_x\":{\"color\":\"#2a3f5f\"},\"error_y\":{\"color\":\"#2a3f5f\"},\"marker\":{\"line\":{\"color\":\"#E5ECF6\",\"width\":0.5},\"pattern\":{\"fillmode\":\"overlay\",\"size\":10,\"solidity\":0.2}},\"type\":\"bar\"}],\"barpolar\":[{\"marker\":{\"line\":{\"color\":\"#E5ECF6\",\"width\":0.5},\"pattern\":{\"fillmode\":\"overlay\",\"size\":10,\"solidity\":0.2}},\"type\":\"barpolar\"}],\"carpet\":[{\"aaxis\":{\"endlinecolor\":\"#2a3f5f\",\"gridcolor\":\"white\",\"linecolor\":\"white\",\"minorgridcolor\":\"white\",\"startlinecolor\":\"#2a3f5f\"},\"baxis\":{\"endlinecolor\":\"#2a3f5f\",\"gridcolor\":\"white\",\"linecolor\":\"white\",\"minorgridcolor\":\"white\",\"startlinecolor\":\"#2a3f5f\"},\"type\":\"carpet\"}],\"choropleth\":[{\"colorbar\":{\"outlinewidth\":0,\"ticks\":\"\"},\"type\":\"choropleth\"}],\"contour\":[{\"colorbar\":{\"outlinewidth\":0,\"ticks\":\"\"},\"colorscale\":[[0.0,\"#0d0887\"],[0.1111111111111111,\"#46039f\"],[0.2222222222222222,\"#7201a8\"],[0.3333333333333333,\"#9c179e\"],[0.4444444444444444,\"#bd3786\"],[0.5555555555555556,\"#d8576b\"],[0.6666666666666666,\"#ed7953\"],[0.7777777777777778,\"#fb9f3a\"],[0.8888888888888888,\"#fdca26\"],[1.0,\"#f0f921\"]],\"type\":\"contour\"}],\"contourcarpet\":[{\"colorbar\":{\"outlinewidth\":0,\"ticks\":\"\"},\"type\":\"contourcarpet\"}],\"heatmap\":[{\"colorbar\":{\"outlinewidth\":0,\"ticks\":\"\"},\"colorscale\":[[0.0,\"#0d0887\"],[0.1111111111111111,\"#46039f\"],[0.2222222222222222,\"#7201a8\"],[0.3333333333333333,\"#9c179e\"],[0.4444444444444444,\"#bd3786\"],[0.5555555555555556,\"#d8576b\"],[0.6666666666666666,\"#ed7953\"],[0.7777777777777778,\"#fb9f3a\"],[0.8888888888888888,\"#fdca26\"],[1.0,\"#f0f921\"]],\"type\":\"heatmap\"}],\"heatmapgl\":[{\"colorbar\":{\"outlinewidth\":0,\"ticks\":\"\"},\"colorscale\":[[0.0,\"#0d0887\"],[0.1111111111111111,\"#46039f\"],[0.2222222222222222,\"#7201a8\"],[0.3333333333333333,\"#9c179e\"],[0.4444444444444444,\"#bd3786\"],[0.5555555555555556,\"#d8576b\"],[0.6666666666666666,\"#ed7953\"],[0.7777777777777778,\"#fb9f3a\"],[0.8888888888888888,\"#fdca26\"],[1.0,\"#f0f921\"]],\"type\":\"heatmapgl\"}],\"histogram\":[{\"marker\":{\"pattern\":{\"fillmode\":\"overlay\",\"size\":10,\"solidity\":0.2}},\"type\":\"histogram\"}],\"histogram2d\":[{\"colorbar\":{\"outlinewidth\":0,\"ticks\":\"\"},\"colorscale\":[[0.0,\"#0d0887\"],[0.1111111111111111,\"#46039f\"],[0.2222222222222222,\"#7201a8\"],[0.3333333333333333,\"#9c179e\"],[0.4444444444444444,\"#bd3786\"],[0.5555555555555556,\"#d8576b\"],[0.6666666666666666,\"#ed7953\"],[0.7777777777777778,\"#fb9f3a\"],[0.8888888888888888,\"#fdca26\"],[1.0,\"#f0f921\"]],\"type\":\"histogram2d\"}],\"histogram2dcontour\":[{\"colorbar\":{\"outlinewidth\":0,\"ticks\":\"\"},\"colorscale\":[[0.0,\"#0d0887\"],[0.1111111111111111,\"#46039f\"],[0.2222222222222222,\"#7201a8\"],[0.3333333333333333,\"#9c179e\"],[0.4444444444444444,\"#bd3786\"],[0.5555555555555556,\"#d8576b\"],[0.6666666666666666,\"#ed7953\"],[0.7777777777777778,\"#fb9f3a\"],[0.8888888888888888,\"#fdca26\"],[1.0,\"#f0f921\"]],\"type\":\"histogram2dcontour\"}],\"mesh3d\":[{\"colorbar\":{\"outlinewidth\":0,\"ticks\":\"\"},\"type\":\"mesh3d\"}],\"parcoords\":[{\"line\":{\"colorbar\":{\"outlinewidth\":0,\"ticks\":\"\"}},\"type\":\"parcoords\"}],\"pie\":[{\"automargin\":true,\"type\":\"pie\"}],\"scatter\":[{\"marker\":{\"colorbar\":{\"outlinewidth\":0,\"ticks\":\"\"}},\"type\":\"scatter\"}],\"scatter3d\":[{\"line\":{\"colorbar\":{\"outlinewidth\":0,\"ticks\":\"\"}},\"marker\":{\"colorbar\":{\"outlinewidth\":0,\"ticks\":\"\"}},\"type\":\"scatter3d\"}],\"scattercarpet\":[{\"marker\":{\"colorbar\":{\"outlinewidth\":0,\"ticks\":\"\"}},\"type\":\"scattercarpet\"}],\"scattergeo\":[{\"marker\":{\"colorbar\":{\"outlinewidth\":0,\"ticks\":\"\"}},\"type\":\"scattergeo\"}],\"scattergl\":[{\"marker\":{\"colorbar\":{\"outlinewidth\":0,\"ticks\":\"\"}},\"type\":\"scattergl\"}],\"scattermapbox\":[{\"marker\":{\"colorbar\":{\"outlinewidth\":0,\"ticks\":\"\"}},\"type\":\"scattermapbox\"}],\"scatterpolar\":[{\"marker\":{\"colorbar\":{\"outlinewidth\":0,\"ticks\":\"\"}},\"type\":\"scatterpolar\"}],\"scatterpolargl\":[{\"marker\":{\"colorbar\":{\"outlinewidth\":0,\"ticks\":\"\"}},\"type\":\"scatterpolargl\"}],\"scatterternary\":[{\"marker\":{\"colorbar\":{\"outlinewidth\":0,\"ticks\":\"\"}},\"type\":\"scatterternary\"}],\"surface\":[{\"colorbar\":{\"outlinewidth\":0,\"ticks\":\"\"},\"colorscale\":[[0.0,\"#0d0887\"],[0.1111111111111111,\"#46039f\"],[0.2222222222222222,\"#7201a8\"],[0.3333333333333333,\"#9c179e\"],[0.4444444444444444,\"#bd3786\"],[0.5555555555555556,\"#d8576b\"],[0.6666666666666666,\"#ed7953\"],[0.7777777777777778,\"#fb9f3a\"],[0.8888888888888888,\"#fdca26\"],[1.0,\"#f0f921\"]],\"type\":\"surface\"}],\"table\":[{\"cells\":{\"fill\":{\"color\":\"#EBF0F8\"},\"line\":{\"color\":\"white\"}},\"header\":{\"fill\":{\"color\":\"#C8D4E3\"},\"line\":{\"color\":\"white\"}},\"type\":\"table\"}]},\"layout\":{\"annotationdefaults\":{\"arrowcolor\":\"#2a3f5f\",\"arrowhead\":0,\"arrowwidth\":1},\"autotypenumbers\":\"strict\",\"coloraxis\":{\"colorbar\":{\"outlinewidth\":0,\"ticks\":\"\"}},\"colorscale\":{\"diverging\":[[0,\"#8e0152\"],[0.1,\"#c51b7d\"],[0.2,\"#de77ae\"],[0.3,\"#f1b6da\"],[0.4,\"#fde0ef\"],[0.5,\"#f7f7f7\"],[0.6,\"#e6f5d0\"],[0.7,\"#b8e186\"],[0.8,\"#7fbc41\"],[0.9,\"#4d9221\"],[1,\"#276419\"]],\"sequential\":[[0.0,\"#0d0887\"],[0.1111111111111111,\"#46039f\"],[0.2222222222222222,\"#7201a8\"],[0.3333333333333333,\"#9c179e\"],[0.4444444444444444,\"#bd3786\"],[0.5555555555555556,\"#d8576b\"],[0.6666666666666666,\"#ed7953\"],[0.7777777777777778,\"#fb9f3a\"],[0.8888888888888888,\"#fdca26\"],[1.0,\"#f0f921\"]],\"sequentialminus\":[[0.0,\"#0d0887\"],[0.1111111111111111,\"#46039f\"],[0.2222222222222222,\"#7201a8\"],[0.3333333333333333,\"#9c179e\"],[0.4444444444444444,\"#bd3786\"],[0.5555555555555556,\"#d8576b\"],[0.6666666666666666,\"#ed7953\"],[0.7777777777777778,\"#fb9f3a\"],[0.8888888888888888,\"#fdca26\"],[1.0,\"#f0f921\"]]},\"colorway\":[\"#636efa\",\"#EF553B\",\"#00cc96\",\"#ab63fa\",\"#FFA15A\",\"#19d3f3\",\"#FF6692\",\"#B6E880\",\"#FF97FF\",\"#FECB52\"],\"font\":{\"color\":\"#2a3f5f\"},\"geo\":{\"bgcolor\":\"white\",\"lakecolor\":\"white\",\"landcolor\":\"#E5ECF6\",\"showlakes\":true,\"showland\":true,\"subunitcolor\":\"white\"},\"hoverlabel\":{\"align\":\"left\"},\"hovermode\":\"closest\",\"mapbox\":{\"style\":\"light\"},\"paper_bgcolor\":\"white\",\"plot_bgcolor\":\"#E5ECF6\",\"polar\":{\"angularaxis\":{\"gridcolor\":\"white\",\"linecolor\":\"white\",\"ticks\":\"\"},\"bgcolor\":\"#E5ECF6\",\"radialaxis\":{\"gridcolor\":\"white\",\"linecolor\":\"white\",\"ticks\":\"\"}},\"scene\":{\"xaxis\":{\"backgroundcolor\":\"#E5ECF6\",\"gridcolor\":\"white\",\"gridwidth\":2,\"linecolor\":\"white\",\"showbackground\":true,\"ticks\":\"\",\"zerolinecolor\":\"white\"},\"yaxis\":{\"backgroundcolor\":\"#E5ECF6\",\"gridcolor\":\"white\",\"gridwidth\":2,\"linecolor\":\"white\",\"showbackground\":true,\"ticks\":\"\",\"zerolinecolor\":\"white\"},\"zaxis\":{\"backgroundcolor\":\"#E5ECF6\",\"gridcolor\":\"white\",\"gridwidth\":2,\"linecolor\":\"white\",\"showbackground\":true,\"ticks\":\"\",\"zerolinecolor\":\"white\"}},\"shapedefaults\":{\"line\":{\"color\":\"#2a3f5f\"}},\"ternary\":{\"aaxis\":{\"gridcolor\":\"white\",\"linecolor\":\"white\",\"ticks\":\"\"},\"baxis\":{\"gridcolor\":\"white\",\"linecolor\":\"white\",\"ticks\":\"\"},\"bgcolor\":\"#E5ECF6\",\"caxis\":{\"gridcolor\":\"white\",\"linecolor\":\"white\",\"ticks\":\"\"}},\"title\":{\"x\":0.05},\"xaxis\":{\"automargin\":true,\"gridcolor\":\"white\",\"linecolor\":\"white\",\"ticks\":\"\",\"title\":{\"standoff\":15},\"zerolinecolor\":\"white\",\"zerolinewidth\":2},\"yaxis\":{\"automargin\":true,\"gridcolor\":\"white\",\"linecolor\":\"white\",\"ticks\":\"\",\"title\":{\"standoff\":15},\"zerolinecolor\":\"white\",\"zerolinewidth\":2}}},\"title\":{\"text\":\"bins Prediction\"}},                        {\"responsive\": true}                    ).then(function(){\n",
       "                            \n",
       "var gd = document.getElementById('3e36dc75-54e5-4bb7-af01-8b7d3c7072ba');\n",
       "var x = new MutationObserver(function (mutations, observer) {{\n",
       "        var display = window.getComputedStyle(gd).display;\n",
       "        if (!display || display === 'none') {{\n",
       "            console.log([gd, 'removed!']);\n",
       "            Plotly.purge(gd);\n",
       "            observer.disconnect();\n",
       "        }}\n",
       "}});\n",
       "\n",
       "// Listen for the removal of the full notebook cells\n",
       "var notebookContainer = gd.closest('#notebook-container');\n",
       "if (notebookContainer) {{\n",
       "    x.observe(notebookContainer, {childList: true});\n",
       "}}\n",
       "\n",
       "// Listen for the clearing of the current output cell\n",
       "var outputEl = gd.closest('.output');\n",
       "if (outputEl) {{\n",
       "    x.observe(outputEl, {childList: true});\n",
       "}}\n",
       "\n",
       "                        })                };                });            </script>        </div>"
      ]
     },
     "metadata": {},
     "output_type": "display_data"
    }
   ],
   "source": [
    "from chart_studio import plotly as py\n",
    "import plotly.offline as pyoff\n",
    "import plotly.graph_objs as go\n",
    "\n",
    "plot_data = [\n",
    "#     go.Scatter(\n",
    "#         x=np.arange(0, len(df1['Usciti_da_Economia_Domestica']), 1),\n",
    "#         y=df1['Usciti_da_Economia_Domestica'],\n",
    "# #         name='actual'\n",
    "#     ),\n",
    "        go.Scatter(\n",
    "        x=np.arange(0, len(df1['Usciti_da_Economia_Domestica']), 1),\n",
    "        y=df1['Usciti_da_Economia_Domestica'],\n",
    "        name='predicted'\n",
    "    )\n",
    "    \n",
    "]\n",
    "plot_layout = go.Layout(\n",
    "        title='bins Prediction'\n",
    "    )\n",
    "fig = go.Figure(data=plot_data, layout=plot_layout)\n",
    "pyoff.iplot(fig)"
   ]
  },
  {
   "cell_type": "code",
   "execution_count": 110,
   "id": "03666d6f",
   "metadata": {},
   "outputs": [],
   "source": [
    "# pd.date_range(start=\"2018-09-09\",end=\"2020-02-02\").to_pydatetime()"
   ]
  },
  {
   "cell_type": "code",
   "execution_count": 48,
   "id": "2bdaa815",
   "metadata": {},
   "outputs": [],
   "source": [
    "import warnings\n",
    "warnings.filterwarnings('ignore')"
   ]
  },
  {
   "cell_type": "markdown",
   "id": "4199ff62",
   "metadata": {},
   "source": [
    "#### Data simulation for three years"
   ]
  },
  {
   "cell_type": "code",
   "execution_count": 118,
   "id": "dca6fbb2",
   "metadata": {},
   "outputs": [],
   "source": [
    "day = 24 * 60 * 60\n",
    "year = 365.2425 * day\n",
    "\n",
    "\n",
    "def load_dataframe() -> pd.DataFrame:\n",
    "    \"\"\" Create a time series x sin wave dataframe. \"\"\"\n",
    "    df = pd.DataFrame(columns=['data', 'Entrati_In_Economia_Domestica','Usciti_da_Economia_Domestica','Numero_Bidoni_in_Economia_Domestica'])\n",
    "    df.data = pd.date_range(start='2017-01-01', end='2020-03-01', freq='W')\n",
    "    df['Entrati_In_Economia_Domestica'] = np.random.randint(50, 200,size = len(df))\n",
    "    mask = np.random.choice([1, 0], df['Entrati_In_Economia_Domestica'].shape, p=[.4, .6]).astype(bool)\n",
    "    df['Entrati_In_Economia_Domestica'][mask] = 0\n",
    "    s = df['Entrati_In_Economia_Domestica']\n",
    "    \n",
    "#     df.(Entrati_In_Economia_Domestica)\n",
    "#     df.sin = 1 + np.sin(df.date.astype('int64') // 1e9 * (2 * np.pi / year))\n",
    "#     df.sin = (df.sin * 100).round(2)\n",
    "    \n",
    "    df.data = df.data.apply(lambda d: d.strftime('%Y-%m-%d'))\n",
    "    return df\n",
    "\n",
    "train_df = load_dataframe()"
   ]
  },
  {
   "cell_type": "code",
   "execution_count": 119,
   "id": "a1fb2dd0",
   "metadata": {},
   "outputs": [],
   "source": [
    "# s = train_df['Entrati_In_Economia_Domestica']\n",
    "# train_df['Usciti_da_Economia_Domestica'] = np.random.randint(50, Entrati_In_Economia_Domestica,size = len(df))"
   ]
  },
  {
   "cell_type": "code",
   "execution_count": 120,
   "id": "8583b9df",
   "metadata": {},
   "outputs": [],
   "source": [
    "train_df['Usciti_da_Economia_Domestica'] = train_df['Entrati_In_Economia_Domestica'].apply(lambda x: np.random.randint(20, x) if x!= 0 else x)"
   ]
  },
  {
   "cell_type": "code",
   "execution_count": 121,
   "id": "811f8119",
   "metadata": {},
   "outputs": [],
   "source": [
    "train_df['Numero_Bidoni_in_Economia_Domestica'] = train_df['Entrati_In_Economia_Domestica'] - train_df['Usciti_da_Economia_Domestica']"
   ]
  },
  {
   "cell_type": "code",
   "execution_count": 122,
   "id": "9d2d75a7",
   "metadata": {},
   "outputs": [],
   "source": [
    "#adding lags\n",
    "for inc in range(1,10):\n",
    "    field_name = 'lag_' + str(inc)\n",
    "    train_df[field_name] = train_df['Usciti_da_Economia_Domestica'].shift(inc)\n",
    "\n",
    "# #drop null values\n",
    "# train_df = train_df.dropna().reset_index(drop=True)"
   ]
  },
  {
   "cell_type": "code",
   "execution_count": 123,
   "id": "e87f6afc",
   "metadata": {},
   "outputs": [
    {
     "data": {
      "text/html": [
       "<div>\n",
       "<style scoped>\n",
       "    .dataframe tbody tr th:only-of-type {\n",
       "        vertical-align: middle;\n",
       "    }\n",
       "\n",
       "    .dataframe tbody tr th {\n",
       "        vertical-align: top;\n",
       "    }\n",
       "\n",
       "    .dataframe thead th {\n",
       "        text-align: right;\n",
       "    }\n",
       "</style>\n",
       "<table border=\"1\" class=\"dataframe\">\n",
       "  <thead>\n",
       "    <tr style=\"text-align: right;\">\n",
       "      <th></th>\n",
       "      <th>data</th>\n",
       "      <th>Entrati_In_Economia_Domestica</th>\n",
       "      <th>Usciti_da_Economia_Domestica</th>\n",
       "      <th>Numero_Bidoni_in_Economia_Domestica</th>\n",
       "      <th>lag_1</th>\n",
       "      <th>lag_2</th>\n",
       "      <th>lag_3</th>\n",
       "      <th>lag_4</th>\n",
       "      <th>lag_5</th>\n",
       "      <th>lag_6</th>\n",
       "      <th>lag_7</th>\n",
       "      <th>lag_8</th>\n",
       "      <th>lag_9</th>\n",
       "    </tr>\n",
       "  </thead>\n",
       "  <tbody>\n",
       "    <tr>\n",
       "      <th>0</th>\n",
       "      <td>2017-01-01</td>\n",
       "      <td>193</td>\n",
       "      <td>53</td>\n",
       "      <td>140</td>\n",
       "      <td>NaN</td>\n",
       "      <td>NaN</td>\n",
       "      <td>NaN</td>\n",
       "      <td>NaN</td>\n",
       "      <td>NaN</td>\n",
       "      <td>NaN</td>\n",
       "      <td>NaN</td>\n",
       "      <td>NaN</td>\n",
       "      <td>NaN</td>\n",
       "    </tr>\n",
       "    <tr>\n",
       "      <th>1</th>\n",
       "      <td>2017-01-08</td>\n",
       "      <td>0</td>\n",
       "      <td>0</td>\n",
       "      <td>0</td>\n",
       "      <td>53</td>\n",
       "      <td>NaN</td>\n",
       "      <td>NaN</td>\n",
       "      <td>NaN</td>\n",
       "      <td>NaN</td>\n",
       "      <td>NaN</td>\n",
       "      <td>NaN</td>\n",
       "      <td>NaN</td>\n",
       "      <td>NaN</td>\n",
       "    </tr>\n",
       "    <tr>\n",
       "      <th>2</th>\n",
       "      <td>2017-01-15</td>\n",
       "      <td>172</td>\n",
       "      <td>50</td>\n",
       "      <td>122</td>\n",
       "      <td>0</td>\n",
       "      <td>53</td>\n",
       "      <td>NaN</td>\n",
       "      <td>NaN</td>\n",
       "      <td>NaN</td>\n",
       "      <td>NaN</td>\n",
       "      <td>NaN</td>\n",
       "      <td>NaN</td>\n",
       "      <td>NaN</td>\n",
       "    </tr>\n",
       "    <tr>\n",
       "      <th>3</th>\n",
       "      <td>2017-01-22</td>\n",
       "      <td>100</td>\n",
       "      <td>48</td>\n",
       "      <td>52</td>\n",
       "      <td>50</td>\n",
       "      <td>0</td>\n",
       "      <td>53</td>\n",
       "      <td>NaN</td>\n",
       "      <td>NaN</td>\n",
       "      <td>NaN</td>\n",
       "      <td>NaN</td>\n",
       "      <td>NaN</td>\n",
       "      <td>NaN</td>\n",
       "    </tr>\n",
       "    <tr>\n",
       "      <th>4</th>\n",
       "      <td>2017-01-29</td>\n",
       "      <td>62</td>\n",
       "      <td>30</td>\n",
       "      <td>32</td>\n",
       "      <td>48</td>\n",
       "      <td>50</td>\n",
       "      <td>0</td>\n",
       "      <td>53</td>\n",
       "      <td>NaN</td>\n",
       "      <td>NaN</td>\n",
       "      <td>NaN</td>\n",
       "      <td>NaN</td>\n",
       "      <td>NaN</td>\n",
       "    </tr>\n",
       "    <tr>\n",
       "      <th>...</th>\n",
       "      <td>...</td>\n",
       "      <td>...</td>\n",
       "      <td>...</td>\n",
       "      <td>...</td>\n",
       "      <td>...</td>\n",
       "      <td>...</td>\n",
       "      <td>...</td>\n",
       "      <td>...</td>\n",
       "      <td>...</td>\n",
       "      <td>...</td>\n",
       "      <td>...</td>\n",
       "      <td>...</td>\n",
       "      <td>...</td>\n",
       "    </tr>\n",
       "    <tr>\n",
       "      <th>161</th>\n",
       "      <td>2020-02-02</td>\n",
       "      <td>175</td>\n",
       "      <td>96</td>\n",
       "      <td>79</td>\n",
       "      <td>0</td>\n",
       "      <td>127</td>\n",
       "      <td>0</td>\n",
       "      <td>47</td>\n",
       "      <td>74</td>\n",
       "      <td>0</td>\n",
       "      <td>47</td>\n",
       "      <td>0</td>\n",
       "      <td>31</td>\n",
       "    </tr>\n",
       "    <tr>\n",
       "      <th>162</th>\n",
       "      <td>2020-02-09</td>\n",
       "      <td>0</td>\n",
       "      <td>0</td>\n",
       "      <td>0</td>\n",
       "      <td>96</td>\n",
       "      <td>0</td>\n",
       "      <td>127</td>\n",
       "      <td>0</td>\n",
       "      <td>47</td>\n",
       "      <td>74</td>\n",
       "      <td>0</td>\n",
       "      <td>47</td>\n",
       "      <td>0</td>\n",
       "    </tr>\n",
       "    <tr>\n",
       "      <th>163</th>\n",
       "      <td>2020-02-16</td>\n",
       "      <td>146</td>\n",
       "      <td>86</td>\n",
       "      <td>60</td>\n",
       "      <td>0</td>\n",
       "      <td>96</td>\n",
       "      <td>0</td>\n",
       "      <td>127</td>\n",
       "      <td>0</td>\n",
       "      <td>47</td>\n",
       "      <td>74</td>\n",
       "      <td>0</td>\n",
       "      <td>47</td>\n",
       "    </tr>\n",
       "    <tr>\n",
       "      <th>164</th>\n",
       "      <td>2020-02-23</td>\n",
       "      <td>0</td>\n",
       "      <td>0</td>\n",
       "      <td>0</td>\n",
       "      <td>86</td>\n",
       "      <td>0</td>\n",
       "      <td>96</td>\n",
       "      <td>0</td>\n",
       "      <td>127</td>\n",
       "      <td>0</td>\n",
       "      <td>47</td>\n",
       "      <td>74</td>\n",
       "      <td>0</td>\n",
       "    </tr>\n",
       "    <tr>\n",
       "      <th>165</th>\n",
       "      <td>2020-03-01</td>\n",
       "      <td>107</td>\n",
       "      <td>47</td>\n",
       "      <td>60</td>\n",
       "      <td>0</td>\n",
       "      <td>86</td>\n",
       "      <td>0</td>\n",
       "      <td>96</td>\n",
       "      <td>0</td>\n",
       "      <td>127</td>\n",
       "      <td>0</td>\n",
       "      <td>47</td>\n",
       "      <td>74</td>\n",
       "    </tr>\n",
       "  </tbody>\n",
       "</table>\n",
       "<p>166 rows × 13 columns</p>\n",
       "</div>"
      ],
      "text/plain": [
       "           data  Entrati_In_Economia_Domestica  Usciti_da_Economia_Domestica  \\\n",
       "0    2017-01-01                            193                            53   \n",
       "1    2017-01-08                              0                             0   \n",
       "2    2017-01-15                            172                            50   \n",
       "3    2017-01-22                            100                            48   \n",
       "4    2017-01-29                             62                            30   \n",
       "..          ...                            ...                           ...   \n",
       "161  2020-02-02                            175                            96   \n",
       "162  2020-02-09                              0                             0   \n",
       "163  2020-02-16                            146                            86   \n",
       "164  2020-02-23                              0                             0   \n",
       "165  2020-03-01                            107                            47   \n",
       "\n",
       "     Numero_Bidoni_in_Economia_Domestica  lag_1  lag_2  lag_3  lag_4  lag_5  \\\n",
       "0                                    140    NaN    NaN    NaN    NaN    NaN   \n",
       "1                                      0     53    NaN    NaN    NaN    NaN   \n",
       "2                                    122      0     53    NaN    NaN    NaN   \n",
       "3                                     52     50      0     53    NaN    NaN   \n",
       "4                                     32     48     50      0     53    NaN   \n",
       "..                                   ...    ...    ...    ...    ...    ...   \n",
       "161                                   79      0    127      0     47     74   \n",
       "162                                    0     96      0    127      0     47   \n",
       "163                                   60      0     96      0    127      0   \n",
       "164                                    0     86      0     96      0    127   \n",
       "165                                   60      0     86      0     96      0   \n",
       "\n",
       "     lag_6  lag_7  lag_8  lag_9  \n",
       "0      NaN    NaN    NaN    NaN  \n",
       "1      NaN    NaN    NaN    NaN  \n",
       "2      NaN    NaN    NaN    NaN  \n",
       "3      NaN    NaN    NaN    NaN  \n",
       "4      NaN    NaN    NaN    NaN  \n",
       "..     ...    ...    ...    ...  \n",
       "161      0     47      0     31  \n",
       "162     74      0     47      0  \n",
       "163     47     74      0     47  \n",
       "164      0     47     74      0  \n",
       "165    127      0     47     74  \n",
       "\n",
       "[166 rows x 13 columns]"
      ]
     },
     "execution_count": 123,
     "metadata": {},
     "output_type": "execute_result"
    }
   ],
   "source": [
    "train_df"
   ]
  },
  {
   "cell_type": "code",
   "execution_count": 124,
   "id": "f6b8adf9",
   "metadata": {},
   "outputs": [
    {
     "name": "stdout",
     "output_type": "stream",
     "text": [
      "0.0288069055339516\n"
     ]
    }
   ],
   "source": [
    "# Import statsmodels.formula.api\n",
    "import statsmodels.formula.api as smf\n",
    "# Define the regression formula\n",
    "model = smf.ols(formula='Usciti_da_Economia_Domestica ~ lag_1+ lag_2 + lag_3+ lag_7+ lag_8 ', data=train_df)\n",
    "# Fit the regression\n",
    "model_fit = model.fit()\n",
    "# Extract the adjusted r-squared\n",
    "regression_adj_rsq = model_fit.rsquared_adj\n",
    "print(regression_adj_rsq)"
   ]
  },
  {
   "cell_type": "markdown",
   "id": "de5e9321",
   "metadata": {},
   "source": [
    "#### plot of number of bins in the storage."
   ]
  },
  {
   "cell_type": "code",
   "execution_count": 127,
   "id": "42d355a1",
   "metadata": {},
   "outputs": [
    {
     "data": {
      "application/vnd.plotly.v1+json": {
       "config": {
        "linkText": "Export to plot.ly",
        "plotlyServerURL": "https://plot.ly",
        "showLink": false
       },
       "data": [
        {
         "type": "scatter",
         "x": [
          "2017-01-01",
          "2017-01-08",
          "2017-01-15",
          "2017-01-22",
          "2017-01-29",
          "2017-02-05",
          "2017-02-12",
          "2017-02-19",
          "2017-02-26",
          "2017-03-05",
          "2017-03-12",
          "2017-03-19",
          "2017-03-26",
          "2017-04-02",
          "2017-04-09",
          "2017-04-16",
          "2017-04-23",
          "2017-04-30",
          "2017-05-07",
          "2017-05-14",
          "2017-05-21",
          "2017-05-28",
          "2017-06-04",
          "2017-06-11",
          "2017-06-18",
          "2017-06-25",
          "2017-07-02",
          "2017-07-09",
          "2017-07-16",
          "2017-07-23",
          "2017-07-30",
          "2017-08-06",
          "2017-08-13",
          "2017-08-20",
          "2017-08-27",
          "2017-09-03",
          "2017-09-10",
          "2017-09-17",
          "2017-09-24",
          "2017-10-01",
          "2017-10-08",
          "2017-10-15",
          "2017-10-22",
          "2017-10-29",
          "2017-11-05",
          "2017-11-12",
          "2017-11-19",
          "2017-11-26",
          "2017-12-03",
          "2017-12-10",
          "2017-12-17",
          "2017-12-24",
          "2017-12-31",
          "2018-01-07",
          "2018-01-14",
          "2018-01-21",
          "2018-01-28",
          "2018-02-04",
          "2018-02-11",
          "2018-02-18",
          "2018-02-25",
          "2018-03-04",
          "2018-03-11",
          "2018-03-18",
          "2018-03-25",
          "2018-04-01",
          "2018-04-08",
          "2018-04-15",
          "2018-04-22",
          "2018-04-29",
          "2018-05-06",
          "2018-05-13",
          "2018-05-20",
          "2018-05-27",
          "2018-06-03",
          "2018-06-10",
          "2018-06-17",
          "2018-06-24",
          "2018-07-01",
          "2018-07-08",
          "2018-07-15",
          "2018-07-22",
          "2018-07-29",
          "2018-08-05",
          "2018-08-12",
          "2018-08-19",
          "2018-08-26",
          "2018-09-02",
          "2018-09-09",
          "2018-09-16",
          "2018-09-23",
          "2018-09-30",
          "2018-10-07",
          "2018-10-14",
          "2018-10-21",
          "2018-10-28",
          "2018-11-04",
          "2018-11-11",
          "2018-11-18",
          "2018-11-25",
          "2018-12-02",
          "2018-12-09",
          "2018-12-16",
          "2018-12-23",
          "2018-12-30",
          "2019-01-06",
          "2019-01-13",
          "2019-01-20",
          "2019-01-27",
          "2019-02-03",
          "2019-02-10",
          "2019-02-17",
          "2019-02-24",
          "2019-03-03",
          "2019-03-10",
          "2019-03-17",
          "2019-03-24",
          "2019-03-31",
          "2019-04-07",
          "2019-04-14",
          "2019-04-21",
          "2019-04-28",
          "2019-05-05",
          "2019-05-12",
          "2019-05-19",
          "2019-05-26",
          "2019-06-02",
          "2019-06-09",
          "2019-06-16",
          "2019-06-23",
          "2019-06-30",
          "2019-07-07",
          "2019-07-14",
          "2019-07-21",
          "2019-07-28",
          "2019-08-04",
          "2019-08-11",
          "2019-08-18",
          "2019-08-25",
          "2019-09-01",
          "2019-09-08",
          "2019-09-15",
          "2019-09-22",
          "2019-09-29",
          "2019-10-06",
          "2019-10-13",
          "2019-10-20",
          "2019-10-27",
          "2019-11-03",
          "2019-11-10",
          "2019-11-17",
          "2019-11-24",
          "2019-12-01",
          "2019-12-08",
          "2019-12-15",
          "2019-12-22",
          "2019-12-29",
          "2020-01-05",
          "2020-01-12",
          "2020-01-19",
          "2020-01-26",
          "2020-02-02",
          "2020-02-09",
          "2020-02-16",
          "2020-02-23",
          "2020-03-01"
         ],
         "y": [
          140,
          0,
          122,
          52,
          32,
          27,
          112,
          125,
          0,
          2,
          99,
          0,
          65,
          104,
          0,
          0,
          45,
          0,
          110,
          0,
          95,
          56,
          127,
          34,
          0,
          0,
          0,
          34,
          61,
          111,
          62,
          0,
          0,
          24,
          35,
          109,
          28,
          0,
          0,
          0,
          85,
          9,
          23,
          3,
          60,
          0,
          1,
          0,
          38,
          40,
          43,
          46,
          20,
          0,
          9,
          116,
          40,
          0,
          4,
          0,
          82,
          0,
          36,
          82,
          70,
          6,
          0,
          9,
          7,
          40,
          65,
          92,
          86,
          0,
          0,
          89,
          165,
          0,
          0,
          0,
          44,
          34,
          49,
          31,
          60,
          18,
          0,
          0,
          0,
          101,
          0,
          62,
          22,
          0,
          60,
          87,
          0,
          0,
          63,
          0,
          72,
          139,
          40,
          7,
          0,
          126,
          59,
          35,
          39,
          38,
          147,
          86,
          77,
          44,
          0,
          64,
          0,
          35,
          49,
          24,
          0,
          35,
          7,
          0,
          0,
          20,
          0,
          32,
          150,
          28,
          73,
          0,
          0,
          9,
          49,
          64,
          3,
          0,
          0,
          114,
          104,
          0,
          14,
          61,
          11,
          0,
          127,
          13,
          0,
          16,
          0,
          0,
          96,
          0,
          152,
          0,
          19,
          30,
          0,
          39,
          0,
          79,
          0,
          60,
          0,
          60
         ]
        }
       ],
       "layout": {
        "template": {
         "data": {
          "bar": [
           {
            "error_x": {
             "color": "#2a3f5f"
            },
            "error_y": {
             "color": "#2a3f5f"
            },
            "marker": {
             "line": {
              "color": "#E5ECF6",
              "width": 0.5
             },
             "pattern": {
              "fillmode": "overlay",
              "size": 10,
              "solidity": 0.2
             }
            },
            "type": "bar"
           }
          ],
          "barpolar": [
           {
            "marker": {
             "line": {
              "color": "#E5ECF6",
              "width": 0.5
             },
             "pattern": {
              "fillmode": "overlay",
              "size": 10,
              "solidity": 0.2
             }
            },
            "type": "barpolar"
           }
          ],
          "carpet": [
           {
            "aaxis": {
             "endlinecolor": "#2a3f5f",
             "gridcolor": "white",
             "linecolor": "white",
             "minorgridcolor": "white",
             "startlinecolor": "#2a3f5f"
            },
            "baxis": {
             "endlinecolor": "#2a3f5f",
             "gridcolor": "white",
             "linecolor": "white",
             "minorgridcolor": "white",
             "startlinecolor": "#2a3f5f"
            },
            "type": "carpet"
           }
          ],
          "choropleth": [
           {
            "colorbar": {
             "outlinewidth": 0,
             "ticks": ""
            },
            "type": "choropleth"
           }
          ],
          "contour": [
           {
            "colorbar": {
             "outlinewidth": 0,
             "ticks": ""
            },
            "colorscale": [
             [
              0,
              "#0d0887"
             ],
             [
              0.1111111111111111,
              "#46039f"
             ],
             [
              0.2222222222222222,
              "#7201a8"
             ],
             [
              0.3333333333333333,
              "#9c179e"
             ],
             [
              0.4444444444444444,
              "#bd3786"
             ],
             [
              0.5555555555555556,
              "#d8576b"
             ],
             [
              0.6666666666666666,
              "#ed7953"
             ],
             [
              0.7777777777777778,
              "#fb9f3a"
             ],
             [
              0.8888888888888888,
              "#fdca26"
             ],
             [
              1,
              "#f0f921"
             ]
            ],
            "type": "contour"
           }
          ],
          "contourcarpet": [
           {
            "colorbar": {
             "outlinewidth": 0,
             "ticks": ""
            },
            "type": "contourcarpet"
           }
          ],
          "heatmap": [
           {
            "colorbar": {
             "outlinewidth": 0,
             "ticks": ""
            },
            "colorscale": [
             [
              0,
              "#0d0887"
             ],
             [
              0.1111111111111111,
              "#46039f"
             ],
             [
              0.2222222222222222,
              "#7201a8"
             ],
             [
              0.3333333333333333,
              "#9c179e"
             ],
             [
              0.4444444444444444,
              "#bd3786"
             ],
             [
              0.5555555555555556,
              "#d8576b"
             ],
             [
              0.6666666666666666,
              "#ed7953"
             ],
             [
              0.7777777777777778,
              "#fb9f3a"
             ],
             [
              0.8888888888888888,
              "#fdca26"
             ],
             [
              1,
              "#f0f921"
             ]
            ],
            "type": "heatmap"
           }
          ],
          "heatmapgl": [
           {
            "colorbar": {
             "outlinewidth": 0,
             "ticks": ""
            },
            "colorscale": [
             [
              0,
              "#0d0887"
             ],
             [
              0.1111111111111111,
              "#46039f"
             ],
             [
              0.2222222222222222,
              "#7201a8"
             ],
             [
              0.3333333333333333,
              "#9c179e"
             ],
             [
              0.4444444444444444,
              "#bd3786"
             ],
             [
              0.5555555555555556,
              "#d8576b"
             ],
             [
              0.6666666666666666,
              "#ed7953"
             ],
             [
              0.7777777777777778,
              "#fb9f3a"
             ],
             [
              0.8888888888888888,
              "#fdca26"
             ],
             [
              1,
              "#f0f921"
             ]
            ],
            "type": "heatmapgl"
           }
          ],
          "histogram": [
           {
            "marker": {
             "pattern": {
              "fillmode": "overlay",
              "size": 10,
              "solidity": 0.2
             }
            },
            "type": "histogram"
           }
          ],
          "histogram2d": [
           {
            "colorbar": {
             "outlinewidth": 0,
             "ticks": ""
            },
            "colorscale": [
             [
              0,
              "#0d0887"
             ],
             [
              0.1111111111111111,
              "#46039f"
             ],
             [
              0.2222222222222222,
              "#7201a8"
             ],
             [
              0.3333333333333333,
              "#9c179e"
             ],
             [
              0.4444444444444444,
              "#bd3786"
             ],
             [
              0.5555555555555556,
              "#d8576b"
             ],
             [
              0.6666666666666666,
              "#ed7953"
             ],
             [
              0.7777777777777778,
              "#fb9f3a"
             ],
             [
              0.8888888888888888,
              "#fdca26"
             ],
             [
              1,
              "#f0f921"
             ]
            ],
            "type": "histogram2d"
           }
          ],
          "histogram2dcontour": [
           {
            "colorbar": {
             "outlinewidth": 0,
             "ticks": ""
            },
            "colorscale": [
             [
              0,
              "#0d0887"
             ],
             [
              0.1111111111111111,
              "#46039f"
             ],
             [
              0.2222222222222222,
              "#7201a8"
             ],
             [
              0.3333333333333333,
              "#9c179e"
             ],
             [
              0.4444444444444444,
              "#bd3786"
             ],
             [
              0.5555555555555556,
              "#d8576b"
             ],
             [
              0.6666666666666666,
              "#ed7953"
             ],
             [
              0.7777777777777778,
              "#fb9f3a"
             ],
             [
              0.8888888888888888,
              "#fdca26"
             ],
             [
              1,
              "#f0f921"
             ]
            ],
            "type": "histogram2dcontour"
           }
          ],
          "mesh3d": [
           {
            "colorbar": {
             "outlinewidth": 0,
             "ticks": ""
            },
            "type": "mesh3d"
           }
          ],
          "parcoords": [
           {
            "line": {
             "colorbar": {
              "outlinewidth": 0,
              "ticks": ""
             }
            },
            "type": "parcoords"
           }
          ],
          "pie": [
           {
            "automargin": true,
            "type": "pie"
           }
          ],
          "scatter": [
           {
            "marker": {
             "colorbar": {
              "outlinewidth": 0,
              "ticks": ""
             }
            },
            "type": "scatter"
           }
          ],
          "scatter3d": [
           {
            "line": {
             "colorbar": {
              "outlinewidth": 0,
              "ticks": ""
             }
            },
            "marker": {
             "colorbar": {
              "outlinewidth": 0,
              "ticks": ""
             }
            },
            "type": "scatter3d"
           }
          ],
          "scattercarpet": [
           {
            "marker": {
             "colorbar": {
              "outlinewidth": 0,
              "ticks": ""
             }
            },
            "type": "scattercarpet"
           }
          ],
          "scattergeo": [
           {
            "marker": {
             "colorbar": {
              "outlinewidth": 0,
              "ticks": ""
             }
            },
            "type": "scattergeo"
           }
          ],
          "scattergl": [
           {
            "marker": {
             "colorbar": {
              "outlinewidth": 0,
              "ticks": ""
             }
            },
            "type": "scattergl"
           }
          ],
          "scattermapbox": [
           {
            "marker": {
             "colorbar": {
              "outlinewidth": 0,
              "ticks": ""
             }
            },
            "type": "scattermapbox"
           }
          ],
          "scatterpolar": [
           {
            "marker": {
             "colorbar": {
              "outlinewidth": 0,
              "ticks": ""
             }
            },
            "type": "scatterpolar"
           }
          ],
          "scatterpolargl": [
           {
            "marker": {
             "colorbar": {
              "outlinewidth": 0,
              "ticks": ""
             }
            },
            "type": "scatterpolargl"
           }
          ],
          "scatterternary": [
           {
            "marker": {
             "colorbar": {
              "outlinewidth": 0,
              "ticks": ""
             }
            },
            "type": "scatterternary"
           }
          ],
          "surface": [
           {
            "colorbar": {
             "outlinewidth": 0,
             "ticks": ""
            },
            "colorscale": [
             [
              0,
              "#0d0887"
             ],
             [
              0.1111111111111111,
              "#46039f"
             ],
             [
              0.2222222222222222,
              "#7201a8"
             ],
             [
              0.3333333333333333,
              "#9c179e"
             ],
             [
              0.4444444444444444,
              "#bd3786"
             ],
             [
              0.5555555555555556,
              "#d8576b"
             ],
             [
              0.6666666666666666,
              "#ed7953"
             ],
             [
              0.7777777777777778,
              "#fb9f3a"
             ],
             [
              0.8888888888888888,
              "#fdca26"
             ],
             [
              1,
              "#f0f921"
             ]
            ],
            "type": "surface"
           }
          ],
          "table": [
           {
            "cells": {
             "fill": {
              "color": "#EBF0F8"
             },
             "line": {
              "color": "white"
             }
            },
            "header": {
             "fill": {
              "color": "#C8D4E3"
             },
             "line": {
              "color": "white"
             }
            },
            "type": "table"
           }
          ]
         },
         "layout": {
          "annotationdefaults": {
           "arrowcolor": "#2a3f5f",
           "arrowhead": 0,
           "arrowwidth": 1
          },
          "autotypenumbers": "strict",
          "coloraxis": {
           "colorbar": {
            "outlinewidth": 0,
            "ticks": ""
           }
          },
          "colorscale": {
           "diverging": [
            [
             0,
             "#8e0152"
            ],
            [
             0.1,
             "#c51b7d"
            ],
            [
             0.2,
             "#de77ae"
            ],
            [
             0.3,
             "#f1b6da"
            ],
            [
             0.4,
             "#fde0ef"
            ],
            [
             0.5,
             "#f7f7f7"
            ],
            [
             0.6,
             "#e6f5d0"
            ],
            [
             0.7,
             "#b8e186"
            ],
            [
             0.8,
             "#7fbc41"
            ],
            [
             0.9,
             "#4d9221"
            ],
            [
             1,
             "#276419"
            ]
           ],
           "sequential": [
            [
             0,
             "#0d0887"
            ],
            [
             0.1111111111111111,
             "#46039f"
            ],
            [
             0.2222222222222222,
             "#7201a8"
            ],
            [
             0.3333333333333333,
             "#9c179e"
            ],
            [
             0.4444444444444444,
             "#bd3786"
            ],
            [
             0.5555555555555556,
             "#d8576b"
            ],
            [
             0.6666666666666666,
             "#ed7953"
            ],
            [
             0.7777777777777778,
             "#fb9f3a"
            ],
            [
             0.8888888888888888,
             "#fdca26"
            ],
            [
             1,
             "#f0f921"
            ]
           ],
           "sequentialminus": [
            [
             0,
             "#0d0887"
            ],
            [
             0.1111111111111111,
             "#46039f"
            ],
            [
             0.2222222222222222,
             "#7201a8"
            ],
            [
             0.3333333333333333,
             "#9c179e"
            ],
            [
             0.4444444444444444,
             "#bd3786"
            ],
            [
             0.5555555555555556,
             "#d8576b"
            ],
            [
             0.6666666666666666,
             "#ed7953"
            ],
            [
             0.7777777777777778,
             "#fb9f3a"
            ],
            [
             0.8888888888888888,
             "#fdca26"
            ],
            [
             1,
             "#f0f921"
            ]
           ]
          },
          "colorway": [
           "#636efa",
           "#EF553B",
           "#00cc96",
           "#ab63fa",
           "#FFA15A",
           "#19d3f3",
           "#FF6692",
           "#B6E880",
           "#FF97FF",
           "#FECB52"
          ],
          "font": {
           "color": "#2a3f5f"
          },
          "geo": {
           "bgcolor": "white",
           "lakecolor": "white",
           "landcolor": "#E5ECF6",
           "showlakes": true,
           "showland": true,
           "subunitcolor": "white"
          },
          "hoverlabel": {
           "align": "left"
          },
          "hovermode": "closest",
          "mapbox": {
           "style": "light"
          },
          "paper_bgcolor": "white",
          "plot_bgcolor": "#E5ECF6",
          "polar": {
           "angularaxis": {
            "gridcolor": "white",
            "linecolor": "white",
            "ticks": ""
           },
           "bgcolor": "#E5ECF6",
           "radialaxis": {
            "gridcolor": "white",
            "linecolor": "white",
            "ticks": ""
           }
          },
          "scene": {
           "xaxis": {
            "backgroundcolor": "#E5ECF6",
            "gridcolor": "white",
            "gridwidth": 2,
            "linecolor": "white",
            "showbackground": true,
            "ticks": "",
            "zerolinecolor": "white"
           },
           "yaxis": {
            "backgroundcolor": "#E5ECF6",
            "gridcolor": "white",
            "gridwidth": 2,
            "linecolor": "white",
            "showbackground": true,
            "ticks": "",
            "zerolinecolor": "white"
           },
           "zaxis": {
            "backgroundcolor": "#E5ECF6",
            "gridcolor": "white",
            "gridwidth": 2,
            "linecolor": "white",
            "showbackground": true,
            "ticks": "",
            "zerolinecolor": "white"
           }
          },
          "shapedefaults": {
           "line": {
            "color": "#2a3f5f"
           }
          },
          "ternary": {
           "aaxis": {
            "gridcolor": "white",
            "linecolor": "white",
            "ticks": ""
           },
           "baxis": {
            "gridcolor": "white",
            "linecolor": "white",
            "ticks": ""
           },
           "bgcolor": "#E5ECF6",
           "caxis": {
            "gridcolor": "white",
            "linecolor": "white",
            "ticks": ""
           }
          },
          "title": {
           "x": 0.05
          },
          "xaxis": {
           "automargin": true,
           "gridcolor": "white",
           "linecolor": "white",
           "ticks": "",
           "title": {
            "standoff": 15
           },
           "zerolinecolor": "white",
           "zerolinewidth": 2
          },
          "yaxis": {
           "automargin": true,
           "gridcolor": "white",
           "linecolor": "white",
           "ticks": "",
           "title": {
            "standoff": 15
           },
           "zerolinecolor": "white",
           "zerolinewidth": 2
          }
         }
        },
        "title": {
         "text": "the difference between the used and the entered bins"
        }
       }
      },
      "text/html": [
       "<div>                            <div id=\"43a9667a-7691-45cc-8ebb-6a6a9c6ae11c\" class=\"plotly-graph-div\" style=\"height:525px; width:100%;\"></div>            <script type=\"text/javascript\">                require([\"plotly\"], function(Plotly) {                    window.PLOTLYENV=window.PLOTLYENV || {};                                    if (document.getElementById(\"43a9667a-7691-45cc-8ebb-6a6a9c6ae11c\")) {                    Plotly.newPlot(                        \"43a9667a-7691-45cc-8ebb-6a6a9c6ae11c\",                        [{\"type\":\"scatter\",\"x\":[\"2017-01-01\",\"2017-01-08\",\"2017-01-15\",\"2017-01-22\",\"2017-01-29\",\"2017-02-05\",\"2017-02-12\",\"2017-02-19\",\"2017-02-26\",\"2017-03-05\",\"2017-03-12\",\"2017-03-19\",\"2017-03-26\",\"2017-04-02\",\"2017-04-09\",\"2017-04-16\",\"2017-04-23\",\"2017-04-30\",\"2017-05-07\",\"2017-05-14\",\"2017-05-21\",\"2017-05-28\",\"2017-06-04\",\"2017-06-11\",\"2017-06-18\",\"2017-06-25\",\"2017-07-02\",\"2017-07-09\",\"2017-07-16\",\"2017-07-23\",\"2017-07-30\",\"2017-08-06\",\"2017-08-13\",\"2017-08-20\",\"2017-08-27\",\"2017-09-03\",\"2017-09-10\",\"2017-09-17\",\"2017-09-24\",\"2017-10-01\",\"2017-10-08\",\"2017-10-15\",\"2017-10-22\",\"2017-10-29\",\"2017-11-05\",\"2017-11-12\",\"2017-11-19\",\"2017-11-26\",\"2017-12-03\",\"2017-12-10\",\"2017-12-17\",\"2017-12-24\",\"2017-12-31\",\"2018-01-07\",\"2018-01-14\",\"2018-01-21\",\"2018-01-28\",\"2018-02-04\",\"2018-02-11\",\"2018-02-18\",\"2018-02-25\",\"2018-03-04\",\"2018-03-11\",\"2018-03-18\",\"2018-03-25\",\"2018-04-01\",\"2018-04-08\",\"2018-04-15\",\"2018-04-22\",\"2018-04-29\",\"2018-05-06\",\"2018-05-13\",\"2018-05-20\",\"2018-05-27\",\"2018-06-03\",\"2018-06-10\",\"2018-06-17\",\"2018-06-24\",\"2018-07-01\",\"2018-07-08\",\"2018-07-15\",\"2018-07-22\",\"2018-07-29\",\"2018-08-05\",\"2018-08-12\",\"2018-08-19\",\"2018-08-26\",\"2018-09-02\",\"2018-09-09\",\"2018-09-16\",\"2018-09-23\",\"2018-09-30\",\"2018-10-07\",\"2018-10-14\",\"2018-10-21\",\"2018-10-28\",\"2018-11-04\",\"2018-11-11\",\"2018-11-18\",\"2018-11-25\",\"2018-12-02\",\"2018-12-09\",\"2018-12-16\",\"2018-12-23\",\"2018-12-30\",\"2019-01-06\",\"2019-01-13\",\"2019-01-20\",\"2019-01-27\",\"2019-02-03\",\"2019-02-10\",\"2019-02-17\",\"2019-02-24\",\"2019-03-03\",\"2019-03-10\",\"2019-03-17\",\"2019-03-24\",\"2019-03-31\",\"2019-04-07\",\"2019-04-14\",\"2019-04-21\",\"2019-04-28\",\"2019-05-05\",\"2019-05-12\",\"2019-05-19\",\"2019-05-26\",\"2019-06-02\",\"2019-06-09\",\"2019-06-16\",\"2019-06-23\",\"2019-06-30\",\"2019-07-07\",\"2019-07-14\",\"2019-07-21\",\"2019-07-28\",\"2019-08-04\",\"2019-08-11\",\"2019-08-18\",\"2019-08-25\",\"2019-09-01\",\"2019-09-08\",\"2019-09-15\",\"2019-09-22\",\"2019-09-29\",\"2019-10-06\",\"2019-10-13\",\"2019-10-20\",\"2019-10-27\",\"2019-11-03\",\"2019-11-10\",\"2019-11-17\",\"2019-11-24\",\"2019-12-01\",\"2019-12-08\",\"2019-12-15\",\"2019-12-22\",\"2019-12-29\",\"2020-01-05\",\"2020-01-12\",\"2020-01-19\",\"2020-01-26\",\"2020-02-02\",\"2020-02-09\",\"2020-02-16\",\"2020-02-23\",\"2020-03-01\"],\"y\":[140,0,122,52,32,27,112,125,0,2,99,0,65,104,0,0,45,0,110,0,95,56,127,34,0,0,0,34,61,111,62,0,0,24,35,109,28,0,0,0,85,9,23,3,60,0,1,0,38,40,43,46,20,0,9,116,40,0,4,0,82,0,36,82,70,6,0,9,7,40,65,92,86,0,0,89,165,0,0,0,44,34,49,31,60,18,0,0,0,101,0,62,22,0,60,87,0,0,63,0,72,139,40,7,0,126,59,35,39,38,147,86,77,44,0,64,0,35,49,24,0,35,7,0,0,20,0,32,150,28,73,0,0,9,49,64,3,0,0,114,104,0,14,61,11,0,127,13,0,16,0,0,96,0,152,0,19,30,0,39,0,79,0,60,0,60]}],                        {\"template\":{\"data\":{\"bar\":[{\"error_x\":{\"color\":\"#2a3f5f\"},\"error_y\":{\"color\":\"#2a3f5f\"},\"marker\":{\"line\":{\"color\":\"#E5ECF6\",\"width\":0.5},\"pattern\":{\"fillmode\":\"overlay\",\"size\":10,\"solidity\":0.2}},\"type\":\"bar\"}],\"barpolar\":[{\"marker\":{\"line\":{\"color\":\"#E5ECF6\",\"width\":0.5},\"pattern\":{\"fillmode\":\"overlay\",\"size\":10,\"solidity\":0.2}},\"type\":\"barpolar\"}],\"carpet\":[{\"aaxis\":{\"endlinecolor\":\"#2a3f5f\",\"gridcolor\":\"white\",\"linecolor\":\"white\",\"minorgridcolor\":\"white\",\"startlinecolor\":\"#2a3f5f\"},\"baxis\":{\"endlinecolor\":\"#2a3f5f\",\"gridcolor\":\"white\",\"linecolor\":\"white\",\"minorgridcolor\":\"white\",\"startlinecolor\":\"#2a3f5f\"},\"type\":\"carpet\"}],\"choropleth\":[{\"colorbar\":{\"outlinewidth\":0,\"ticks\":\"\"},\"type\":\"choropleth\"}],\"contour\":[{\"colorbar\":{\"outlinewidth\":0,\"ticks\":\"\"},\"colorscale\":[[0.0,\"#0d0887\"],[0.1111111111111111,\"#46039f\"],[0.2222222222222222,\"#7201a8\"],[0.3333333333333333,\"#9c179e\"],[0.4444444444444444,\"#bd3786\"],[0.5555555555555556,\"#d8576b\"],[0.6666666666666666,\"#ed7953\"],[0.7777777777777778,\"#fb9f3a\"],[0.8888888888888888,\"#fdca26\"],[1.0,\"#f0f921\"]],\"type\":\"contour\"}],\"contourcarpet\":[{\"colorbar\":{\"outlinewidth\":0,\"ticks\":\"\"},\"type\":\"contourcarpet\"}],\"heatmap\":[{\"colorbar\":{\"outlinewidth\":0,\"ticks\":\"\"},\"colorscale\":[[0.0,\"#0d0887\"],[0.1111111111111111,\"#46039f\"],[0.2222222222222222,\"#7201a8\"],[0.3333333333333333,\"#9c179e\"],[0.4444444444444444,\"#bd3786\"],[0.5555555555555556,\"#d8576b\"],[0.6666666666666666,\"#ed7953\"],[0.7777777777777778,\"#fb9f3a\"],[0.8888888888888888,\"#fdca26\"],[1.0,\"#f0f921\"]],\"type\":\"heatmap\"}],\"heatmapgl\":[{\"colorbar\":{\"outlinewidth\":0,\"ticks\":\"\"},\"colorscale\":[[0.0,\"#0d0887\"],[0.1111111111111111,\"#46039f\"],[0.2222222222222222,\"#7201a8\"],[0.3333333333333333,\"#9c179e\"],[0.4444444444444444,\"#bd3786\"],[0.5555555555555556,\"#d8576b\"],[0.6666666666666666,\"#ed7953\"],[0.7777777777777778,\"#fb9f3a\"],[0.8888888888888888,\"#fdca26\"],[1.0,\"#f0f921\"]],\"type\":\"heatmapgl\"}],\"histogram\":[{\"marker\":{\"pattern\":{\"fillmode\":\"overlay\",\"size\":10,\"solidity\":0.2}},\"type\":\"histogram\"}],\"histogram2d\":[{\"colorbar\":{\"outlinewidth\":0,\"ticks\":\"\"},\"colorscale\":[[0.0,\"#0d0887\"],[0.1111111111111111,\"#46039f\"],[0.2222222222222222,\"#7201a8\"],[0.3333333333333333,\"#9c179e\"],[0.4444444444444444,\"#bd3786\"],[0.5555555555555556,\"#d8576b\"],[0.6666666666666666,\"#ed7953\"],[0.7777777777777778,\"#fb9f3a\"],[0.8888888888888888,\"#fdca26\"],[1.0,\"#f0f921\"]],\"type\":\"histogram2d\"}],\"histogram2dcontour\":[{\"colorbar\":{\"outlinewidth\":0,\"ticks\":\"\"},\"colorscale\":[[0.0,\"#0d0887\"],[0.1111111111111111,\"#46039f\"],[0.2222222222222222,\"#7201a8\"],[0.3333333333333333,\"#9c179e\"],[0.4444444444444444,\"#bd3786\"],[0.5555555555555556,\"#d8576b\"],[0.6666666666666666,\"#ed7953\"],[0.7777777777777778,\"#fb9f3a\"],[0.8888888888888888,\"#fdca26\"],[1.0,\"#f0f921\"]],\"type\":\"histogram2dcontour\"}],\"mesh3d\":[{\"colorbar\":{\"outlinewidth\":0,\"ticks\":\"\"},\"type\":\"mesh3d\"}],\"parcoords\":[{\"line\":{\"colorbar\":{\"outlinewidth\":0,\"ticks\":\"\"}},\"type\":\"parcoords\"}],\"pie\":[{\"automargin\":true,\"type\":\"pie\"}],\"scatter\":[{\"marker\":{\"colorbar\":{\"outlinewidth\":0,\"ticks\":\"\"}},\"type\":\"scatter\"}],\"scatter3d\":[{\"line\":{\"colorbar\":{\"outlinewidth\":0,\"ticks\":\"\"}},\"marker\":{\"colorbar\":{\"outlinewidth\":0,\"ticks\":\"\"}},\"type\":\"scatter3d\"}],\"scattercarpet\":[{\"marker\":{\"colorbar\":{\"outlinewidth\":0,\"ticks\":\"\"}},\"type\":\"scattercarpet\"}],\"scattergeo\":[{\"marker\":{\"colorbar\":{\"outlinewidth\":0,\"ticks\":\"\"}},\"type\":\"scattergeo\"}],\"scattergl\":[{\"marker\":{\"colorbar\":{\"outlinewidth\":0,\"ticks\":\"\"}},\"type\":\"scattergl\"}],\"scattermapbox\":[{\"marker\":{\"colorbar\":{\"outlinewidth\":0,\"ticks\":\"\"}},\"type\":\"scattermapbox\"}],\"scatterpolar\":[{\"marker\":{\"colorbar\":{\"outlinewidth\":0,\"ticks\":\"\"}},\"type\":\"scatterpolar\"}],\"scatterpolargl\":[{\"marker\":{\"colorbar\":{\"outlinewidth\":0,\"ticks\":\"\"}},\"type\":\"scatterpolargl\"}],\"scatterternary\":[{\"marker\":{\"colorbar\":{\"outlinewidth\":0,\"ticks\":\"\"}},\"type\":\"scatterternary\"}],\"surface\":[{\"colorbar\":{\"outlinewidth\":0,\"ticks\":\"\"},\"colorscale\":[[0.0,\"#0d0887\"],[0.1111111111111111,\"#46039f\"],[0.2222222222222222,\"#7201a8\"],[0.3333333333333333,\"#9c179e\"],[0.4444444444444444,\"#bd3786\"],[0.5555555555555556,\"#d8576b\"],[0.6666666666666666,\"#ed7953\"],[0.7777777777777778,\"#fb9f3a\"],[0.8888888888888888,\"#fdca26\"],[1.0,\"#f0f921\"]],\"type\":\"surface\"}],\"table\":[{\"cells\":{\"fill\":{\"color\":\"#EBF0F8\"},\"line\":{\"color\":\"white\"}},\"header\":{\"fill\":{\"color\":\"#C8D4E3\"},\"line\":{\"color\":\"white\"}},\"type\":\"table\"}]},\"layout\":{\"annotationdefaults\":{\"arrowcolor\":\"#2a3f5f\",\"arrowhead\":0,\"arrowwidth\":1},\"autotypenumbers\":\"strict\",\"coloraxis\":{\"colorbar\":{\"outlinewidth\":0,\"ticks\":\"\"}},\"colorscale\":{\"diverging\":[[0,\"#8e0152\"],[0.1,\"#c51b7d\"],[0.2,\"#de77ae\"],[0.3,\"#f1b6da\"],[0.4,\"#fde0ef\"],[0.5,\"#f7f7f7\"],[0.6,\"#e6f5d0\"],[0.7,\"#b8e186\"],[0.8,\"#7fbc41\"],[0.9,\"#4d9221\"],[1,\"#276419\"]],\"sequential\":[[0.0,\"#0d0887\"],[0.1111111111111111,\"#46039f\"],[0.2222222222222222,\"#7201a8\"],[0.3333333333333333,\"#9c179e\"],[0.4444444444444444,\"#bd3786\"],[0.5555555555555556,\"#d8576b\"],[0.6666666666666666,\"#ed7953\"],[0.7777777777777778,\"#fb9f3a\"],[0.8888888888888888,\"#fdca26\"],[1.0,\"#f0f921\"]],\"sequentialminus\":[[0.0,\"#0d0887\"],[0.1111111111111111,\"#46039f\"],[0.2222222222222222,\"#7201a8\"],[0.3333333333333333,\"#9c179e\"],[0.4444444444444444,\"#bd3786\"],[0.5555555555555556,\"#d8576b\"],[0.6666666666666666,\"#ed7953\"],[0.7777777777777778,\"#fb9f3a\"],[0.8888888888888888,\"#fdca26\"],[1.0,\"#f0f921\"]]},\"colorway\":[\"#636efa\",\"#EF553B\",\"#00cc96\",\"#ab63fa\",\"#FFA15A\",\"#19d3f3\",\"#FF6692\",\"#B6E880\",\"#FF97FF\",\"#FECB52\"],\"font\":{\"color\":\"#2a3f5f\"},\"geo\":{\"bgcolor\":\"white\",\"lakecolor\":\"white\",\"landcolor\":\"#E5ECF6\",\"showlakes\":true,\"showland\":true,\"subunitcolor\":\"white\"},\"hoverlabel\":{\"align\":\"left\"},\"hovermode\":\"closest\",\"mapbox\":{\"style\":\"light\"},\"paper_bgcolor\":\"white\",\"plot_bgcolor\":\"#E5ECF6\",\"polar\":{\"angularaxis\":{\"gridcolor\":\"white\",\"linecolor\":\"white\",\"ticks\":\"\"},\"bgcolor\":\"#E5ECF6\",\"radialaxis\":{\"gridcolor\":\"white\",\"linecolor\":\"white\",\"ticks\":\"\"}},\"scene\":{\"xaxis\":{\"backgroundcolor\":\"#E5ECF6\",\"gridcolor\":\"white\",\"gridwidth\":2,\"linecolor\":\"white\",\"showbackground\":true,\"ticks\":\"\",\"zerolinecolor\":\"white\"},\"yaxis\":{\"backgroundcolor\":\"#E5ECF6\",\"gridcolor\":\"white\",\"gridwidth\":2,\"linecolor\":\"white\",\"showbackground\":true,\"ticks\":\"\",\"zerolinecolor\":\"white\"},\"zaxis\":{\"backgroundcolor\":\"#E5ECF6\",\"gridcolor\":\"white\",\"gridwidth\":2,\"linecolor\":\"white\",\"showbackground\":true,\"ticks\":\"\",\"zerolinecolor\":\"white\"}},\"shapedefaults\":{\"line\":{\"color\":\"#2a3f5f\"}},\"ternary\":{\"aaxis\":{\"gridcolor\":\"white\",\"linecolor\":\"white\",\"ticks\":\"\"},\"baxis\":{\"gridcolor\":\"white\",\"linecolor\":\"white\",\"ticks\":\"\"},\"bgcolor\":\"#E5ECF6\",\"caxis\":{\"gridcolor\":\"white\",\"linecolor\":\"white\",\"ticks\":\"\"}},\"title\":{\"x\":0.05},\"xaxis\":{\"automargin\":true,\"gridcolor\":\"white\",\"linecolor\":\"white\",\"ticks\":\"\",\"title\":{\"standoff\":15},\"zerolinecolor\":\"white\",\"zerolinewidth\":2},\"yaxis\":{\"automargin\":true,\"gridcolor\":\"white\",\"linecolor\":\"white\",\"ticks\":\"\",\"title\":{\"standoff\":15},\"zerolinecolor\":\"white\",\"zerolinewidth\":2}}},\"title\":{\"text\":\"the difference between the used and the entered bins\"}},                        {\"responsive\": true}                    ).then(function(){\n",
       "                            \n",
       "var gd = document.getElementById('43a9667a-7691-45cc-8ebb-6a6a9c6ae11c');\n",
       "var x = new MutationObserver(function (mutations, observer) {{\n",
       "        var display = window.getComputedStyle(gd).display;\n",
       "        if (!display || display === 'none') {{\n",
       "            console.log([gd, 'removed!']);\n",
       "            Plotly.purge(gd);\n",
       "            observer.disconnect();\n",
       "        }}\n",
       "}});\n",
       "\n",
       "// Listen for the removal of the full notebook cells\n",
       "var notebookContainer = gd.closest('#notebook-container');\n",
       "if (notebookContainer) {{\n",
       "    x.observe(notebookContainer, {childList: true});\n",
       "}}\n",
       "\n",
       "// Listen for the clearing of the current output cell\n",
       "var outputEl = gd.closest('.output');\n",
       "if (outputEl) {{\n",
       "    x.observe(outputEl, {childList: true});\n",
       "}}\n",
       "\n",
       "                        })                };                });            </script>        </div>"
      ]
     },
     "metadata": {},
     "output_type": "display_data"
    }
   ],
   "source": [
    "plot_data = [\n",
    "    go.Scatter(\n",
    "        x=train_df['data'],\n",
    "        y=train_df['Numero_Bidoni_in_Economia_Domestica'],\n",
    "    )\n",
    "]\n",
    "\n",
    "plot_layout = go.Layout(\n",
    "        title='the difference between the used and the entered bins'\n",
    "    )\n",
    "fig = go.Figure(data=plot_data, layout=plot_layout)\n",
    "pyoff.iplot(fig)"
   ]
  },
  {
   "cell_type": "code",
   "execution_count": 128,
   "id": "b5a935cc",
   "metadata": {},
   "outputs": [],
   "source": [
    "#create dataframe for transformation from time series to supervised\n",
    "df_supervised = train_df.drop(['Usciti_da_Economia_Domestica'],axis=1)\n",
    "#adding lags\n",
    "for inc in range(1,13):\n",
    "    field_name = 'lag_' + str(inc)\n",
    "    df_supervised[field_name] = train_df['Numero_Bidoni_in_Economia_Domestica'].shift(inc)\n",
    "#drop null values\n",
    "df_supervised = df_supervised.dropna().reset_index(drop=True)\n"
   ]
  },
  {
   "cell_type": "code",
   "execution_count": 129,
   "id": "bd9d2d5d",
   "metadata": {},
   "outputs": [
    {
     "data": {
      "text/html": [
       "<div>\n",
       "<style scoped>\n",
       "    .dataframe tbody tr th:only-of-type {\n",
       "        vertical-align: middle;\n",
       "    }\n",
       "\n",
       "    .dataframe tbody tr th {\n",
       "        vertical-align: top;\n",
       "    }\n",
       "\n",
       "    .dataframe thead th {\n",
       "        text-align: right;\n",
       "    }\n",
       "</style>\n",
       "<table border=\"1\" class=\"dataframe\">\n",
       "  <thead>\n",
       "    <tr style=\"text-align: right;\">\n",
       "      <th></th>\n",
       "      <th>data</th>\n",
       "      <th>Entrati_In_Economia_Domestica</th>\n",
       "      <th>Usciti_da_Economia_Domestica</th>\n",
       "      <th>Numero_Bidoni_in_Economia_Domestica</th>\n",
       "      <th>lag_1</th>\n",
       "      <th>lag_2</th>\n",
       "      <th>lag_3</th>\n",
       "      <th>lag_4</th>\n",
       "      <th>lag_5</th>\n",
       "      <th>lag_6</th>\n",
       "      <th>lag_7</th>\n",
       "      <th>lag_8</th>\n",
       "      <th>lag_9</th>\n",
       "    </tr>\n",
       "  </thead>\n",
       "  <tbody>\n",
       "    <tr>\n",
       "      <th>0</th>\n",
       "      <td>2017-01-01</td>\n",
       "      <td>193</td>\n",
       "      <td>53</td>\n",
       "      <td>140</td>\n",
       "      <td>NaN</td>\n",
       "      <td>NaN</td>\n",
       "      <td>NaN</td>\n",
       "      <td>NaN</td>\n",
       "      <td>NaN</td>\n",
       "      <td>NaN</td>\n",
       "      <td>NaN</td>\n",
       "      <td>NaN</td>\n",
       "      <td>NaN</td>\n",
       "    </tr>\n",
       "    <tr>\n",
       "      <th>1</th>\n",
       "      <td>2017-01-08</td>\n",
       "      <td>0</td>\n",
       "      <td>0</td>\n",
       "      <td>0</td>\n",
       "      <td>53</td>\n",
       "      <td>NaN</td>\n",
       "      <td>NaN</td>\n",
       "      <td>NaN</td>\n",
       "      <td>NaN</td>\n",
       "      <td>NaN</td>\n",
       "      <td>NaN</td>\n",
       "      <td>NaN</td>\n",
       "      <td>NaN</td>\n",
       "    </tr>\n",
       "    <tr>\n",
       "      <th>2</th>\n",
       "      <td>2017-01-15</td>\n",
       "      <td>172</td>\n",
       "      <td>50</td>\n",
       "      <td>122</td>\n",
       "      <td>0</td>\n",
       "      <td>53</td>\n",
       "      <td>NaN</td>\n",
       "      <td>NaN</td>\n",
       "      <td>NaN</td>\n",
       "      <td>NaN</td>\n",
       "      <td>NaN</td>\n",
       "      <td>NaN</td>\n",
       "      <td>NaN</td>\n",
       "    </tr>\n",
       "    <tr>\n",
       "      <th>3</th>\n",
       "      <td>2017-01-22</td>\n",
       "      <td>100</td>\n",
       "      <td>48</td>\n",
       "      <td>52</td>\n",
       "      <td>50</td>\n",
       "      <td>0</td>\n",
       "      <td>53</td>\n",
       "      <td>NaN</td>\n",
       "      <td>NaN</td>\n",
       "      <td>NaN</td>\n",
       "      <td>NaN</td>\n",
       "      <td>NaN</td>\n",
       "      <td>NaN</td>\n",
       "    </tr>\n",
       "    <tr>\n",
       "      <th>4</th>\n",
       "      <td>2017-01-29</td>\n",
       "      <td>62</td>\n",
       "      <td>30</td>\n",
       "      <td>32</td>\n",
       "      <td>48</td>\n",
       "      <td>50</td>\n",
       "      <td>0</td>\n",
       "      <td>53</td>\n",
       "      <td>NaN</td>\n",
       "      <td>NaN</td>\n",
       "      <td>NaN</td>\n",
       "      <td>NaN</td>\n",
       "      <td>NaN</td>\n",
       "    </tr>\n",
       "    <tr>\n",
       "      <th>...</th>\n",
       "      <td>...</td>\n",
       "      <td>...</td>\n",
       "      <td>...</td>\n",
       "      <td>...</td>\n",
       "      <td>...</td>\n",
       "      <td>...</td>\n",
       "      <td>...</td>\n",
       "      <td>...</td>\n",
       "      <td>...</td>\n",
       "      <td>...</td>\n",
       "      <td>...</td>\n",
       "      <td>...</td>\n",
       "      <td>...</td>\n",
       "    </tr>\n",
       "    <tr>\n",
       "      <th>161</th>\n",
       "      <td>2020-02-02</td>\n",
       "      <td>175</td>\n",
       "      <td>96</td>\n",
       "      <td>79</td>\n",
       "      <td>0</td>\n",
       "      <td>127</td>\n",
       "      <td>0</td>\n",
       "      <td>47</td>\n",
       "      <td>74</td>\n",
       "      <td>0</td>\n",
       "      <td>47</td>\n",
       "      <td>0</td>\n",
       "      <td>31</td>\n",
       "    </tr>\n",
       "    <tr>\n",
       "      <th>162</th>\n",
       "      <td>2020-02-09</td>\n",
       "      <td>0</td>\n",
       "      <td>0</td>\n",
       "      <td>0</td>\n",
       "      <td>96</td>\n",
       "      <td>0</td>\n",
       "      <td>127</td>\n",
       "      <td>0</td>\n",
       "      <td>47</td>\n",
       "      <td>74</td>\n",
       "      <td>0</td>\n",
       "      <td>47</td>\n",
       "      <td>0</td>\n",
       "    </tr>\n",
       "    <tr>\n",
       "      <th>163</th>\n",
       "      <td>2020-02-16</td>\n",
       "      <td>146</td>\n",
       "      <td>86</td>\n",
       "      <td>60</td>\n",
       "      <td>0</td>\n",
       "      <td>96</td>\n",
       "      <td>0</td>\n",
       "      <td>127</td>\n",
       "      <td>0</td>\n",
       "      <td>47</td>\n",
       "      <td>74</td>\n",
       "      <td>0</td>\n",
       "      <td>47</td>\n",
       "    </tr>\n",
       "    <tr>\n",
       "      <th>164</th>\n",
       "      <td>2020-02-23</td>\n",
       "      <td>0</td>\n",
       "      <td>0</td>\n",
       "      <td>0</td>\n",
       "      <td>86</td>\n",
       "      <td>0</td>\n",
       "      <td>96</td>\n",
       "      <td>0</td>\n",
       "      <td>127</td>\n",
       "      <td>0</td>\n",
       "      <td>47</td>\n",
       "      <td>74</td>\n",
       "      <td>0</td>\n",
       "    </tr>\n",
       "    <tr>\n",
       "      <th>165</th>\n",
       "      <td>2020-03-01</td>\n",
       "      <td>107</td>\n",
       "      <td>47</td>\n",
       "      <td>60</td>\n",
       "      <td>0</td>\n",
       "      <td>86</td>\n",
       "      <td>0</td>\n",
       "      <td>96</td>\n",
       "      <td>0</td>\n",
       "      <td>127</td>\n",
       "      <td>0</td>\n",
       "      <td>47</td>\n",
       "      <td>74</td>\n",
       "    </tr>\n",
       "  </tbody>\n",
       "</table>\n",
       "<p>166 rows × 13 columns</p>\n",
       "</div>"
      ],
      "text/plain": [
       "           data  Entrati_In_Economia_Domestica  Usciti_da_Economia_Domestica  \\\n",
       "0    2017-01-01                            193                            53   \n",
       "1    2017-01-08                              0                             0   \n",
       "2    2017-01-15                            172                            50   \n",
       "3    2017-01-22                            100                            48   \n",
       "4    2017-01-29                             62                            30   \n",
       "..          ...                            ...                           ...   \n",
       "161  2020-02-02                            175                            96   \n",
       "162  2020-02-09                              0                             0   \n",
       "163  2020-02-16                            146                            86   \n",
       "164  2020-02-23                              0                             0   \n",
       "165  2020-03-01                            107                            47   \n",
       "\n",
       "     Numero_Bidoni_in_Economia_Domestica  lag_1  lag_2  lag_3  lag_4  lag_5  \\\n",
       "0                                    140    NaN    NaN    NaN    NaN    NaN   \n",
       "1                                      0     53    NaN    NaN    NaN    NaN   \n",
       "2                                    122      0     53    NaN    NaN    NaN   \n",
       "3                                     52     50      0     53    NaN    NaN   \n",
       "4                                     32     48     50      0     53    NaN   \n",
       "..                                   ...    ...    ...    ...    ...    ...   \n",
       "161                                   79      0    127      0     47     74   \n",
       "162                                    0     96      0    127      0     47   \n",
       "163                                   60      0     96      0    127      0   \n",
       "164                                    0     86      0     96      0    127   \n",
       "165                                   60      0     86      0     96      0   \n",
       "\n",
       "     lag_6  lag_7  lag_8  lag_9  \n",
       "0      NaN    NaN    NaN    NaN  \n",
       "1      NaN    NaN    NaN    NaN  \n",
       "2      NaN    NaN    NaN    NaN  \n",
       "3      NaN    NaN    NaN    NaN  \n",
       "4      NaN    NaN    NaN    NaN  \n",
       "..     ...    ...    ...    ...  \n",
       "161      0     47      0     31  \n",
       "162     74      0     47      0  \n",
       "163     47     74      0     47  \n",
       "164      0     47     74      0  \n",
       "165    127      0     47     74  \n",
       "\n",
       "[166 rows x 13 columns]"
      ]
     },
     "execution_count": 129,
     "metadata": {},
     "output_type": "execute_result"
    }
   ],
   "source": [
    "train_df"
   ]
  },
  {
   "cell_type": "code",
   "execution_count": 130,
   "id": "4460a4ae",
   "metadata": {},
   "outputs": [
    {
     "data": {
      "text/html": [
       "<div>\n",
       "<style scoped>\n",
       "    .dataframe tbody tr th:only-of-type {\n",
       "        vertical-align: middle;\n",
       "    }\n",
       "\n",
       "    .dataframe tbody tr th {\n",
       "        vertical-align: top;\n",
       "    }\n",
       "\n",
       "    .dataframe thead th {\n",
       "        text-align: right;\n",
       "    }\n",
       "</style>\n",
       "<table border=\"1\" class=\"dataframe\">\n",
       "  <thead>\n",
       "    <tr style=\"text-align: right;\">\n",
       "      <th></th>\n",
       "      <th>data</th>\n",
       "      <th>Entrati_In_Economia_Domestica</th>\n",
       "      <th>Numero_Bidoni_in_Economia_Domestica</th>\n",
       "      <th>lag_1</th>\n",
       "      <th>lag_2</th>\n",
       "      <th>lag_3</th>\n",
       "      <th>lag_4</th>\n",
       "      <th>lag_5</th>\n",
       "      <th>lag_6</th>\n",
       "      <th>lag_7</th>\n",
       "      <th>lag_8</th>\n",
       "      <th>lag_9</th>\n",
       "      <th>lag_10</th>\n",
       "      <th>lag_11</th>\n",
       "      <th>lag_12</th>\n",
       "    </tr>\n",
       "  </thead>\n",
       "  <tbody>\n",
       "    <tr>\n",
       "      <th>0</th>\n",
       "      <td>2017-03-26</td>\n",
       "      <td>196</td>\n",
       "      <td>65</td>\n",
       "      <td>0</td>\n",
       "      <td>99</td>\n",
       "      <td>2</td>\n",
       "      <td>0</td>\n",
       "      <td>125</td>\n",
       "      <td>112</td>\n",
       "      <td>27</td>\n",
       "      <td>32</td>\n",
       "      <td>52</td>\n",
       "      <td>122</td>\n",
       "      <td>0</td>\n",
       "      <td>140</td>\n",
       "    </tr>\n",
       "    <tr>\n",
       "      <th>1</th>\n",
       "      <td>2017-04-02</td>\n",
       "      <td>157</td>\n",
       "      <td>104</td>\n",
       "      <td>65</td>\n",
       "      <td>0</td>\n",
       "      <td>99</td>\n",
       "      <td>2</td>\n",
       "      <td>0</td>\n",
       "      <td>125</td>\n",
       "      <td>112</td>\n",
       "      <td>27</td>\n",
       "      <td>32</td>\n",
       "      <td>52</td>\n",
       "      <td>122</td>\n",
       "      <td>0</td>\n",
       "    </tr>\n",
       "    <tr>\n",
       "      <th>2</th>\n",
       "      <td>2017-04-09</td>\n",
       "      <td>0</td>\n",
       "      <td>0</td>\n",
       "      <td>104</td>\n",
       "      <td>65</td>\n",
       "      <td>0</td>\n",
       "      <td>99</td>\n",
       "      <td>2</td>\n",
       "      <td>0</td>\n",
       "      <td>125</td>\n",
       "      <td>112</td>\n",
       "      <td>27</td>\n",
       "      <td>32</td>\n",
       "      <td>52</td>\n",
       "      <td>122</td>\n",
       "    </tr>\n",
       "    <tr>\n",
       "      <th>3</th>\n",
       "      <td>2017-04-16</td>\n",
       "      <td>0</td>\n",
       "      <td>0</td>\n",
       "      <td>0</td>\n",
       "      <td>104</td>\n",
       "      <td>65</td>\n",
       "      <td>0</td>\n",
       "      <td>99</td>\n",
       "      <td>2</td>\n",
       "      <td>0</td>\n",
       "      <td>125</td>\n",
       "      <td>112</td>\n",
       "      <td>27</td>\n",
       "      <td>32</td>\n",
       "      <td>52</td>\n",
       "    </tr>\n",
       "    <tr>\n",
       "      <th>4</th>\n",
       "      <td>2017-04-23</td>\n",
       "      <td>163</td>\n",
       "      <td>45</td>\n",
       "      <td>0</td>\n",
       "      <td>0</td>\n",
       "      <td>104</td>\n",
       "      <td>65</td>\n",
       "      <td>0</td>\n",
       "      <td>99</td>\n",
       "      <td>2</td>\n",
       "      <td>0</td>\n",
       "      <td>125</td>\n",
       "      <td>112</td>\n",
       "      <td>27</td>\n",
       "      <td>32</td>\n",
       "    </tr>\n",
       "    <tr>\n",
       "      <th>...</th>\n",
       "      <td>...</td>\n",
       "      <td>...</td>\n",
       "      <td>...</td>\n",
       "      <td>...</td>\n",
       "      <td>...</td>\n",
       "      <td>...</td>\n",
       "      <td>...</td>\n",
       "      <td>...</td>\n",
       "      <td>...</td>\n",
       "      <td>...</td>\n",
       "      <td>...</td>\n",
       "      <td>...</td>\n",
       "      <td>...</td>\n",
       "      <td>...</td>\n",
       "      <td>...</td>\n",
       "    </tr>\n",
       "    <tr>\n",
       "      <th>149</th>\n",
       "      <td>2020-02-02</td>\n",
       "      <td>175</td>\n",
       "      <td>79</td>\n",
       "      <td>0</td>\n",
       "      <td>39</td>\n",
       "      <td>0</td>\n",
       "      <td>30</td>\n",
       "      <td>19</td>\n",
       "      <td>0</td>\n",
       "      <td>152</td>\n",
       "      <td>0</td>\n",
       "      <td>96</td>\n",
       "      <td>0</td>\n",
       "      <td>0</td>\n",
       "      <td>16</td>\n",
       "    </tr>\n",
       "    <tr>\n",
       "      <th>150</th>\n",
       "      <td>2020-02-09</td>\n",
       "      <td>0</td>\n",
       "      <td>0</td>\n",
       "      <td>79</td>\n",
       "      <td>0</td>\n",
       "      <td>39</td>\n",
       "      <td>0</td>\n",
       "      <td>30</td>\n",
       "      <td>19</td>\n",
       "      <td>0</td>\n",
       "      <td>152</td>\n",
       "      <td>0</td>\n",
       "      <td>96</td>\n",
       "      <td>0</td>\n",
       "      <td>0</td>\n",
       "    </tr>\n",
       "    <tr>\n",
       "      <th>151</th>\n",
       "      <td>2020-02-16</td>\n",
       "      <td>146</td>\n",
       "      <td>60</td>\n",
       "      <td>0</td>\n",
       "      <td>79</td>\n",
       "      <td>0</td>\n",
       "      <td>39</td>\n",
       "      <td>0</td>\n",
       "      <td>30</td>\n",
       "      <td>19</td>\n",
       "      <td>0</td>\n",
       "      <td>152</td>\n",
       "      <td>0</td>\n",
       "      <td>96</td>\n",
       "      <td>0</td>\n",
       "    </tr>\n",
       "    <tr>\n",
       "      <th>152</th>\n",
       "      <td>2020-02-23</td>\n",
       "      <td>0</td>\n",
       "      <td>0</td>\n",
       "      <td>60</td>\n",
       "      <td>0</td>\n",
       "      <td>79</td>\n",
       "      <td>0</td>\n",
       "      <td>39</td>\n",
       "      <td>0</td>\n",
       "      <td>30</td>\n",
       "      <td>19</td>\n",
       "      <td>0</td>\n",
       "      <td>152</td>\n",
       "      <td>0</td>\n",
       "      <td>96</td>\n",
       "    </tr>\n",
       "    <tr>\n",
       "      <th>153</th>\n",
       "      <td>2020-03-01</td>\n",
       "      <td>107</td>\n",
       "      <td>60</td>\n",
       "      <td>0</td>\n",
       "      <td>60</td>\n",
       "      <td>0</td>\n",
       "      <td>79</td>\n",
       "      <td>0</td>\n",
       "      <td>39</td>\n",
       "      <td>0</td>\n",
       "      <td>30</td>\n",
       "      <td>19</td>\n",
       "      <td>0</td>\n",
       "      <td>152</td>\n",
       "      <td>0</td>\n",
       "    </tr>\n",
       "  </tbody>\n",
       "</table>\n",
       "<p>154 rows × 15 columns</p>\n",
       "</div>"
      ],
      "text/plain": [
       "           data  Entrati_In_Economia_Domestica  \\\n",
       "0    2017-03-26                            196   \n",
       "1    2017-04-02                            157   \n",
       "2    2017-04-09                              0   \n",
       "3    2017-04-16                              0   \n",
       "4    2017-04-23                            163   \n",
       "..          ...                            ...   \n",
       "149  2020-02-02                            175   \n",
       "150  2020-02-09                              0   \n",
       "151  2020-02-16                            146   \n",
       "152  2020-02-23                              0   \n",
       "153  2020-03-01                            107   \n",
       "\n",
       "     Numero_Bidoni_in_Economia_Domestica  lag_1  lag_2  lag_3  lag_4  lag_5  \\\n",
       "0                                     65      0     99      2      0    125   \n",
       "1                                    104     65      0     99      2      0   \n",
       "2                                      0    104     65      0     99      2   \n",
       "3                                      0      0    104     65      0     99   \n",
       "4                                     45      0      0    104     65      0   \n",
       "..                                   ...    ...    ...    ...    ...    ...   \n",
       "149                                   79      0     39      0     30     19   \n",
       "150                                    0     79      0     39      0     30   \n",
       "151                                   60      0     79      0     39      0   \n",
       "152                                    0     60      0     79      0     39   \n",
       "153                                   60      0     60      0     79      0   \n",
       "\n",
       "     lag_6  lag_7  lag_8  lag_9  lag_10  lag_11  lag_12  \n",
       "0      112     27     32     52     122       0     140  \n",
       "1      125    112     27     32      52     122       0  \n",
       "2        0    125    112     27      32      52     122  \n",
       "3        2      0    125    112      27      32      52  \n",
       "4       99      2      0    125     112      27      32  \n",
       "..     ...    ...    ...    ...     ...     ...     ...  \n",
       "149      0    152      0     96       0       0      16  \n",
       "150     19      0    152      0      96       0       0  \n",
       "151     30     19      0    152       0      96       0  \n",
       "152      0     30     19      0     152       0      96  \n",
       "153     39      0     30     19       0     152       0  \n",
       "\n",
       "[154 rows x 15 columns]"
      ]
     },
     "execution_count": 130,
     "metadata": {},
     "output_type": "execute_result"
    }
   ],
   "source": [
    "df_supervised"
   ]
  },
  {
   "cell_type": "code",
   "execution_count": 131,
   "id": "78fe242b",
   "metadata": {},
   "outputs": [],
   "source": [
    "# # Import statsmodels.formula.api\n",
    "# import statsmodels.formula.api as smf\n",
    "# # Define the regression formula\n",
    "# model = smf.ols(formula='Numero_Bidoni_in_Economia_Domestica ~ lag_1+ lag_3+ lag_4+ lag_5+ lag_6+  lag_9 ', data=df_supervised)\n",
    "# # Fit the regression\n",
    "# model_fit = model.fit()\n",
    "# # Extract the adjusted r-squared\n",
    "# regression_adj_rsq = model_fit.rsquared_adj\n",
    "# print(regression_adj_rsq)"
   ]
  },
  {
   "cell_type": "markdown",
   "id": "a46a40bd",
   "metadata": {},
   "source": [
    "#### predicting the number of bins needed"
   ]
  },
  {
   "cell_type": "code",
   "execution_count": 137,
   "id": "2af1cc72",
   "metadata": {},
   "outputs": [],
   "source": [
    "#import MinMaxScaler and create a new dataframe for LSTM model\n",
    "from sklearn.preprocessing import MinMaxScaler\n",
    "df_model = df_supervised.drop(['Entrati_In_Economia_Domestica','data'],axis=1)\n",
    "#split train and test set\n",
    "train_set, test_set = df_model[0:-46].values, df_model[-46:].values"
   ]
  },
  {
   "cell_type": "code",
   "execution_count": 138,
   "id": "9b621c27",
   "metadata": {},
   "outputs": [],
   "source": [
    "#apply Min Max Scaler\n",
    "scaler = MinMaxScaler(feature_range=(-1, 1))\n",
    "scaler = scaler.fit(train_set)\n",
    "# reshape training set\n",
    "train_set = train_set.reshape(train_set.shape[0], train_set.shape[1])\n",
    "train_set_scaled = scaler.transform(train_set)\n",
    "# reshape test set\n",
    "test_set = test_set.reshape(test_set.shape[0], test_set.shape[1])\n",
    "test_set_scaled = scaler.transform(test_set)"
   ]
  },
  {
   "cell_type": "code",
   "execution_count": 139,
   "id": "ad45569f",
   "metadata": {},
   "outputs": [],
   "source": [
    "X_train, y_train = train_set_scaled[:, 1:], train_set_scaled[:, 0:1]\n",
    "X_train = X_train.reshape(X_train.shape[0], 1, X_train.shape[1])\n",
    "X_test, y_test = test_set_scaled[:, 1:], test_set_scaled[:, 0:1]\n",
    "X_test = X_test.reshape(X_test.shape[0], 1, X_test.shape[1])"
   ]
  },
  {
   "cell_type": "code",
   "execution_count": 140,
   "id": "d4e925f4",
   "metadata": {
    "scrolled": true
   },
   "outputs": [
    {
     "name": "stdout",
     "output_type": "stream",
     "text": [
      "Epoch 1/100\n",
      "108/108 [==============================] - 1s 904us/step - loss: 0.3918\n",
      "Epoch 2/100\n",
      "108/108 [==============================] - 0s 975us/step - loss: 0.2469\n",
      "Epoch 3/100\n",
      "108/108 [==============================] - 0s 913us/step - loss: 0.2413\n",
      "Epoch 4/100\n",
      "108/108 [==============================] - 0s 1ms/step - loss: 0.2389\n",
      "Epoch 5/100\n",
      "108/108 [==============================] - 0s 955us/step - loss: 0.2368\n",
      "Epoch 6/100\n",
      "108/108 [==============================] - 0s 920us/step - loss: 0.2346\n",
      "Epoch 7/100\n",
      "108/108 [==============================] - 0s 940us/step - loss: 0.2325\n",
      "Epoch 8/100\n",
      "108/108 [==============================] - 0s 929us/step - loss: 0.2305\n",
      "Epoch 9/100\n",
      "108/108 [==============================] - 0s 925us/step - loss: 0.2285\n",
      "Epoch 10/100\n",
      "108/108 [==============================] - 0s 926us/step - loss: 0.2266\n",
      "Epoch 11/100\n",
      "108/108 [==============================] - 0s 1ms/step - loss: 0.2248\n",
      "Epoch 12/100\n",
      "108/108 [==============================] - 0s 923us/step - loss: 0.2230\n",
      "Epoch 13/100\n",
      "108/108 [==============================] - 0s 889us/step - loss: 0.2214\n",
      "Epoch 14/100\n",
      "108/108 [==============================] - 0s 1ms/step - loss: 0.2199\n",
      "Epoch 15/100\n",
      "108/108 [==============================] - 0s 1ms/step - loss: 0.2184\n",
      "Epoch 16/100\n",
      "108/108 [==============================] - 0s 907us/step - loss: 0.2171\n",
      "Epoch 17/100\n",
      "108/108 [==============================] - 0s 981us/step - loss: 0.2158\n",
      "Epoch 18/100\n",
      "108/108 [==============================] - 0s 1ms/step - loss: 0.2146\n",
      "Epoch 19/100\n",
      "108/108 [==============================] - 0s 934us/step - loss: 0.2135\n",
      "Epoch 20/100\n",
      "108/108 [==============================] - 0s 950us/step - loss: 0.2123\n",
      "Epoch 21/100\n",
      "108/108 [==============================] - 0s 1ms/step - loss: 0.2113\n",
      "Epoch 22/100\n",
      "108/108 [==============================] - 0s 1ms/step - loss: 0.2102\n",
      "Epoch 23/100\n",
      "108/108 [==============================] - 0s 1ms/step - loss: 0.2092\n",
      "Epoch 24/100\n",
      "108/108 [==============================] - 0s 1ms/step - loss: 0.2082\n",
      "Epoch 25/100\n",
      "108/108 [==============================] - 0s 1ms/step - loss: 0.2072\n",
      "Epoch 26/100\n",
      "108/108 [==============================] - 0s 1ms/step - loss: 0.2062\n",
      "Epoch 27/100\n",
      "108/108 [==============================] - 0s 2ms/step - loss: 0.2052\n",
      "Epoch 28/100\n",
      "108/108 [==============================] - 0s 1ms/step - loss: 0.2042\n",
      "Epoch 29/100\n",
      "108/108 [==============================] - 0s 886us/step - loss: 0.2032\n",
      "Epoch 30/100\n",
      "108/108 [==============================] - 0s 788us/step - loss: 0.2022\n",
      "Epoch 31/100\n",
      "108/108 [==============================] - 0s 805us/step - loss: 0.2012\n",
      "Epoch 32/100\n",
      "108/108 [==============================] - 0s 826us/step - loss: 0.2002\n",
      "Epoch 33/100\n",
      "108/108 [==============================] - 0s 897us/step - loss: 0.1992\n",
      "Epoch 34/100\n",
      "108/108 [==============================] - 0s 841us/step - loss: 0.1981\n",
      "Epoch 35/100\n",
      "108/108 [==============================] - 0s 756us/step - loss: 0.1971\n",
      "Epoch 36/100\n",
      "108/108 [==============================] - 0s 860us/step - loss: 0.1960\n",
      "Epoch 37/100\n",
      "108/108 [==============================] - 0s 955us/step - loss: 0.1949\n",
      "Epoch 38/100\n",
      "108/108 [==============================] - 0s 780us/step - loss: 0.1938\n",
      "Epoch 39/100\n",
      "108/108 [==============================] - 0s 793us/step - loss: 0.1927\n",
      "Epoch 40/100\n",
      "108/108 [==============================] - 0s 902us/step - loss: 0.1916\n",
      "Epoch 41/100\n",
      "108/108 [==============================] - 0s 900us/step - loss: 0.1905\n",
      "Epoch 42/100\n",
      "108/108 [==============================] - 0s 810us/step - loss: 0.1893\n",
      "Epoch 43/100\n",
      "108/108 [==============================] - 0s 849us/step - loss: 0.1882\n",
      "Epoch 44/100\n",
      "108/108 [==============================] - 0s 841us/step - loss: 0.1871\n",
      "Epoch 45/100\n",
      "108/108 [==============================] - 0s 778us/step - loss: 0.1860\n",
      "Epoch 46/100\n",
      "108/108 [==============================] - 0s 934us/step - loss: 0.1849\n",
      "Epoch 47/100\n",
      "108/108 [==============================] - 0s 838us/step - loss: 0.1838\n",
      "Epoch 48/100\n",
      "108/108 [==============================] - 0s 770us/step - loss: 0.1827\n",
      "Epoch 49/100\n",
      "108/108 [==============================] - 0s 853us/step - loss: 0.1816\n",
      "Epoch 50/100\n",
      "108/108 [==============================] - 0s 950us/step - loss: 0.1804\n",
      "Epoch 51/100\n",
      "108/108 [==============================] - 0s 1ms/step - loss: 0.1793\n",
      "Epoch 52/100\n",
      "108/108 [==============================] - 0s 829us/step - loss: 0.1781\n",
      "Epoch 53/100\n",
      "108/108 [==============================] - 0s 835us/step - loss: 0.1769\n",
      "Epoch 54/100\n",
      "108/108 [==============================] - 0s 841us/step - loss: 0.1756\n",
      "Epoch 55/100\n",
      "108/108 [==============================] - 0s 686us/step - loss: 0.1743\n",
      "Epoch 56/100\n",
      "108/108 [==============================] - 0s 685us/step - loss: 0.1730\n",
      "Epoch 57/100\n",
      "108/108 [==============================] - 0s 753us/step - loss: 0.1717\n",
      "Epoch 58/100\n",
      "108/108 [==============================] - 0s 656us/step - loss: 0.1703\n",
      "Epoch 59/100\n",
      "108/108 [==============================] - 0s 949us/step - loss: 0.1689\n",
      "Epoch 60/100\n",
      "108/108 [==============================] - 0s 914us/step - loss: 0.1675\n",
      "Epoch 61/100\n",
      "108/108 [==============================] - 0s 965us/step - loss: 0.1661\n",
      "Epoch 62/100\n",
      "108/108 [==============================] - 0s 1ms/step - loss: 0.1646\n",
      "Epoch 63/100\n",
      "108/108 [==============================] - 0s 923us/step - loss: 0.1631\n",
      "Epoch 64/100\n",
      "108/108 [==============================] - 0s 1ms/step - loss: 0.1615\n",
      "Epoch 65/100\n",
      "108/108 [==============================] - 0s 903us/step - loss: 0.1600\n",
      "Epoch 66/100\n",
      "108/108 [==============================] - 0s 915us/step - loss: 0.1584\n",
      "Epoch 67/100\n",
      "108/108 [==============================] - 0s 982us/step - loss: 0.1568\n",
      "Epoch 68/100\n",
      "108/108 [==============================] - 0s 859us/step - loss: 0.1552\n",
      "Epoch 69/100\n",
      "108/108 [==============================] - 0s 936us/step - loss: 0.1536\n",
      "Epoch 70/100\n",
      "108/108 [==============================] - 0s 875us/step - loss: 0.1519\n",
      "Epoch 71/100\n",
      "108/108 [==============================] - 0s 855us/step - loss: 0.1502\n",
      "Epoch 72/100\n",
      "108/108 [==============================] - 0s 789us/step - loss: 0.1485\n",
      "Epoch 73/100\n",
      "108/108 [==============================] - 0s 801us/step - loss: 0.1468\n",
      "Epoch 74/100\n",
      "108/108 [==============================] - 0s 846us/step - loss: 0.1450\n",
      "Epoch 75/100\n",
      "108/108 [==============================] - 0s 837us/step - loss: 0.1433\n",
      "Epoch 76/100\n",
      "108/108 [==============================] - 0s 908us/step - loss: 0.1415\n",
      "Epoch 77/100\n",
      "108/108 [==============================] - 0s 687us/step - loss: 0.1397\n",
      "Epoch 78/100\n",
      "108/108 [==============================] - 0s 703us/step - loss: 0.1379\n",
      "Epoch 79/100\n",
      "108/108 [==============================] - 0s 954us/step - loss: 0.1361\n",
      "Epoch 80/100\n",
      "108/108 [==============================] - 0s 913us/step - loss: 0.1342\n",
      "Epoch 81/100\n",
      "108/108 [==============================] - 0s 980us/step - loss: 0.1324\n",
      "Epoch 82/100\n",
      "108/108 [==============================] - 0s 824us/step - loss: 0.1306\n",
      "Epoch 83/100\n",
      "108/108 [==============================] - 0s 886us/step - loss: 0.1287\n",
      "Epoch 84/100\n",
      "108/108 [==============================] - 0s 673us/step - loss: 0.1269\n",
      "Epoch 85/100\n",
      "108/108 [==============================] - 0s 822us/step - loss: 0.1250\n",
      "Epoch 86/100\n",
      "108/108 [==============================] - 0s 1ms/step - loss: 0.1232\n",
      "Epoch 87/100\n",
      "108/108 [==============================] - 0s 839us/step - loss: 0.1213\n",
      "Epoch 88/100\n",
      "108/108 [==============================] - 0s 1ms/step - loss: 0.1195\n",
      "Epoch 89/100\n",
      "108/108 [==============================] - 0s 1ms/step - loss: 0.1176\n",
      "Epoch 90/100\n",
      "108/108 [==============================] - 0s 1ms/step - loss: 0.1158\n",
      "Epoch 91/100\n",
      "108/108 [==============================] - 0s 1ms/step - loss: 0.1140\n",
      "Epoch 92/100\n",
      "108/108 [==============================] - 0s 1ms/step - loss: 0.1121\n",
      "Epoch 93/100\n",
      "108/108 [==============================] - 0s 1ms/step - loss: 0.1103\n",
      "Epoch 94/100\n",
      "108/108 [==============================] - 0s 1ms/step - loss: 0.1085\n",
      "Epoch 95/100\n",
      "108/108 [==============================] - 0s 851us/step - loss: 0.1068\n",
      "Epoch 96/100\n",
      "108/108 [==============================] - 0s 774us/step - loss: 0.1050\n",
      "Epoch 97/100\n",
      "108/108 [==============================] - 0s 832us/step - loss: 0.1033\n",
      "Epoch 98/100\n"
     ]
    },
    {
     "name": "stdout",
     "output_type": "stream",
     "text": [
      "108/108 [==============================] - 0s 791us/step - loss: 0.1016\n",
      "Epoch 99/100\n",
      "108/108 [==============================] - 0s 887us/step - loss: 0.0999\n",
      "Epoch 100/100\n",
      "108/108 [==============================] - 0s 898us/step - loss: 0.0982\n"
     ]
    },
    {
     "data": {
      "text/plain": [
       "<keras.callbacks.History at 0x15d4c6490>"
      ]
     },
     "execution_count": 140,
     "metadata": {},
     "output_type": "execute_result"
    }
   ],
   "source": [
    "model = Sequential()\n",
    "model.add(LSTM(4, batch_input_shape=(1, X_train.shape[1], X_train.shape[2]), stateful=True))\n",
    "model.add(Dense(1))\n",
    "model.compile(loss='mean_squared_error', optimizer='Adam')\n",
    "model.fit(X_train, y_train, epochs=100, batch_size=1, verbose=1, shuffle=False)"
   ]
  },
  {
   "cell_type": "code",
   "execution_count": 141,
   "id": "c9e3c509",
   "metadata": {},
   "outputs": [],
   "source": [
    "y_pred = model.predict(X_test,batch_size=1)\n",
    "#for multistep prediction, you need to replace X_test values with the predictions coming from t-1\n"
   ]
  },
  {
   "cell_type": "code",
   "execution_count": 142,
   "id": "093447c9",
   "metadata": {},
   "outputs": [
    {
     "name": "stdout",
     "output_type": "stream",
     "text": [
      "[[-0.77466929 -0.70909091 -0.40606061 -0.57575758 -1.         -0.22424242\n",
      "  -1.         -0.46666667 -0.06666667  0.04242424  0.78181818 -0.53939394\n",
      "  -0.52727273]]\n",
      "[[-0.79829174 -1.         -0.70909091 -0.40606061 -0.57575758 -1.\n",
      "  -0.22424242 -1.         -0.46666667 -0.06666667  0.04242424  0.78181818\n",
      "  -0.53939394]]\n",
      "[[-0.92184162 -0.57575758 -1.         -0.70909091 -0.40606061 -0.57575758\n",
      "  -1.         -0.22424242 -1.         -0.46666667 -0.06666667  0.04242424\n",
      "   0.78181818]]\n",
      "[[-0.67387909 -0.91515152 -0.57575758 -1.         -0.70909091 -0.40606061\n",
      "  -0.57575758 -1.         -0.22424242 -1.         -0.46666667 -0.06666667\n",
      "   0.04242424]]\n",
      "[[-0.78647006 -1.         -0.91515152 -0.57575758 -1.         -0.70909091\n",
      "  -0.40606061 -0.57575758 -1.         -0.22424242 -1.         -0.46666667\n",
      "  -0.06666667]]\n",
      "[[-0.67382014 -1.         -1.         -0.91515152 -0.57575758 -1.\n",
      "  -0.70909091 -0.40606061 -0.57575758 -1.         -0.22424242 -1.\n",
      "  -0.46666667]]\n",
      "[[-0.15403597 -0.75757576 -1.         -1.         -0.91515152 -0.57575758\n",
      "  -1.         -0.70909091 -0.40606061 -0.57575758 -1.         -0.22424242\n",
      "  -1.        ]]\n",
      "[[-0.60649103 -1.         -0.75757576 -1.         -1.         -0.91515152\n",
      "  -0.57575758 -1.         -0.70909091 -0.40606061 -0.57575758 -1.\n",
      "  -0.22424242]]\n",
      "[[-0.40873933 -0.61212121 -1.         -0.75757576 -1.         -1.\n",
      "  -0.91515152 -0.57575758 -1.         -0.70909091 -0.40606061 -0.57575758\n",
      "  -1.        ]]\n",
      "[[-0.58740604  0.81818182 -0.61212121 -1.         -0.75757576 -1.\n",
      "  -1.         -0.91515152 -0.57575758 -1.         -0.70909091 -0.40606061\n",
      "  -0.57575758]]\n",
      "[[-1.32851708 -0.66060606  0.81818182 -0.61212121 -1.         -0.75757576\n",
      "  -1.         -1.         -0.91515152 -0.57575758 -1.         -0.70909091\n",
      "  -0.40606061]]\n",
      "[[-0.86797255 -0.11515152 -0.66060606  0.81818182 -0.61212121 -1.\n",
      "  -0.75757576 -1.         -1.         -0.91515152 -0.57575758 -1.\n",
      "  -0.70909091]]\n",
      "[[ 0.29203671 -1.         -0.11515152 -0.66060606  0.81818182 -0.61212121\n",
      "  -1.         -0.75757576 -1.         -1.         -0.91515152 -0.57575758\n",
      "  -1.        ]]\n",
      "[[-0.02021605 -1.         -1.         -0.11515152 -0.66060606  0.81818182\n",
      "  -0.61212121 -1.         -0.75757576 -1.         -1.         -0.91515152\n",
      "  -0.57575758]]\n",
      "[[-0.23561789 -0.89090909 -1.         -1.         -0.11515152 -0.66060606\n",
      "   0.81818182 -0.61212121 -1.         -0.75757576 -1.         -1.\n",
      "  -0.91515152]]\n",
      "[[ 0.01636317 -0.40606061 -0.89090909 -1.         -1.         -0.11515152\n",
      "  -0.66060606  0.81818182 -0.61212121 -1.         -0.75757576 -1.\n",
      "  -1.        ]]\n",
      "[[-0.22710286 -0.22424242 -0.40606061 -0.89090909 -1.         -1.\n",
      "  -0.11515152 -0.66060606  0.81818182 -0.61212121 -1.         -0.75757576\n",
      "  -1.        ]]\n",
      "[[-0.59843904 -0.96363636 -0.22424242 -0.40606061 -0.89090909 -1.\n",
      "  -1.         -0.11515152 -0.66060606  0.81818182 -0.61212121 -1.\n",
      "  -0.75757576]]\n",
      "[[-1.04995036 -1.         -0.96363636 -0.22424242 -0.40606061 -0.89090909\n",
      "  -1.         -1.         -0.11515152 -0.66060606  0.81818182 -0.61212121\n",
      "  -1.        ]]\n",
      "[[-0.53005803 -1.         -1.         -0.96363636 -0.22424242 -0.40606061\n",
      "  -0.89090909 -1.         -1.         -0.11515152 -0.66060606  0.81818182\n",
      "  -0.61212121]]\n",
      "[[-0.2938326   0.38181818 -1.         -1.         -0.96363636 -0.22424242\n",
      "  -0.40606061 -0.89090909 -1.         -1.         -0.11515152 -0.66060606\n",
      "   0.81818182]]\n",
      "[[-0.71771753  0.26060606  0.38181818 -1.         -1.         -0.96363636\n",
      "  -0.22424242 -0.40606061 -0.89090909 -1.         -1.         -0.11515152\n",
      "  -0.66060606]]\n",
      "[[-1.46197391 -1.          0.26060606  0.38181818 -1.         -1.\n",
      "  -0.96363636 -0.22424242 -0.40606061 -0.89090909 -1.         -1.\n",
      "  -0.11515152]]\n",
      "[[-0.79440659 -0.83030303 -1.          0.26060606  0.38181818 -1.\n",
      "  -1.         -0.96363636 -0.22424242 -0.40606061 -0.89090909 -1.\n",
      "  -1.        ]]\n",
      "[[ 0.5712893  -0.26060606 -0.83030303 -1.          0.26060606  0.38181818\n",
      "  -1.         -1.         -0.96363636 -0.22424242 -0.40606061 -0.89090909\n",
      "  -1.        ]]\n",
      "[[-0.04458047 -0.86666667 -0.26060606 -0.83030303 -1.          0.26060606\n",
      "   0.38181818 -1.         -1.         -0.96363636 -0.22424242 -0.40606061\n",
      "  -0.89090909]]\n",
      "[[-0.20217359 -1.         -0.86666667 -0.26060606 -0.83030303 -1.\n",
      "   0.26060606  0.38181818 -1.         -1.         -0.96363636 -0.22424242\n",
      "  -0.40606061]]\n",
      "[[-0.70702076  0.53939394 -1.         -0.86666667 -0.26060606 -0.83030303\n",
      "  -1.          0.26060606  0.38181818 -1.         -1.         -0.96363636\n",
      "  -0.22424242]]\n",
      "[[-0.55694079 -0.84242424  0.53939394 -1.         -0.86666667 -0.26060606\n",
      "  -0.83030303 -1.          0.26060606  0.38181818 -1.         -1.\n",
      "  -0.96363636]]\n",
      "[[-0.56893373 -1.         -0.84242424  0.53939394 -1.         -0.86666667\n",
      "  -0.26060606 -0.83030303 -1.          0.26060606  0.38181818 -1.\n",
      "  -1.        ]]\n",
      "[[-0.54330236 -0.80606061 -1.         -0.84242424  0.53939394 -1.\n",
      "  -0.86666667 -0.26060606 -0.83030303 -1.          0.26060606  0.38181818\n",
      "  -1.        ]]\n",
      "[[-0.15872404 -1.         -0.80606061 -1.         -0.84242424  0.53939394\n",
      "  -1.         -0.86666667 -0.26060606 -0.83030303 -1.          0.26060606\n",
      "   0.38181818]]\n",
      "[[-0.51907367 -1.         -1.         -0.80606061 -1.         -0.84242424\n",
      "   0.53939394 -1.         -0.86666667 -0.26060606 -0.83030303 -1.\n",
      "   0.26060606]]\n",
      "[[-0.26873833  0.16363636 -1.         -1.         -0.80606061 -1.\n",
      "  -0.84242424  0.53939394 -1.         -0.86666667 -0.26060606 -0.83030303\n",
      "  -1.        ]]\n",
      "[[-0.23243749 -1.          0.16363636 -1.         -1.         -0.80606061\n",
      "  -1.         -0.84242424  0.53939394 -1.         -0.86666667 -0.26060606\n",
      "  -0.83030303]]\n",
      "[[-0.25242656  0.84242424 -1.          0.16363636 -1.         -1.\n",
      "  -0.80606061 -1.         -0.84242424  0.53939394 -1.         -0.86666667\n",
      "  -0.26060606]]\n",
      "[[-0.51398975 -1.          0.84242424 -1.          0.16363636 -1.\n",
      "  -1.         -0.80606061 -1.         -0.84242424  0.53939394 -1.\n",
      "  -0.86666667]]\n",
      "[[-0.24285243 -0.76969697 -1.          0.84242424 -1.          0.16363636\n",
      "  -1.         -1.         -0.80606061 -1.         -0.84242424  0.53939394\n",
      "  -1.        ]]\n",
      "[[ 0.38001341 -0.63636364 -0.76969697 -1.          0.84242424 -1.\n",
      "   0.16363636 -1.         -1.         -0.80606061 -1.         -0.84242424\n",
      "   0.53939394]]\n",
      "[[ 0.43962604 -1.         -0.63636364 -0.76969697 -1.          0.84242424\n",
      "  -1.          0.16363636 -1.         -1.         -0.80606061 -1.\n",
      "  -0.84242424]]\n",
      "[[-0.06010208 -0.52727273 -1.         -0.63636364 -0.76969697 -1.\n",
      "   0.84242424 -1.          0.16363636 -1.         -1.         -0.80606061\n",
      "  -1.        ]]\n",
      "[[-0.20726226 -1.         -0.52727273 -1.         -0.63636364 -0.76969697\n",
      "  -1.          0.84242424 -1.          0.16363636 -1.         -1.\n",
      "  -0.80606061]]\n",
      "[[-0.58058161 -0.04242424 -1.         -0.52727273 -1.         -0.63636364\n",
      "  -0.76969697 -1.          0.84242424 -1.          0.16363636 -1.\n",
      "  -1.        ]]\n",
      "[[-0.75587869 -1.         -0.04242424 -1.         -0.52727273 -1.\n",
      "  -0.63636364 -0.76969697 -1.          0.84242424 -1.          0.16363636\n",
      "  -1.        ]]\n",
      "[[-0.52289712 -0.27272727 -1.         -0.04242424 -1.         -0.52727273\n",
      "  -1.         -0.63636364 -0.76969697 -1.          0.84242424 -1.\n",
      "   0.16363636]]\n",
      "[[-0.33536416 -1.         -0.27272727 -1.         -0.04242424 -1.\n",
      "  -0.52727273 -1.         -0.63636364 -0.76969697 -1.          0.84242424\n",
      "  -1.        ]]\n"
     ]
    }
   ],
   "source": [
    "#reshape y_pred\n",
    "y_pred = y_pred.reshape(y_pred.shape[0], 1, y_pred.shape[1])\n",
    "#rebuild test set for inverse transform\n",
    "pred_test_set = []\n",
    "for index in range(0,len(y_pred)):\n",
    "    print(np.concatenate([y_pred[index],X_test[index]],axis=1))\n",
    "    pred_test_set.append(np.concatenate([y_pred[index],X_test[index]],axis=1))\n",
    "#reshape pred_test_set\n",
    "pred_test_set = np.array(pred_test_set)\n",
    "pred_test_set = pred_test_set.reshape(pred_test_set.shape[0], pred_test_set.shape[2])\n",
    "#inverse transform\n",
    "pred_test_set_inverted = scaler.inverse_transform(pred_test_set)"
   ]
  },
  {
   "cell_type": "code",
   "execution_count": 143,
   "id": "76433ea3",
   "metadata": {},
   "outputs": [],
   "source": [
    "#create dataframe that shows the predicted sales\n",
    "result_list = []\n",
    "bins_dates = list(train_df[-47:].data)\n",
    "used_number = list(train_df[-47:]['Numero_Bidoni_in_Economia_Domestica'])\n",
    "for index in range(0,len(pred_test_set_inverted)):\n",
    "    result_dict = {}\n",
    "    result_dict['pred_value'] = int(pred_test_set_inverted[index][0])\n",
    "    result_dict['data'] = bins_dates[index+1]\n",
    "    result_list.append(result_dict)\n",
    "df_result = pd.DataFrame(result_list)\n",
    "#for multistep prediction, replace act_sales with the predicted sales"
   ]
  },
  {
   "cell_type": "code",
   "execution_count": 95,
   "id": "baa8bb4c",
   "metadata": {
    "scrolled": true
   },
   "outputs": [
    {
     "data": {
      "text/html": [
       "<div>\n",
       "<style scoped>\n",
       "    .dataframe tbody tr th:only-of-type {\n",
       "        vertical-align: middle;\n",
       "    }\n",
       "\n",
       "    .dataframe tbody tr th {\n",
       "        vertical-align: top;\n",
       "    }\n",
       "\n",
       "    .dataframe thead th {\n",
       "        text-align: right;\n",
       "    }\n",
       "</style>\n",
       "<table border=\"1\" class=\"dataframe\">\n",
       "  <thead>\n",
       "    <tr style=\"text-align: right;\">\n",
       "      <th></th>\n",
       "      <th>pred_value</th>\n",
       "      <th>data</th>\n",
       "    </tr>\n",
       "  </thead>\n",
       "  <tbody>\n",
       "    <tr>\n",
       "      <th>0</th>\n",
       "      <td>-11</td>\n",
       "      <td>2019-04-21</td>\n",
       "    </tr>\n",
       "    <tr>\n",
       "      <th>1</th>\n",
       "      <td>27</td>\n",
       "      <td>2019-04-28</td>\n",
       "    </tr>\n",
       "    <tr>\n",
       "      <th>2</th>\n",
       "      <td>41</td>\n",
       "      <td>2019-05-05</td>\n",
       "    </tr>\n",
       "    <tr>\n",
       "      <th>3</th>\n",
       "      <td>40</td>\n",
       "      <td>2019-05-12</td>\n",
       "    </tr>\n",
       "    <tr>\n",
       "      <th>4</th>\n",
       "      <td>14</td>\n",
       "      <td>2019-05-19</td>\n",
       "    </tr>\n",
       "    <tr>\n",
       "      <th>5</th>\n",
       "      <td>2</td>\n",
       "      <td>2019-05-26</td>\n",
       "    </tr>\n",
       "    <tr>\n",
       "      <th>6</th>\n",
       "      <td>33</td>\n",
       "      <td>2019-06-02</td>\n",
       "    </tr>\n",
       "    <tr>\n",
       "      <th>7</th>\n",
       "      <td>54</td>\n",
       "      <td>2019-06-09</td>\n",
       "    </tr>\n",
       "    <tr>\n",
       "      <th>8</th>\n",
       "      <td>57</td>\n",
       "      <td>2019-06-16</td>\n",
       "    </tr>\n",
       "    <tr>\n",
       "      <th>9</th>\n",
       "      <td>2</td>\n",
       "      <td>2019-06-23</td>\n",
       "    </tr>\n",
       "    <tr>\n",
       "      <th>10</th>\n",
       "      <td>16</td>\n",
       "      <td>2019-06-30</td>\n",
       "    </tr>\n",
       "    <tr>\n",
       "      <th>11</th>\n",
       "      <td>34</td>\n",
       "      <td>2019-07-07</td>\n",
       "    </tr>\n",
       "    <tr>\n",
       "      <th>12</th>\n",
       "      <td>27</td>\n",
       "      <td>2019-07-14</td>\n",
       "    </tr>\n",
       "    <tr>\n",
       "      <th>13</th>\n",
       "      <td>36</td>\n",
       "      <td>2019-07-21</td>\n",
       "    </tr>\n",
       "    <tr>\n",
       "      <th>14</th>\n",
       "      <td>8</td>\n",
       "      <td>2019-07-28</td>\n",
       "    </tr>\n",
       "    <tr>\n",
       "      <th>15</th>\n",
       "      <td>26</td>\n",
       "      <td>2019-08-04</td>\n",
       "    </tr>\n",
       "    <tr>\n",
       "      <th>16</th>\n",
       "      <td>39</td>\n",
       "      <td>2019-08-11</td>\n",
       "    </tr>\n",
       "    <tr>\n",
       "      <th>17</th>\n",
       "      <td>33</td>\n",
       "      <td>2019-08-18</td>\n",
       "    </tr>\n",
       "    <tr>\n",
       "      <th>18</th>\n",
       "      <td>29</td>\n",
       "      <td>2019-08-25</td>\n",
       "    </tr>\n",
       "    <tr>\n",
       "      <th>19</th>\n",
       "      <td>1</td>\n",
       "      <td>2019-09-01</td>\n",
       "    </tr>\n",
       "    <tr>\n",
       "      <th>20</th>\n",
       "      <td>25</td>\n",
       "      <td>2019-09-08</td>\n",
       "    </tr>\n",
       "    <tr>\n",
       "      <th>21</th>\n",
       "      <td>16</td>\n",
       "      <td>2019-09-15</td>\n",
       "    </tr>\n",
       "    <tr>\n",
       "      <th>22</th>\n",
       "      <td>22</td>\n",
       "      <td>2019-09-22</td>\n",
       "    </tr>\n",
       "    <tr>\n",
       "      <th>23</th>\n",
       "      <td>21</td>\n",
       "      <td>2019-09-29</td>\n",
       "    </tr>\n",
       "    <tr>\n",
       "      <th>24</th>\n",
       "      <td>7</td>\n",
       "      <td>2019-10-06</td>\n",
       "    </tr>\n",
       "    <tr>\n",
       "      <th>25</th>\n",
       "      <td>19</td>\n",
       "      <td>2019-10-13</td>\n",
       "    </tr>\n",
       "    <tr>\n",
       "      <th>26</th>\n",
       "      <td>31</td>\n",
       "      <td>2019-10-20</td>\n",
       "    </tr>\n",
       "    <tr>\n",
       "      <th>27</th>\n",
       "      <td>30</td>\n",
       "      <td>2019-10-27</td>\n",
       "    </tr>\n",
       "    <tr>\n",
       "      <th>28</th>\n",
       "      <td>11</td>\n",
       "      <td>2019-11-03</td>\n",
       "    </tr>\n",
       "    <tr>\n",
       "      <th>29</th>\n",
       "      <td>11</td>\n",
       "      <td>2019-11-10</td>\n",
       "    </tr>\n",
       "    <tr>\n",
       "      <th>30</th>\n",
       "      <td>63</td>\n",
       "      <td>2019-11-17</td>\n",
       "    </tr>\n",
       "    <tr>\n",
       "      <th>31</th>\n",
       "      <td>28</td>\n",
       "      <td>2019-11-24</td>\n",
       "    </tr>\n",
       "    <tr>\n",
       "      <th>32</th>\n",
       "      <td>11</td>\n",
       "      <td>2019-12-01</td>\n",
       "    </tr>\n",
       "    <tr>\n",
       "      <th>33</th>\n",
       "      <td>36</td>\n",
       "      <td>2019-12-08</td>\n",
       "    </tr>\n",
       "    <tr>\n",
       "      <th>34</th>\n",
       "      <td>29</td>\n",
       "      <td>2019-12-15</td>\n",
       "    </tr>\n",
       "    <tr>\n",
       "      <th>35</th>\n",
       "      <td>22</td>\n",
       "      <td>2019-12-22</td>\n",
       "    </tr>\n",
       "    <tr>\n",
       "      <th>36</th>\n",
       "      <td>24</td>\n",
       "      <td>2019-12-29</td>\n",
       "    </tr>\n",
       "    <tr>\n",
       "      <th>37</th>\n",
       "      <td>68</td>\n",
       "      <td>2020-01-05</td>\n",
       "    </tr>\n",
       "    <tr>\n",
       "      <th>38</th>\n",
       "      <td>61</td>\n",
       "      <td>2020-01-12</td>\n",
       "    </tr>\n",
       "    <tr>\n",
       "      <th>39</th>\n",
       "      <td>60</td>\n",
       "      <td>2020-01-19</td>\n",
       "    </tr>\n",
       "    <tr>\n",
       "      <th>40</th>\n",
       "      <td>81</td>\n",
       "      <td>2020-01-26</td>\n",
       "    </tr>\n",
       "    <tr>\n",
       "      <th>41</th>\n",
       "      <td>30</td>\n",
       "      <td>2020-02-02</td>\n",
       "    </tr>\n",
       "    <tr>\n",
       "      <th>42</th>\n",
       "      <td>7</td>\n",
       "      <td>2020-02-09</td>\n",
       "    </tr>\n",
       "    <tr>\n",
       "      <th>43</th>\n",
       "      <td>29</td>\n",
       "      <td>2020-02-16</td>\n",
       "    </tr>\n",
       "    <tr>\n",
       "      <th>44</th>\n",
       "      <td>17</td>\n",
       "      <td>2020-02-23</td>\n",
       "    </tr>\n",
       "    <tr>\n",
       "      <th>45</th>\n",
       "      <td>51</td>\n",
       "      <td>2020-03-01</td>\n",
       "    </tr>\n",
       "  </tbody>\n",
       "</table>\n",
       "</div>"
      ],
      "text/plain": [
       "    pred_value        data\n",
       "0          -11  2019-04-21\n",
       "1           27  2019-04-28\n",
       "2           41  2019-05-05\n",
       "3           40  2019-05-12\n",
       "4           14  2019-05-19\n",
       "5            2  2019-05-26\n",
       "6           33  2019-06-02\n",
       "7           54  2019-06-09\n",
       "8           57  2019-06-16\n",
       "9            2  2019-06-23\n",
       "10          16  2019-06-30\n",
       "11          34  2019-07-07\n",
       "12          27  2019-07-14\n",
       "13          36  2019-07-21\n",
       "14           8  2019-07-28\n",
       "15          26  2019-08-04\n",
       "16          39  2019-08-11\n",
       "17          33  2019-08-18\n",
       "18          29  2019-08-25\n",
       "19           1  2019-09-01\n",
       "20          25  2019-09-08\n",
       "21          16  2019-09-15\n",
       "22          22  2019-09-22\n",
       "23          21  2019-09-29\n",
       "24           7  2019-10-06\n",
       "25          19  2019-10-13\n",
       "26          31  2019-10-20\n",
       "27          30  2019-10-27\n",
       "28          11  2019-11-03\n",
       "29          11  2019-11-10\n",
       "30          63  2019-11-17\n",
       "31          28  2019-11-24\n",
       "32          11  2019-12-01\n",
       "33          36  2019-12-08\n",
       "34          29  2019-12-15\n",
       "35          22  2019-12-22\n",
       "36          24  2019-12-29\n",
       "37          68  2020-01-05\n",
       "38          61  2020-01-12\n",
       "39          60  2020-01-19\n",
       "40          81  2020-01-26\n",
       "41          30  2020-02-02\n",
       "42           7  2020-02-09\n",
       "43          29  2020-02-16\n",
       "44          17  2020-02-23\n",
       "45          51  2020-03-01"
      ]
     },
     "execution_count": 95,
     "metadata": {},
     "output_type": "execute_result"
    }
   ],
   "source": [
    "df_result"
   ]
  },
  {
   "cell_type": "markdown",
   "id": "f520da2b",
   "metadata": {},
   "source": [
    "#### Plot of the bins required(prediction) vs actual bins required"
   ]
  },
  {
   "cell_type": "code",
   "execution_count": 144,
   "id": "1d925a6b",
   "metadata": {},
   "outputs": [
    {
     "data": {
      "application/vnd.plotly.v1+json": {
       "config": {
        "linkText": "Export to plot.ly",
        "plotlyServerURL": "https://plot.ly",
        "showLink": false
       },
       "data": [
        {
         "name": "actual",
         "type": "scatter",
         "x": [
          0,
          1,
          2,
          3,
          4,
          5,
          6,
          7,
          8,
          9,
          10,
          11,
          12,
          13,
          14,
          15,
          16,
          17,
          18,
          19,
          20,
          21,
          22,
          23,
          24,
          25,
          26,
          27,
          28,
          29,
          30,
          31,
          32,
          33,
          34,
          35,
          36,
          37,
          38,
          39,
          40,
          41,
          42,
          43,
          44,
          45,
          46,
          47,
          48,
          49,
          50,
          51,
          52,
          53,
          54,
          55,
          56,
          57,
          58,
          59,
          60,
          61,
          62,
          63,
          64,
          65,
          66,
          67,
          68,
          69,
          70,
          71,
          72,
          73,
          74,
          75,
          76,
          77,
          78,
          79,
          80,
          81,
          82,
          83,
          84,
          85,
          86,
          87,
          88,
          89,
          90,
          91,
          92,
          93,
          94,
          95,
          96,
          97,
          98,
          99,
          100,
          101,
          102,
          103,
          104,
          105,
          106,
          107,
          108,
          109,
          110,
          111,
          112,
          113,
          114,
          115,
          116,
          117,
          118,
          119,
          120,
          121,
          122,
          123,
          124,
          125,
          126,
          127,
          128,
          129,
          130,
          131,
          132,
          133,
          134,
          135,
          136,
          137,
          138,
          139,
          140,
          141,
          142,
          143,
          144,
          145,
          146,
          147,
          148,
          149,
          150,
          151,
          152,
          153,
          154,
          155,
          156,
          157,
          158,
          159,
          160,
          161,
          162,
          163,
          164,
          165
         ],
         "y": [
          140,
          0,
          122,
          52,
          32,
          27,
          112,
          125,
          0,
          2,
          99,
          0,
          65,
          104,
          0,
          0,
          45,
          0,
          110,
          0,
          95,
          56,
          127,
          34,
          0,
          0,
          0,
          34,
          61,
          111,
          62,
          0,
          0,
          24,
          35,
          109,
          28,
          0,
          0,
          0,
          85,
          9,
          23,
          3,
          60,
          0,
          1,
          0,
          38,
          40,
          43,
          46,
          20,
          0,
          9,
          116,
          40,
          0,
          4,
          0,
          82,
          0,
          36,
          82,
          70,
          6,
          0,
          9,
          7,
          40,
          65,
          92,
          86,
          0,
          0,
          89,
          165,
          0,
          0,
          0,
          44,
          34,
          49,
          31,
          60,
          18,
          0,
          0,
          0,
          101,
          0,
          62,
          22,
          0,
          60,
          87,
          0,
          0,
          63,
          0,
          72,
          139,
          40,
          7,
          0,
          126,
          59,
          35,
          39,
          38,
          147,
          86,
          77,
          44,
          0,
          64,
          0,
          35,
          49,
          24,
          0,
          35,
          7,
          0,
          0,
          20,
          0,
          32,
          150,
          28,
          73,
          0,
          0,
          9,
          49,
          64,
          3,
          0,
          0,
          114,
          104,
          0,
          14,
          61,
          11,
          0,
          127,
          13,
          0,
          16,
          0,
          0,
          96,
          0,
          152,
          0,
          19,
          30,
          0,
          39,
          0,
          79,
          0,
          60,
          0,
          60
         ]
        },
        {
         "name": "predicted",
         "type": "scatter",
         "x": [
          0,
          1,
          2,
          3,
          4,
          5,
          6,
          7,
          8,
          9,
          10,
          11,
          12,
          13,
          14,
          15,
          16,
          17,
          18,
          19,
          20,
          21,
          22,
          23,
          24,
          25,
          26,
          27,
          28,
          29,
          30,
          31,
          32,
          33,
          34,
          35,
          36,
          37,
          38,
          39,
          40,
          41,
          42,
          43,
          44,
          45
         ],
         "y": [
          18,
          16,
          6,
          26,
          17,
          26,
          69,
          32,
          48,
          34,
          -27,
          10,
          106,
          80,
          63,
          83,
          63,
          33,
          -4,
          38,
          58,
          23,
          -38,
          16,
          129,
          78,
          65,
          24,
          36,
          35,
          37,
          69,
          39,
          60,
          63,
          61,
          40,
          62,
          113,
          118,
          77,
          65,
          34,
          20,
          39,
          54
         ]
        }
       ],
       "layout": {
        "template": {
         "data": {
          "bar": [
           {
            "error_x": {
             "color": "#2a3f5f"
            },
            "error_y": {
             "color": "#2a3f5f"
            },
            "marker": {
             "line": {
              "color": "#E5ECF6",
              "width": 0.5
             },
             "pattern": {
              "fillmode": "overlay",
              "size": 10,
              "solidity": 0.2
             }
            },
            "type": "bar"
           }
          ],
          "barpolar": [
           {
            "marker": {
             "line": {
              "color": "#E5ECF6",
              "width": 0.5
             },
             "pattern": {
              "fillmode": "overlay",
              "size": 10,
              "solidity": 0.2
             }
            },
            "type": "barpolar"
           }
          ],
          "carpet": [
           {
            "aaxis": {
             "endlinecolor": "#2a3f5f",
             "gridcolor": "white",
             "linecolor": "white",
             "minorgridcolor": "white",
             "startlinecolor": "#2a3f5f"
            },
            "baxis": {
             "endlinecolor": "#2a3f5f",
             "gridcolor": "white",
             "linecolor": "white",
             "minorgridcolor": "white",
             "startlinecolor": "#2a3f5f"
            },
            "type": "carpet"
           }
          ],
          "choropleth": [
           {
            "colorbar": {
             "outlinewidth": 0,
             "ticks": ""
            },
            "type": "choropleth"
           }
          ],
          "contour": [
           {
            "colorbar": {
             "outlinewidth": 0,
             "ticks": ""
            },
            "colorscale": [
             [
              0,
              "#0d0887"
             ],
             [
              0.1111111111111111,
              "#46039f"
             ],
             [
              0.2222222222222222,
              "#7201a8"
             ],
             [
              0.3333333333333333,
              "#9c179e"
             ],
             [
              0.4444444444444444,
              "#bd3786"
             ],
             [
              0.5555555555555556,
              "#d8576b"
             ],
             [
              0.6666666666666666,
              "#ed7953"
             ],
             [
              0.7777777777777778,
              "#fb9f3a"
             ],
             [
              0.8888888888888888,
              "#fdca26"
             ],
             [
              1,
              "#f0f921"
             ]
            ],
            "type": "contour"
           }
          ],
          "contourcarpet": [
           {
            "colorbar": {
             "outlinewidth": 0,
             "ticks": ""
            },
            "type": "contourcarpet"
           }
          ],
          "heatmap": [
           {
            "colorbar": {
             "outlinewidth": 0,
             "ticks": ""
            },
            "colorscale": [
             [
              0,
              "#0d0887"
             ],
             [
              0.1111111111111111,
              "#46039f"
             ],
             [
              0.2222222222222222,
              "#7201a8"
             ],
             [
              0.3333333333333333,
              "#9c179e"
             ],
             [
              0.4444444444444444,
              "#bd3786"
             ],
             [
              0.5555555555555556,
              "#d8576b"
             ],
             [
              0.6666666666666666,
              "#ed7953"
             ],
             [
              0.7777777777777778,
              "#fb9f3a"
             ],
             [
              0.8888888888888888,
              "#fdca26"
             ],
             [
              1,
              "#f0f921"
             ]
            ],
            "type": "heatmap"
           }
          ],
          "heatmapgl": [
           {
            "colorbar": {
             "outlinewidth": 0,
             "ticks": ""
            },
            "colorscale": [
             [
              0,
              "#0d0887"
             ],
             [
              0.1111111111111111,
              "#46039f"
             ],
             [
              0.2222222222222222,
              "#7201a8"
             ],
             [
              0.3333333333333333,
              "#9c179e"
             ],
             [
              0.4444444444444444,
              "#bd3786"
             ],
             [
              0.5555555555555556,
              "#d8576b"
             ],
             [
              0.6666666666666666,
              "#ed7953"
             ],
             [
              0.7777777777777778,
              "#fb9f3a"
             ],
             [
              0.8888888888888888,
              "#fdca26"
             ],
             [
              1,
              "#f0f921"
             ]
            ],
            "type": "heatmapgl"
           }
          ],
          "histogram": [
           {
            "marker": {
             "pattern": {
              "fillmode": "overlay",
              "size": 10,
              "solidity": 0.2
             }
            },
            "type": "histogram"
           }
          ],
          "histogram2d": [
           {
            "colorbar": {
             "outlinewidth": 0,
             "ticks": ""
            },
            "colorscale": [
             [
              0,
              "#0d0887"
             ],
             [
              0.1111111111111111,
              "#46039f"
             ],
             [
              0.2222222222222222,
              "#7201a8"
             ],
             [
              0.3333333333333333,
              "#9c179e"
             ],
             [
              0.4444444444444444,
              "#bd3786"
             ],
             [
              0.5555555555555556,
              "#d8576b"
             ],
             [
              0.6666666666666666,
              "#ed7953"
             ],
             [
              0.7777777777777778,
              "#fb9f3a"
             ],
             [
              0.8888888888888888,
              "#fdca26"
             ],
             [
              1,
              "#f0f921"
             ]
            ],
            "type": "histogram2d"
           }
          ],
          "histogram2dcontour": [
           {
            "colorbar": {
             "outlinewidth": 0,
             "ticks": ""
            },
            "colorscale": [
             [
              0,
              "#0d0887"
             ],
             [
              0.1111111111111111,
              "#46039f"
             ],
             [
              0.2222222222222222,
              "#7201a8"
             ],
             [
              0.3333333333333333,
              "#9c179e"
             ],
             [
              0.4444444444444444,
              "#bd3786"
             ],
             [
              0.5555555555555556,
              "#d8576b"
             ],
             [
              0.6666666666666666,
              "#ed7953"
             ],
             [
              0.7777777777777778,
              "#fb9f3a"
             ],
             [
              0.8888888888888888,
              "#fdca26"
             ],
             [
              1,
              "#f0f921"
             ]
            ],
            "type": "histogram2dcontour"
           }
          ],
          "mesh3d": [
           {
            "colorbar": {
             "outlinewidth": 0,
             "ticks": ""
            },
            "type": "mesh3d"
           }
          ],
          "parcoords": [
           {
            "line": {
             "colorbar": {
              "outlinewidth": 0,
              "ticks": ""
             }
            },
            "type": "parcoords"
           }
          ],
          "pie": [
           {
            "automargin": true,
            "type": "pie"
           }
          ],
          "scatter": [
           {
            "marker": {
             "colorbar": {
              "outlinewidth": 0,
              "ticks": ""
             }
            },
            "type": "scatter"
           }
          ],
          "scatter3d": [
           {
            "line": {
             "colorbar": {
              "outlinewidth": 0,
              "ticks": ""
             }
            },
            "marker": {
             "colorbar": {
              "outlinewidth": 0,
              "ticks": ""
             }
            },
            "type": "scatter3d"
           }
          ],
          "scattercarpet": [
           {
            "marker": {
             "colorbar": {
              "outlinewidth": 0,
              "ticks": ""
             }
            },
            "type": "scattercarpet"
           }
          ],
          "scattergeo": [
           {
            "marker": {
             "colorbar": {
              "outlinewidth": 0,
              "ticks": ""
             }
            },
            "type": "scattergeo"
           }
          ],
          "scattergl": [
           {
            "marker": {
             "colorbar": {
              "outlinewidth": 0,
              "ticks": ""
             }
            },
            "type": "scattergl"
           }
          ],
          "scattermapbox": [
           {
            "marker": {
             "colorbar": {
              "outlinewidth": 0,
              "ticks": ""
             }
            },
            "type": "scattermapbox"
           }
          ],
          "scatterpolar": [
           {
            "marker": {
             "colorbar": {
              "outlinewidth": 0,
              "ticks": ""
             }
            },
            "type": "scatterpolar"
           }
          ],
          "scatterpolargl": [
           {
            "marker": {
             "colorbar": {
              "outlinewidth": 0,
              "ticks": ""
             }
            },
            "type": "scatterpolargl"
           }
          ],
          "scatterternary": [
           {
            "marker": {
             "colorbar": {
              "outlinewidth": 0,
              "ticks": ""
             }
            },
            "type": "scatterternary"
           }
          ],
          "surface": [
           {
            "colorbar": {
             "outlinewidth": 0,
             "ticks": ""
            },
            "colorscale": [
             [
              0,
              "#0d0887"
             ],
             [
              0.1111111111111111,
              "#46039f"
             ],
             [
              0.2222222222222222,
              "#7201a8"
             ],
             [
              0.3333333333333333,
              "#9c179e"
             ],
             [
              0.4444444444444444,
              "#bd3786"
             ],
             [
              0.5555555555555556,
              "#d8576b"
             ],
             [
              0.6666666666666666,
              "#ed7953"
             ],
             [
              0.7777777777777778,
              "#fb9f3a"
             ],
             [
              0.8888888888888888,
              "#fdca26"
             ],
             [
              1,
              "#f0f921"
             ]
            ],
            "type": "surface"
           }
          ],
          "table": [
           {
            "cells": {
             "fill": {
              "color": "#EBF0F8"
             },
             "line": {
              "color": "white"
             }
            },
            "header": {
             "fill": {
              "color": "#C8D4E3"
             },
             "line": {
              "color": "white"
             }
            },
            "type": "table"
           }
          ]
         },
         "layout": {
          "annotationdefaults": {
           "arrowcolor": "#2a3f5f",
           "arrowhead": 0,
           "arrowwidth": 1
          },
          "autotypenumbers": "strict",
          "coloraxis": {
           "colorbar": {
            "outlinewidth": 0,
            "ticks": ""
           }
          },
          "colorscale": {
           "diverging": [
            [
             0,
             "#8e0152"
            ],
            [
             0.1,
             "#c51b7d"
            ],
            [
             0.2,
             "#de77ae"
            ],
            [
             0.3,
             "#f1b6da"
            ],
            [
             0.4,
             "#fde0ef"
            ],
            [
             0.5,
             "#f7f7f7"
            ],
            [
             0.6,
             "#e6f5d0"
            ],
            [
             0.7,
             "#b8e186"
            ],
            [
             0.8,
             "#7fbc41"
            ],
            [
             0.9,
             "#4d9221"
            ],
            [
             1,
             "#276419"
            ]
           ],
           "sequential": [
            [
             0,
             "#0d0887"
            ],
            [
             0.1111111111111111,
             "#46039f"
            ],
            [
             0.2222222222222222,
             "#7201a8"
            ],
            [
             0.3333333333333333,
             "#9c179e"
            ],
            [
             0.4444444444444444,
             "#bd3786"
            ],
            [
             0.5555555555555556,
             "#d8576b"
            ],
            [
             0.6666666666666666,
             "#ed7953"
            ],
            [
             0.7777777777777778,
             "#fb9f3a"
            ],
            [
             0.8888888888888888,
             "#fdca26"
            ],
            [
             1,
             "#f0f921"
            ]
           ],
           "sequentialminus": [
            [
             0,
             "#0d0887"
            ],
            [
             0.1111111111111111,
             "#46039f"
            ],
            [
             0.2222222222222222,
             "#7201a8"
            ],
            [
             0.3333333333333333,
             "#9c179e"
            ],
            [
             0.4444444444444444,
             "#bd3786"
            ],
            [
             0.5555555555555556,
             "#d8576b"
            ],
            [
             0.6666666666666666,
             "#ed7953"
            ],
            [
             0.7777777777777778,
             "#fb9f3a"
            ],
            [
             0.8888888888888888,
             "#fdca26"
            ],
            [
             1,
             "#f0f921"
            ]
           ]
          },
          "colorway": [
           "#636efa",
           "#EF553B",
           "#00cc96",
           "#ab63fa",
           "#FFA15A",
           "#19d3f3",
           "#FF6692",
           "#B6E880",
           "#FF97FF",
           "#FECB52"
          ],
          "font": {
           "color": "#2a3f5f"
          },
          "geo": {
           "bgcolor": "white",
           "lakecolor": "white",
           "landcolor": "#E5ECF6",
           "showlakes": true,
           "showland": true,
           "subunitcolor": "white"
          },
          "hoverlabel": {
           "align": "left"
          },
          "hovermode": "closest",
          "mapbox": {
           "style": "light"
          },
          "paper_bgcolor": "white",
          "plot_bgcolor": "#E5ECF6",
          "polar": {
           "angularaxis": {
            "gridcolor": "white",
            "linecolor": "white",
            "ticks": ""
           },
           "bgcolor": "#E5ECF6",
           "radialaxis": {
            "gridcolor": "white",
            "linecolor": "white",
            "ticks": ""
           }
          },
          "scene": {
           "xaxis": {
            "backgroundcolor": "#E5ECF6",
            "gridcolor": "white",
            "gridwidth": 2,
            "linecolor": "white",
            "showbackground": true,
            "ticks": "",
            "zerolinecolor": "white"
           },
           "yaxis": {
            "backgroundcolor": "#E5ECF6",
            "gridcolor": "white",
            "gridwidth": 2,
            "linecolor": "white",
            "showbackground": true,
            "ticks": "",
            "zerolinecolor": "white"
           },
           "zaxis": {
            "backgroundcolor": "#E5ECF6",
            "gridcolor": "white",
            "gridwidth": 2,
            "linecolor": "white",
            "showbackground": true,
            "ticks": "",
            "zerolinecolor": "white"
           }
          },
          "shapedefaults": {
           "line": {
            "color": "#2a3f5f"
           }
          },
          "ternary": {
           "aaxis": {
            "gridcolor": "white",
            "linecolor": "white",
            "ticks": ""
           },
           "baxis": {
            "gridcolor": "white",
            "linecolor": "white",
            "ticks": ""
           },
           "bgcolor": "#E5ECF6",
           "caxis": {
            "gridcolor": "white",
            "linecolor": "white",
            "ticks": ""
           }
          },
          "title": {
           "x": 0.05
          },
          "xaxis": {
           "automargin": true,
           "gridcolor": "white",
           "linecolor": "white",
           "ticks": "",
           "title": {
            "standoff": 15
           },
           "zerolinecolor": "white",
           "zerolinewidth": 2
          },
          "yaxis": {
           "automargin": true,
           "gridcolor": "white",
           "linecolor": "white",
           "ticks": "",
           "title": {
            "standoff": 15
           },
           "zerolinecolor": "white",
           "zerolinewidth": 2
          }
         }
        },
        "title": {
         "text": "bins Prediction"
        }
       }
      },
      "text/html": [
       "<div>                            <div id=\"1c6e2944-23d7-4175-8fb5-4ae26927f58c\" class=\"plotly-graph-div\" style=\"height:525px; width:100%;\"></div>            <script type=\"text/javascript\">                require([\"plotly\"], function(Plotly) {                    window.PLOTLYENV=window.PLOTLYENV || {};                                    if (document.getElementById(\"1c6e2944-23d7-4175-8fb5-4ae26927f58c\")) {                    Plotly.newPlot(                        \"1c6e2944-23d7-4175-8fb5-4ae26927f58c\",                        [{\"name\":\"actual\",\"type\":\"scatter\",\"x\":[0,1,2,3,4,5,6,7,8,9,10,11,12,13,14,15,16,17,18,19,20,21,22,23,24,25,26,27,28,29,30,31,32,33,34,35,36,37,38,39,40,41,42,43,44,45,46,47,48,49,50,51,52,53,54,55,56,57,58,59,60,61,62,63,64,65,66,67,68,69,70,71,72,73,74,75,76,77,78,79,80,81,82,83,84,85,86,87,88,89,90,91,92,93,94,95,96,97,98,99,100,101,102,103,104,105,106,107,108,109,110,111,112,113,114,115,116,117,118,119,120,121,122,123,124,125,126,127,128,129,130,131,132,133,134,135,136,137,138,139,140,141,142,143,144,145,146,147,148,149,150,151,152,153,154,155,156,157,158,159,160,161,162,163,164,165],\"y\":[140,0,122,52,32,27,112,125,0,2,99,0,65,104,0,0,45,0,110,0,95,56,127,34,0,0,0,34,61,111,62,0,0,24,35,109,28,0,0,0,85,9,23,3,60,0,1,0,38,40,43,46,20,0,9,116,40,0,4,0,82,0,36,82,70,6,0,9,7,40,65,92,86,0,0,89,165,0,0,0,44,34,49,31,60,18,0,0,0,101,0,62,22,0,60,87,0,0,63,0,72,139,40,7,0,126,59,35,39,38,147,86,77,44,0,64,0,35,49,24,0,35,7,0,0,20,0,32,150,28,73,0,0,9,49,64,3,0,0,114,104,0,14,61,11,0,127,13,0,16,0,0,96,0,152,0,19,30,0,39,0,79,0,60,0,60]},{\"name\":\"predicted\",\"type\":\"scatter\",\"x\":[0,1,2,3,4,5,6,7,8,9,10,11,12,13,14,15,16,17,18,19,20,21,22,23,24,25,26,27,28,29,30,31,32,33,34,35,36,37,38,39,40,41,42,43,44,45],\"y\":[18,16,6,26,17,26,69,32,48,34,-27,10,106,80,63,83,63,33,-4,38,58,23,-38,16,129,78,65,24,36,35,37,69,39,60,63,61,40,62,113,118,77,65,34,20,39,54]}],                        {\"template\":{\"data\":{\"bar\":[{\"error_x\":{\"color\":\"#2a3f5f\"},\"error_y\":{\"color\":\"#2a3f5f\"},\"marker\":{\"line\":{\"color\":\"#E5ECF6\",\"width\":0.5},\"pattern\":{\"fillmode\":\"overlay\",\"size\":10,\"solidity\":0.2}},\"type\":\"bar\"}],\"barpolar\":[{\"marker\":{\"line\":{\"color\":\"#E5ECF6\",\"width\":0.5},\"pattern\":{\"fillmode\":\"overlay\",\"size\":10,\"solidity\":0.2}},\"type\":\"barpolar\"}],\"carpet\":[{\"aaxis\":{\"endlinecolor\":\"#2a3f5f\",\"gridcolor\":\"white\",\"linecolor\":\"white\",\"minorgridcolor\":\"white\",\"startlinecolor\":\"#2a3f5f\"},\"baxis\":{\"endlinecolor\":\"#2a3f5f\",\"gridcolor\":\"white\",\"linecolor\":\"white\",\"minorgridcolor\":\"white\",\"startlinecolor\":\"#2a3f5f\"},\"type\":\"carpet\"}],\"choropleth\":[{\"colorbar\":{\"outlinewidth\":0,\"ticks\":\"\"},\"type\":\"choropleth\"}],\"contour\":[{\"colorbar\":{\"outlinewidth\":0,\"ticks\":\"\"},\"colorscale\":[[0.0,\"#0d0887\"],[0.1111111111111111,\"#46039f\"],[0.2222222222222222,\"#7201a8\"],[0.3333333333333333,\"#9c179e\"],[0.4444444444444444,\"#bd3786\"],[0.5555555555555556,\"#d8576b\"],[0.6666666666666666,\"#ed7953\"],[0.7777777777777778,\"#fb9f3a\"],[0.8888888888888888,\"#fdca26\"],[1.0,\"#f0f921\"]],\"type\":\"contour\"}],\"contourcarpet\":[{\"colorbar\":{\"outlinewidth\":0,\"ticks\":\"\"},\"type\":\"contourcarpet\"}],\"heatmap\":[{\"colorbar\":{\"outlinewidth\":0,\"ticks\":\"\"},\"colorscale\":[[0.0,\"#0d0887\"],[0.1111111111111111,\"#46039f\"],[0.2222222222222222,\"#7201a8\"],[0.3333333333333333,\"#9c179e\"],[0.4444444444444444,\"#bd3786\"],[0.5555555555555556,\"#d8576b\"],[0.6666666666666666,\"#ed7953\"],[0.7777777777777778,\"#fb9f3a\"],[0.8888888888888888,\"#fdca26\"],[1.0,\"#f0f921\"]],\"type\":\"heatmap\"}],\"heatmapgl\":[{\"colorbar\":{\"outlinewidth\":0,\"ticks\":\"\"},\"colorscale\":[[0.0,\"#0d0887\"],[0.1111111111111111,\"#46039f\"],[0.2222222222222222,\"#7201a8\"],[0.3333333333333333,\"#9c179e\"],[0.4444444444444444,\"#bd3786\"],[0.5555555555555556,\"#d8576b\"],[0.6666666666666666,\"#ed7953\"],[0.7777777777777778,\"#fb9f3a\"],[0.8888888888888888,\"#fdca26\"],[1.0,\"#f0f921\"]],\"type\":\"heatmapgl\"}],\"histogram\":[{\"marker\":{\"pattern\":{\"fillmode\":\"overlay\",\"size\":10,\"solidity\":0.2}},\"type\":\"histogram\"}],\"histogram2d\":[{\"colorbar\":{\"outlinewidth\":0,\"ticks\":\"\"},\"colorscale\":[[0.0,\"#0d0887\"],[0.1111111111111111,\"#46039f\"],[0.2222222222222222,\"#7201a8\"],[0.3333333333333333,\"#9c179e\"],[0.4444444444444444,\"#bd3786\"],[0.5555555555555556,\"#d8576b\"],[0.6666666666666666,\"#ed7953\"],[0.7777777777777778,\"#fb9f3a\"],[0.8888888888888888,\"#fdca26\"],[1.0,\"#f0f921\"]],\"type\":\"histogram2d\"}],\"histogram2dcontour\":[{\"colorbar\":{\"outlinewidth\":0,\"ticks\":\"\"},\"colorscale\":[[0.0,\"#0d0887\"],[0.1111111111111111,\"#46039f\"],[0.2222222222222222,\"#7201a8\"],[0.3333333333333333,\"#9c179e\"],[0.4444444444444444,\"#bd3786\"],[0.5555555555555556,\"#d8576b\"],[0.6666666666666666,\"#ed7953\"],[0.7777777777777778,\"#fb9f3a\"],[0.8888888888888888,\"#fdca26\"],[1.0,\"#f0f921\"]],\"type\":\"histogram2dcontour\"}],\"mesh3d\":[{\"colorbar\":{\"outlinewidth\":0,\"ticks\":\"\"},\"type\":\"mesh3d\"}],\"parcoords\":[{\"line\":{\"colorbar\":{\"outlinewidth\":0,\"ticks\":\"\"}},\"type\":\"parcoords\"}],\"pie\":[{\"automargin\":true,\"type\":\"pie\"}],\"scatter\":[{\"marker\":{\"colorbar\":{\"outlinewidth\":0,\"ticks\":\"\"}},\"type\":\"scatter\"}],\"scatter3d\":[{\"line\":{\"colorbar\":{\"outlinewidth\":0,\"ticks\":\"\"}},\"marker\":{\"colorbar\":{\"outlinewidth\":0,\"ticks\":\"\"}},\"type\":\"scatter3d\"}],\"scattercarpet\":[{\"marker\":{\"colorbar\":{\"outlinewidth\":0,\"ticks\":\"\"}},\"type\":\"scattercarpet\"}],\"scattergeo\":[{\"marker\":{\"colorbar\":{\"outlinewidth\":0,\"ticks\":\"\"}},\"type\":\"scattergeo\"}],\"scattergl\":[{\"marker\":{\"colorbar\":{\"outlinewidth\":0,\"ticks\":\"\"}},\"type\":\"scattergl\"}],\"scattermapbox\":[{\"marker\":{\"colorbar\":{\"outlinewidth\":0,\"ticks\":\"\"}},\"type\":\"scattermapbox\"}],\"scatterpolar\":[{\"marker\":{\"colorbar\":{\"outlinewidth\":0,\"ticks\":\"\"}},\"type\":\"scatterpolar\"}],\"scatterpolargl\":[{\"marker\":{\"colorbar\":{\"outlinewidth\":0,\"ticks\":\"\"}},\"type\":\"scatterpolargl\"}],\"scatterternary\":[{\"marker\":{\"colorbar\":{\"outlinewidth\":0,\"ticks\":\"\"}},\"type\":\"scatterternary\"}],\"surface\":[{\"colorbar\":{\"outlinewidth\":0,\"ticks\":\"\"},\"colorscale\":[[0.0,\"#0d0887\"],[0.1111111111111111,\"#46039f\"],[0.2222222222222222,\"#7201a8\"],[0.3333333333333333,\"#9c179e\"],[0.4444444444444444,\"#bd3786\"],[0.5555555555555556,\"#d8576b\"],[0.6666666666666666,\"#ed7953\"],[0.7777777777777778,\"#fb9f3a\"],[0.8888888888888888,\"#fdca26\"],[1.0,\"#f0f921\"]],\"type\":\"surface\"}],\"table\":[{\"cells\":{\"fill\":{\"color\":\"#EBF0F8\"},\"line\":{\"color\":\"white\"}},\"header\":{\"fill\":{\"color\":\"#C8D4E3\"},\"line\":{\"color\":\"white\"}},\"type\":\"table\"}]},\"layout\":{\"annotationdefaults\":{\"arrowcolor\":\"#2a3f5f\",\"arrowhead\":0,\"arrowwidth\":1},\"autotypenumbers\":\"strict\",\"coloraxis\":{\"colorbar\":{\"outlinewidth\":0,\"ticks\":\"\"}},\"colorscale\":{\"diverging\":[[0,\"#8e0152\"],[0.1,\"#c51b7d\"],[0.2,\"#de77ae\"],[0.3,\"#f1b6da\"],[0.4,\"#fde0ef\"],[0.5,\"#f7f7f7\"],[0.6,\"#e6f5d0\"],[0.7,\"#b8e186\"],[0.8,\"#7fbc41\"],[0.9,\"#4d9221\"],[1,\"#276419\"]],\"sequential\":[[0.0,\"#0d0887\"],[0.1111111111111111,\"#46039f\"],[0.2222222222222222,\"#7201a8\"],[0.3333333333333333,\"#9c179e\"],[0.4444444444444444,\"#bd3786\"],[0.5555555555555556,\"#d8576b\"],[0.6666666666666666,\"#ed7953\"],[0.7777777777777778,\"#fb9f3a\"],[0.8888888888888888,\"#fdca26\"],[1.0,\"#f0f921\"]],\"sequentialminus\":[[0.0,\"#0d0887\"],[0.1111111111111111,\"#46039f\"],[0.2222222222222222,\"#7201a8\"],[0.3333333333333333,\"#9c179e\"],[0.4444444444444444,\"#bd3786\"],[0.5555555555555556,\"#d8576b\"],[0.6666666666666666,\"#ed7953\"],[0.7777777777777778,\"#fb9f3a\"],[0.8888888888888888,\"#fdca26\"],[1.0,\"#f0f921\"]]},\"colorway\":[\"#636efa\",\"#EF553B\",\"#00cc96\",\"#ab63fa\",\"#FFA15A\",\"#19d3f3\",\"#FF6692\",\"#B6E880\",\"#FF97FF\",\"#FECB52\"],\"font\":{\"color\":\"#2a3f5f\"},\"geo\":{\"bgcolor\":\"white\",\"lakecolor\":\"white\",\"landcolor\":\"#E5ECF6\",\"showlakes\":true,\"showland\":true,\"subunitcolor\":\"white\"},\"hoverlabel\":{\"align\":\"left\"},\"hovermode\":\"closest\",\"mapbox\":{\"style\":\"light\"},\"paper_bgcolor\":\"white\",\"plot_bgcolor\":\"#E5ECF6\",\"polar\":{\"angularaxis\":{\"gridcolor\":\"white\",\"linecolor\":\"white\",\"ticks\":\"\"},\"bgcolor\":\"#E5ECF6\",\"radialaxis\":{\"gridcolor\":\"white\",\"linecolor\":\"white\",\"ticks\":\"\"}},\"scene\":{\"xaxis\":{\"backgroundcolor\":\"#E5ECF6\",\"gridcolor\":\"white\",\"gridwidth\":2,\"linecolor\":\"white\",\"showbackground\":true,\"ticks\":\"\",\"zerolinecolor\":\"white\"},\"yaxis\":{\"backgroundcolor\":\"#E5ECF6\",\"gridcolor\":\"white\",\"gridwidth\":2,\"linecolor\":\"white\",\"showbackground\":true,\"ticks\":\"\",\"zerolinecolor\":\"white\"},\"zaxis\":{\"backgroundcolor\":\"#E5ECF6\",\"gridcolor\":\"white\",\"gridwidth\":2,\"linecolor\":\"white\",\"showbackground\":true,\"ticks\":\"\",\"zerolinecolor\":\"white\"}},\"shapedefaults\":{\"line\":{\"color\":\"#2a3f5f\"}},\"ternary\":{\"aaxis\":{\"gridcolor\":\"white\",\"linecolor\":\"white\",\"ticks\":\"\"},\"baxis\":{\"gridcolor\":\"white\",\"linecolor\":\"white\",\"ticks\":\"\"},\"bgcolor\":\"#E5ECF6\",\"caxis\":{\"gridcolor\":\"white\",\"linecolor\":\"white\",\"ticks\":\"\"}},\"title\":{\"x\":0.05},\"xaxis\":{\"automargin\":true,\"gridcolor\":\"white\",\"linecolor\":\"white\",\"ticks\":\"\",\"title\":{\"standoff\":15},\"zerolinecolor\":\"white\",\"zerolinewidth\":2},\"yaxis\":{\"automargin\":true,\"gridcolor\":\"white\",\"linecolor\":\"white\",\"ticks\":\"\",\"title\":{\"standoff\":15},\"zerolinecolor\":\"white\",\"zerolinewidth\":2}}},\"title\":{\"text\":\"bins Prediction\"}},                        {\"responsive\": true}                    ).then(function(){\n",
       "                            \n",
       "var gd = document.getElementById('1c6e2944-23d7-4175-8fb5-4ae26927f58c');\n",
       "var x = new MutationObserver(function (mutations, observer) {{\n",
       "        var display = window.getComputedStyle(gd).display;\n",
       "        if (!display || display === 'none') {{\n",
       "            console.log([gd, 'removed!']);\n",
       "            Plotly.purge(gd);\n",
       "            observer.disconnect();\n",
       "        }}\n",
       "}});\n",
       "\n",
       "// Listen for the removal of the full notebook cells\n",
       "var notebookContainer = gd.closest('#notebook-container');\n",
       "if (notebookContainer) {{\n",
       "    x.observe(notebookContainer, {childList: true});\n",
       "}}\n",
       "\n",
       "// Listen for the clearing of the current output cell\n",
       "var outputEl = gd.closest('.output');\n",
       "if (outputEl) {{\n",
       "    x.observe(outputEl, {childList: true});\n",
       "}}\n",
       "\n",
       "                        })                };                });            </script>        </div>"
      ]
     },
     "metadata": {},
     "output_type": "display_data"
    }
   ],
   "source": [
    "from chart_studio import plotly as py\n",
    "import plotly.offline as pyoff\n",
    "import plotly.graph_objs as go\n",
    "\n",
    "plot_data = [\n",
    "    go.Scatter(\n",
    "        x=np.arange(0, len(train_df['Numero_Bidoni_in_Economia_Domestica']), 1),\n",
    "        y=train_df['Numero_Bidoni_in_Economia_Domestica'],\n",
    "        name='actual'\n",
    "#         name='actual'\n",
    "    ),\n",
    "        go.Scatter(\n",
    "        x=np.arange(0, len(df_result['pred_value']), 1),\n",
    "        y=df_result['pred_value'],\n",
    "        name='predicted'\n",
    "    )\n",
    "    \n",
    "]\n",
    "plot_layout = go.Layout(\n",
    "        title='bins Prediction'\n",
    "    )\n",
    "fig = go.Figure(data=plot_data, layout=plot_layout)\n",
    "pyoff.iplot(fig)"
   ]
  },
  {
   "cell_type": "markdown",
   "id": "2c1e4eb2",
   "metadata": {},
   "source": [
    "#### we can see there is no dramatic differences in both the series."
   ]
  },
  {
   "cell_type": "code",
   "execution_count": 145,
   "id": "81b2e398",
   "metadata": {},
   "outputs": [],
   "source": [
    "# print (df.shape)\n",
    "# print (df.head())\n",
    "# print (df.columns)"
   ]
  },
  {
   "cell_type": "code",
   "execution_count": 146,
   "id": "520a2707",
   "metadata": {},
   "outputs": [],
   "source": [
    "# train_df "
   ]
  },
  {
   "cell_type": "code",
   "execution_count": 147,
   "id": "24246266",
   "metadata": {},
   "outputs": [],
   "source": [
    "# mask = np.random.choice([1, 0], df['Entrati In Economia Domestica'].shape, p=[.1, .9]).astype(bool)"
   ]
  },
  {
   "cell_type": "code",
   "execution_count": 148,
   "id": "f2e3281e",
   "metadata": {},
   "outputs": [],
   "source": [
    "# df['Entrati In Economia Domestica']"
   ]
  },
  {
   "cell_type": "code",
   "execution_count": 149,
   "id": "30e7df83",
   "metadata": {},
   "outputs": [],
   "source": [
    "# len(train_df)"
   ]
  },
  {
   "cell_type": "code",
   "execution_count": 150,
   "id": "d17e38cf",
   "metadata": {},
   "outputs": [],
   "source": [
    "# import numpy as np\n",
    "\n",
    "# a = np.random.randint(1, 200,size = n)\n",
    "# mask = np.random.choice([1, 0], a.shape, p=[.4, .6]).astype(bool)\n",
    "# a[mask] = 0"
   ]
  },
  {
   "cell_type": "code",
   "execution_count": 151,
   "id": "576c8acc",
   "metadata": {},
   "outputs": [],
   "source": [
    "# a\n"
   ]
  },
  {
   "cell_type": "code",
   "execution_count": 152,
   "id": "2f86fe5b",
   "metadata": {},
   "outputs": [],
   "source": [
    "#create dataframe for transformation from time series to supervised\n",
    "df_supervised = train_df.drop(['Numero_Bidoni_in_Economia_Domestica'],axis=1)\n",
    "#adding lags\n",
    "for inc in range(1,13):\n",
    "    field_name = 'lag_' + str(inc)\n",
    "    df_supervised[field_name] = train_df['Usciti_da_Economia_Domestica'].shift(inc)\n",
    "#drop null values\n",
    "df_supervised = df_supervised.dropna().reset_index(drop=True)\n",
    "\n"
   ]
  },
  {
   "cell_type": "code",
   "execution_count": 153,
   "id": "973ae4b9",
   "metadata": {},
   "outputs": [
    {
     "data": {
      "text/html": [
       "<div>\n",
       "<style scoped>\n",
       "    .dataframe tbody tr th:only-of-type {\n",
       "        vertical-align: middle;\n",
       "    }\n",
       "\n",
       "    .dataframe tbody tr th {\n",
       "        vertical-align: top;\n",
       "    }\n",
       "\n",
       "    .dataframe thead th {\n",
       "        text-align: right;\n",
       "    }\n",
       "</style>\n",
       "<table border=\"1\" class=\"dataframe\">\n",
       "  <thead>\n",
       "    <tr style=\"text-align: right;\">\n",
       "      <th></th>\n",
       "      <th>data</th>\n",
       "      <th>Entrati_In_Economia_Domestica</th>\n",
       "      <th>Usciti_da_Economia_Domestica</th>\n",
       "      <th>lag_1</th>\n",
       "      <th>lag_2</th>\n",
       "      <th>lag_3</th>\n",
       "      <th>lag_4</th>\n",
       "      <th>lag_5</th>\n",
       "      <th>lag_6</th>\n",
       "      <th>lag_7</th>\n",
       "      <th>lag_8</th>\n",
       "      <th>lag_9</th>\n",
       "      <th>lag_10</th>\n",
       "      <th>lag_11</th>\n",
       "      <th>lag_12</th>\n",
       "    </tr>\n",
       "  </thead>\n",
       "  <tbody>\n",
       "    <tr>\n",
       "      <th>0</th>\n",
       "      <td>2017-03-26</td>\n",
       "      <td>196</td>\n",
       "      <td>131</td>\n",
       "      <td>0</td>\n",
       "      <td>78</td>\n",
       "      <td>141</td>\n",
       "      <td>0</td>\n",
       "      <td>31</td>\n",
       "      <td>25</td>\n",
       "      <td>50</td>\n",
       "      <td>30</td>\n",
       "      <td>48</td>\n",
       "      <td>50</td>\n",
       "      <td>0</td>\n",
       "      <td>53</td>\n",
       "    </tr>\n",
       "    <tr>\n",
       "      <th>1</th>\n",
       "      <td>2017-04-02</td>\n",
       "      <td>157</td>\n",
       "      <td>53</td>\n",
       "      <td>131</td>\n",
       "      <td>0</td>\n",
       "      <td>78</td>\n",
       "      <td>141</td>\n",
       "      <td>0</td>\n",
       "      <td>31</td>\n",
       "      <td>25</td>\n",
       "      <td>50</td>\n",
       "      <td>30</td>\n",
       "      <td>48</td>\n",
       "      <td>50</td>\n",
       "      <td>0</td>\n",
       "    </tr>\n",
       "    <tr>\n",
       "      <th>2</th>\n",
       "      <td>2017-04-09</td>\n",
       "      <td>0</td>\n",
       "      <td>0</td>\n",
       "      <td>53</td>\n",
       "      <td>131</td>\n",
       "      <td>0</td>\n",
       "      <td>78</td>\n",
       "      <td>141</td>\n",
       "      <td>0</td>\n",
       "      <td>31</td>\n",
       "      <td>25</td>\n",
       "      <td>50</td>\n",
       "      <td>30</td>\n",
       "      <td>48</td>\n",
       "      <td>50</td>\n",
       "    </tr>\n",
       "    <tr>\n",
       "      <th>3</th>\n",
       "      <td>2017-04-16</td>\n",
       "      <td>0</td>\n",
       "      <td>0</td>\n",
       "      <td>0</td>\n",
       "      <td>53</td>\n",
       "      <td>131</td>\n",
       "      <td>0</td>\n",
       "      <td>78</td>\n",
       "      <td>141</td>\n",
       "      <td>0</td>\n",
       "      <td>31</td>\n",
       "      <td>25</td>\n",
       "      <td>50</td>\n",
       "      <td>30</td>\n",
       "      <td>48</td>\n",
       "    </tr>\n",
       "    <tr>\n",
       "      <th>4</th>\n",
       "      <td>2017-04-23</td>\n",
       "      <td>163</td>\n",
       "      <td>118</td>\n",
       "      <td>0</td>\n",
       "      <td>0</td>\n",
       "      <td>53</td>\n",
       "      <td>131</td>\n",
       "      <td>0</td>\n",
       "      <td>78</td>\n",
       "      <td>141</td>\n",
       "      <td>0</td>\n",
       "      <td>31</td>\n",
       "      <td>25</td>\n",
       "      <td>50</td>\n",
       "      <td>30</td>\n",
       "    </tr>\n",
       "    <tr>\n",
       "      <th>...</th>\n",
       "      <td>...</td>\n",
       "      <td>...</td>\n",
       "      <td>...</td>\n",
       "      <td>...</td>\n",
       "      <td>...</td>\n",
       "      <td>...</td>\n",
       "      <td>...</td>\n",
       "      <td>...</td>\n",
       "      <td>...</td>\n",
       "      <td>...</td>\n",
       "      <td>...</td>\n",
       "      <td>...</td>\n",
       "      <td>...</td>\n",
       "      <td>...</td>\n",
       "      <td>...</td>\n",
       "    </tr>\n",
       "    <tr>\n",
       "      <th>149</th>\n",
       "      <td>2020-02-02</td>\n",
       "      <td>175</td>\n",
       "      <td>96</td>\n",
       "      <td>0</td>\n",
       "      <td>127</td>\n",
       "      <td>0</td>\n",
       "      <td>47</td>\n",
       "      <td>74</td>\n",
       "      <td>0</td>\n",
       "      <td>47</td>\n",
       "      <td>0</td>\n",
       "      <td>31</td>\n",
       "      <td>0</td>\n",
       "      <td>0</td>\n",
       "      <td>83</td>\n",
       "    </tr>\n",
       "    <tr>\n",
       "      <th>150</th>\n",
       "      <td>2020-02-09</td>\n",
       "      <td>0</td>\n",
       "      <td>0</td>\n",
       "      <td>96</td>\n",
       "      <td>0</td>\n",
       "      <td>127</td>\n",
       "      <td>0</td>\n",
       "      <td>47</td>\n",
       "      <td>74</td>\n",
       "      <td>0</td>\n",
       "      <td>47</td>\n",
       "      <td>0</td>\n",
       "      <td>31</td>\n",
       "      <td>0</td>\n",
       "      <td>0</td>\n",
       "    </tr>\n",
       "    <tr>\n",
       "      <th>151</th>\n",
       "      <td>2020-02-16</td>\n",
       "      <td>146</td>\n",
       "      <td>86</td>\n",
       "      <td>0</td>\n",
       "      <td>96</td>\n",
       "      <td>0</td>\n",
       "      <td>127</td>\n",
       "      <td>0</td>\n",
       "      <td>47</td>\n",
       "      <td>74</td>\n",
       "      <td>0</td>\n",
       "      <td>47</td>\n",
       "      <td>0</td>\n",
       "      <td>31</td>\n",
       "      <td>0</td>\n",
       "    </tr>\n",
       "    <tr>\n",
       "      <th>152</th>\n",
       "      <td>2020-02-23</td>\n",
       "      <td>0</td>\n",
       "      <td>0</td>\n",
       "      <td>86</td>\n",
       "      <td>0</td>\n",
       "      <td>96</td>\n",
       "      <td>0</td>\n",
       "      <td>127</td>\n",
       "      <td>0</td>\n",
       "      <td>47</td>\n",
       "      <td>74</td>\n",
       "      <td>0</td>\n",
       "      <td>47</td>\n",
       "      <td>0</td>\n",
       "      <td>31</td>\n",
       "    </tr>\n",
       "    <tr>\n",
       "      <th>153</th>\n",
       "      <td>2020-03-01</td>\n",
       "      <td>107</td>\n",
       "      <td>47</td>\n",
       "      <td>0</td>\n",
       "      <td>86</td>\n",
       "      <td>0</td>\n",
       "      <td>96</td>\n",
       "      <td>0</td>\n",
       "      <td>127</td>\n",
       "      <td>0</td>\n",
       "      <td>47</td>\n",
       "      <td>74</td>\n",
       "      <td>0</td>\n",
       "      <td>47</td>\n",
       "      <td>0</td>\n",
       "    </tr>\n",
       "  </tbody>\n",
       "</table>\n",
       "<p>154 rows × 15 columns</p>\n",
       "</div>"
      ],
      "text/plain": [
       "           data  Entrati_In_Economia_Domestica  Usciti_da_Economia_Domestica  \\\n",
       "0    2017-03-26                            196                           131   \n",
       "1    2017-04-02                            157                            53   \n",
       "2    2017-04-09                              0                             0   \n",
       "3    2017-04-16                              0                             0   \n",
       "4    2017-04-23                            163                           118   \n",
       "..          ...                            ...                           ...   \n",
       "149  2020-02-02                            175                            96   \n",
       "150  2020-02-09                              0                             0   \n",
       "151  2020-02-16                            146                            86   \n",
       "152  2020-02-23                              0                             0   \n",
       "153  2020-03-01                            107                            47   \n",
       "\n",
       "     lag_1  lag_2  lag_3  lag_4  lag_5  lag_6  lag_7  lag_8  lag_9  lag_10  \\\n",
       "0        0     78    141      0     31     25     50     30     48      50   \n",
       "1      131      0     78    141      0     31     25     50     30      48   \n",
       "2       53    131      0     78    141      0     31     25     50      30   \n",
       "3        0     53    131      0     78    141      0     31     25      50   \n",
       "4        0      0     53    131      0     78    141      0     31      25   \n",
       "..     ...    ...    ...    ...    ...    ...    ...    ...    ...     ...   \n",
       "149      0    127      0     47     74      0     47      0     31       0   \n",
       "150     96      0    127      0     47     74      0     47      0      31   \n",
       "151      0     96      0    127      0     47     74      0     47       0   \n",
       "152     86      0     96      0    127      0     47     74      0      47   \n",
       "153      0     86      0     96      0    127      0     47     74       0   \n",
       "\n",
       "     lag_11  lag_12  \n",
       "0         0      53  \n",
       "1        50       0  \n",
       "2        48      50  \n",
       "3        30      48  \n",
       "4        50      30  \n",
       "..      ...     ...  \n",
       "149       0      83  \n",
       "150       0       0  \n",
       "151      31       0  \n",
       "152       0      31  \n",
       "153      47       0  \n",
       "\n",
       "[154 rows x 15 columns]"
      ]
     },
     "execution_count": 153,
     "metadata": {},
     "output_type": "execute_result"
    }
   ],
   "source": [
    "df_supervised"
   ]
  },
  {
   "cell_type": "code",
   "execution_count": 154,
   "id": "921b39c6",
   "metadata": {},
   "outputs": [],
   "source": [
    "#import MinMaxScaler and create a new dataframe for LSTM model\n",
    "from sklearn.preprocessing import MinMaxScaler\n",
    "df_model = df_supervised.drop(['Entrati_In_Economia_Domestica','data'],axis=1)\n",
    "#split train and test set\n",
    "train_set, test_set = df_model[0:-46].values, df_model[-46:].values"
   ]
  },
  {
   "cell_type": "code",
   "execution_count": 155,
   "id": "19fdcba7",
   "metadata": {},
   "outputs": [],
   "source": [
    "#create dataframe that shows the predicted sales\n",
    "result_list = []\n",
    "bins_dates = list(train_df[-47:].data)\n",
    "used_number = list(train_df[-47:]['Entrati_In_Economia_Domestica'])\n",
    "for index in range(0,len(pred_test_set_inverted)):\n",
    "    result_dict = {}\n",
    "    result_dict['pred_value'] = int(pred_test_set_inverted[index][0])\n",
    "    result_dict['data'] = bins_dates[index+1]\n",
    "    result_list.append(result_dict)\n",
    "df_result = pd.DataFrame(result_list)\n",
    "#for multistep prediction, replace act_sales with the predicted sales"
   ]
  }
 ],
 "metadata": {
  "kernelspec": {
   "display_name": "Python 3 (ipykernel)",
   "language": "python",
   "name": "python3"
  },
  "language_info": {
   "codemirror_mode": {
    "name": "ipython",
    "version": 3
   },
   "file_extension": ".py",
   "mimetype": "text/x-python",
   "name": "python",
   "nbconvert_exporter": "python",
   "pygments_lexer": "ipython3",
   "version": "3.9.7"
  }
 },
 "nbformat": 4,
 "nbformat_minor": 5
}
